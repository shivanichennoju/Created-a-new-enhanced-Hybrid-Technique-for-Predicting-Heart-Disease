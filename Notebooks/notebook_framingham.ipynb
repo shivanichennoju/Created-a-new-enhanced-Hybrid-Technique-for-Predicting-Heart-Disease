{
 "cells": [
  {
   "cell_type": "markdown",
   "metadata": {},
   "source": [
    "## Importing libraries"
   ]
  },
  {
   "cell_type": "code",
   "execution_count": 1,
   "metadata": {},
   "outputs": [],
   "source": [
    "import pandas as pd\n",
    "import numpy as np\n",
    "import seaborn as sns\n",
    "import matplotlib.pyplot as plt"
   ]
  },
  {
   "cell_type": "code",
   "execution_count": 2,
   "metadata": {},
   "outputs": [],
   "source": [
    "from sklearn.ensemble import RandomForestClassifier\n",
    "from sklearn.feature_selection import RFE\n",
    "from sklearn.impute import SimpleImputer\n",
    "from sklearn import svm\n",
    "from sklearn.linear_model import LogisticRegression\n",
    "\n",
    "from sklearn.model_selection import train_test_split\n",
    "from sklearn.model_selection import train_test_split,cross_val_score\n",
    "\n",
    "\n",
    "from sklearn.metrics import accuracy_score,mean_squared_error,confusion_matrix,log_loss\n",
    "\n",
    "\n",
    "from sklearn import tree,ensemble,metrics"
   ]
  },
  {
   "cell_type": "markdown",
   "metadata": {},
   "source": [
    "## To exclude warnings"
   ]
  },
  {
   "cell_type": "code",
   "execution_count": 3,
   "metadata": {},
   "outputs": [],
   "source": [
    "import warnings\n",
    "import random\n",
    "warnings.filterwarnings(\"ignore\")"
   ]
  },
  {
   "cell_type": "markdown",
   "metadata": {},
   "source": [
    "## Loading dataset"
   ]
  },
  {
   "cell_type": "code",
   "execution_count": 4,
   "metadata": {},
   "outputs": [],
   "source": [
    "data=pd.read_csv(\"framingham.csv\")"
   ]
  },
  {
   "cell_type": "markdown",
   "metadata": {},
   "source": [
    "## Attribute Information:"
   ]
  },
  {
   "cell_type": "raw",
   "metadata": {},
   "source": [
    "male : 0 = Female; 1 = Male\n",
    "age : Age at exam time\n",
    "education : 1 = Some High School; 2 = High School or GED; 3 = Some College or Vocational School; 4 = college\n",
    "currentSmoker : 0 = nonsmoker; 1 = smoker\n",
    "cigsPerDay : number of cigarettes smoked per day (estimated average)\n",
    "BPMeds : 0 = Not on Blood Pressure medications; 1 = Is on Blood Pressure medications\n",
    "prevalentStroke : 1 if patient experienced a stroke during the 12 years and 0 otherwise.\n",
    "prevalentHyp : 1 if patient has hypertension, which is defined to be Systolic greater than 140mmHg or Diastolic greater than 90mmHg.\n",
    "diabetes : 0 = No; 1 = Yes\n",
    "totChol : mg/dL\n",
    "sysBP : mmHg\n",
    "diaBP : mmHg\n",
    "BMI : Body Mass Index calculated as: Weight (kg) / Height(meter-squared)\n",
    "heartRate : Beats/Min (Ventricular)\n",
    "glucose : mg/dL\n",
    "TenYearCHD : "
   ]
  },
  {
   "cell_type": "code",
   "execution_count": 5,
   "metadata": {},
   "outputs": [
    {
     "data": {
      "text/plain": [
       "(4240, 16)"
      ]
     },
     "execution_count": 5,
     "metadata": {},
     "output_type": "execute_result"
    }
   ],
   "source": [
    "data.shape"
   ]
  },
  {
   "cell_type": "code",
   "execution_count": 6,
   "metadata": {},
   "outputs": [
    {
     "data": {
      "text/plain": [
       "0    3596\n",
       "1     644\n",
       "Name: TenYearCHD, dtype: int64"
      ]
     },
     "execution_count": 6,
     "metadata": {},
     "output_type": "execute_result"
    }
   ],
   "source": [
    "data.TenYearCHD.value_counts()"
   ]
  },
  {
   "cell_type": "code",
   "execution_count": 7,
   "metadata": {},
   "outputs": [
    {
     "data": {
      "text/plain": [
       "male                 int64\n",
       "age                  int64\n",
       "education          float64\n",
       "currentSmoker        int64\n",
       "cigsPerDay         float64\n",
       "BPMeds             float64\n",
       "prevalentStroke      int64\n",
       "prevalentHyp         int64\n",
       "diabetes             int64\n",
       "totChol            float64\n",
       "sysBP              float64\n",
       "diaBP              float64\n",
       "BMI                float64\n",
       "heartRate          float64\n",
       "glucose            float64\n",
       "TenYearCHD           int64\n",
       "dtype: object"
      ]
     },
     "execution_count": 7,
     "metadata": {},
     "output_type": "execute_result"
    }
   ],
   "source": [
    "data.dtypes"
   ]
  },
  {
   "cell_type": "markdown",
   "metadata": {},
   "source": [
    "### head"
   ]
  },
  {
   "cell_type": "code",
   "execution_count": 8,
   "metadata": {},
   "outputs": [
    {
     "name": "stdout",
     "output_type": "stream",
     "text": [
      "   male  age  education  currentSmoker  cigsPerDay  BPMeds  prevalentStroke  \\\n",
      "0     1   39        4.0              0         0.0     0.0                0   \n",
      "1     0   46        2.0              0         0.0     0.0                0   \n",
      "2     1   48        1.0              1        20.0     0.0                0   \n",
      "3     0   61        3.0              1        30.0     0.0                0   \n",
      "4     0   46        3.0              1        23.0     0.0                0   \n",
      "\n",
      "   prevalentHyp  diabetes  totChol  sysBP  diaBP    BMI  heartRate  glucose  \\\n",
      "0             0         0    195.0  106.0   70.0  26.97       80.0     77.0   \n",
      "1             0         0    250.0  121.0   81.0  28.73       95.0     76.0   \n",
      "2             0         0    245.0  127.5   80.0  25.34       75.0     70.0   \n",
      "3             1         0    225.0  150.0   95.0  28.58       65.0    103.0   \n",
      "4             0         0    285.0  130.0   84.0  23.10       85.0     85.0   \n",
      "\n",
      "   TenYearCHD  \n",
      "0           0  \n",
      "1           0  \n",
      "2           0  \n",
      "3           1  \n",
      "4           0  \n"
     ]
    }
   ],
   "source": [
    "print(data.head())"
   ]
  },
  {
   "cell_type": "markdown",
   "metadata": {},
   "source": [
    "### info "
   ]
  },
  {
   "cell_type": "code",
   "execution_count": 9,
   "metadata": {},
   "outputs": [
    {
     "name": "stdout",
     "output_type": "stream",
     "text": [
      "<class 'pandas.core.frame.DataFrame'>\n",
      "RangeIndex: 4240 entries, 0 to 4239\n",
      "Data columns (total 16 columns):\n",
      " #   Column           Non-Null Count  Dtype  \n",
      "---  ------           --------------  -----  \n",
      " 0   male             4240 non-null   int64  \n",
      " 1   age              4240 non-null   int64  \n",
      " 2   education        4135 non-null   float64\n",
      " 3   currentSmoker    4240 non-null   int64  \n",
      " 4   cigsPerDay       4211 non-null   float64\n",
      " 5   BPMeds           4187 non-null   float64\n",
      " 6   prevalentStroke  4240 non-null   int64  \n",
      " 7   prevalentHyp     4240 non-null   int64  \n",
      " 8   diabetes         4240 non-null   int64  \n",
      " 9   totChol          4190 non-null   float64\n",
      " 10  sysBP            4240 non-null   float64\n",
      " 11  diaBP            4240 non-null   float64\n",
      " 12  BMI              4221 non-null   float64\n",
      " 13  heartRate        4239 non-null   float64\n",
      " 14  glucose          3852 non-null   float64\n",
      " 15  TenYearCHD       4240 non-null   int64  \n",
      "dtypes: float64(9), int64(7)\n",
      "memory usage: 530.1 KB\n",
      "None\n"
     ]
    }
   ],
   "source": [
    "print(data.info())"
   ]
  },
  {
   "cell_type": "markdown",
   "metadata": {},
   "source": [
    "### describe"
   ]
  },
  {
   "cell_type": "code",
   "execution_count": 10,
   "metadata": {},
   "outputs": [
    {
     "name": "stdout",
     "output_type": "stream",
     "text": [
      "              male          age    education  currentSmoker   cigsPerDay  \\\n",
      "count  4240.000000  4240.000000  4135.000000    4240.000000  4211.000000   \n",
      "mean      0.429245    49.580189     1.979444       0.494104     9.005937   \n",
      "std       0.495027     8.572942     1.019791       0.500024    11.922462   \n",
      "min       0.000000    32.000000     1.000000       0.000000     0.000000   \n",
      "25%       0.000000    42.000000     1.000000       0.000000     0.000000   \n",
      "50%       0.000000    49.000000     2.000000       0.000000     0.000000   \n",
      "75%       1.000000    56.000000     3.000000       1.000000    20.000000   \n",
      "max       1.000000    70.000000     4.000000       1.000000    70.000000   \n",
      "\n",
      "            BPMeds  prevalentStroke  prevalentHyp     diabetes      totChol  \\\n",
      "count  4187.000000      4240.000000   4240.000000  4240.000000  4190.000000   \n",
      "mean      0.029615         0.005896      0.310613     0.025708   236.699523   \n",
      "std       0.169544         0.076569      0.462799     0.158280    44.591284   \n",
      "min       0.000000         0.000000      0.000000     0.000000   107.000000   \n",
      "25%       0.000000         0.000000      0.000000     0.000000   206.000000   \n",
      "50%       0.000000         0.000000      0.000000     0.000000   234.000000   \n",
      "75%       0.000000         0.000000      1.000000     0.000000   263.000000   \n",
      "max       1.000000         1.000000      1.000000     1.000000   696.000000   \n",
      "\n",
      "             sysBP        diaBP          BMI    heartRate      glucose  \\\n",
      "count  4240.000000  4240.000000  4221.000000  4239.000000  3852.000000   \n",
      "mean    132.354599    82.897759    25.800801    75.878981    81.963655   \n",
      "std      22.033300    11.910394     4.079840    12.025348    23.954335   \n",
      "min      83.500000    48.000000    15.540000    44.000000    40.000000   \n",
      "25%     117.000000    75.000000    23.070000    68.000000    71.000000   \n",
      "50%     128.000000    82.000000    25.400000    75.000000    78.000000   \n",
      "75%     144.000000    90.000000    28.040000    83.000000    87.000000   \n",
      "max     295.000000   142.500000    56.800000   143.000000   394.000000   \n",
      "\n",
      "        TenYearCHD  \n",
      "count  4240.000000  \n",
      "mean      0.151887  \n",
      "std       0.358953  \n",
      "min       0.000000  \n",
      "25%       0.000000  \n",
      "50%       0.000000  \n",
      "75%       0.000000  \n",
      "max       1.000000  \n"
     ]
    }
   ],
   "source": [
    "print(data.describe())"
   ]
  },
  {
   "cell_type": "markdown",
   "metadata": {},
   "source": [
    "### unique values of target column"
   ]
  },
  {
   "cell_type": "code",
   "execution_count": 11,
   "metadata": {},
   "outputs": [
    {
     "data": {
      "text/plain": [
       "array([0, 1], dtype=int64)"
      ]
     },
     "execution_count": 11,
     "metadata": {},
     "output_type": "execute_result"
    }
   ],
   "source": [
    "data.TenYearCHD.unique()"
   ]
  },
  {
   "cell_type": "code",
   "execution_count": 12,
   "metadata": {},
   "outputs": [
    {
     "data": {
      "text/plain": [
       "0    3596\n",
       "1     644\n",
       "Name: TenYearCHD, dtype: int64"
      ]
     },
     "execution_count": 12,
     "metadata": {},
     "output_type": "execute_result"
    }
   ],
   "source": [
    "data.TenYearCHD.value_counts()"
   ]
  },
  {
   "cell_type": "markdown",
   "metadata": {},
   "source": [
    "## Patients having heart disease"
   ]
  },
  {
   "cell_type": "code",
   "execution_count": 13,
   "metadata": {},
   "outputs": [
    {
     "data": {
      "image/png": "[encoded data removed]",
      "text/plain": [
       "<Figure size 432x288 with 1 Axes>"
      ]
     },
     "metadata": {
      "needs_background": "light"
     },
     "output_type": "display_data"
    }
   ],
   "source": [
    "sns.countplot(x=\"TenYearCHD\", data=data, palette=\"bwr\")\n",
    "plt.show()"
   ]
  },
  {
   "cell_type": "markdown",
   "metadata": {},
   "source": [
    "## checking null values values"
   ]
  },
  {
   "cell_type": "code",
   "execution_count": 14,
   "metadata": {},
   "outputs": [
    {
     "name": "stdout",
     "output_type": "stream",
     "text": [
      "male                 0\n",
      "age                  0\n",
      "education          105\n",
      "currentSmoker        0\n",
      "cigsPerDay          29\n",
      "BPMeds              53\n",
      "prevalentStroke      0\n",
      "prevalentHyp         0\n",
      "diabetes             0\n",
      "totChol             50\n",
      "sysBP                0\n",
      "diaBP                0\n",
      "BMI                 19\n",
      "heartRate            1\n",
      "glucose            388\n",
      "TenYearCHD           0\n",
      "dtype: int64\n"
     ]
    }
   ],
   "source": [
    "print(data.isnull().sum())"
   ]
  },
  {
   "cell_type": "markdown",
   "metadata": {},
   "source": [
    "# Preprocessing"
   ]
  },
  {
   "cell_type": "code",
   "execution_count": 15,
   "metadata": {},
   "outputs": [
    {
     "name": "stdout",
     "output_type": "stream",
     "text": [
      "1.0    1720\n",
      "2.0    1253\n",
      "3.0     689\n",
      "4.0     473\n",
      "Name: education, dtype: int64\n"
     ]
    }
   ],
   "source": [
    "print(data[\"education\"].value_counts())"
   ]
  },
  {
   "cell_type": "code",
   "execution_count": 16,
   "metadata": {},
   "outputs": [
    {
     "name": "stdout",
     "output_type": "stream",
     "text": [
      "0.0     2145\n",
      "20.0     734\n",
      "30.0     218\n",
      "15.0     210\n",
      "10.0     143\n",
      "9.0      130\n",
      "5.0      121\n",
      "3.0      100\n",
      "40.0      80\n",
      "1.0       67\n",
      "43.0      56\n",
      "25.0      55\n",
      "35.0      22\n",
      "6.0       18\n",
      "2.0       18\n",
      "7.0       12\n",
      "8.0       11\n",
      "60.0      11\n",
      "4.0        9\n",
      "18.0       8\n",
      "17.0       7\n",
      "50.0       6\n",
      "23.0       6\n",
      "11.0       5\n",
      "45.0       3\n",
      "16.0       3\n",
      "13.0       3\n",
      "12.0       3\n",
      "14.0       2\n",
      "19.0       2\n",
      "70.0       1\n",
      "38.0       1\n",
      "29.0       1\n",
      "Name: cigsPerDay, dtype: int64\n"
     ]
    }
   ],
   "source": [
    "print(data['cigsPerDay'].value_counts())"
   ]
  },
  {
   "cell_type": "code",
   "execution_count": 17,
   "metadata": {},
   "outputs": [
    {
     "name": "stdout",
     "output_type": "stream",
     "text": [
      "0.0    4063\n",
      "1.0     124\n",
      "Name: BPMeds, dtype: int64\n"
     ]
    }
   ],
   "source": [
    "print(data['BPMeds'].value_counts())"
   ]
  },
  {
   "cell_type": "code",
   "execution_count": 18,
   "metadata": {},
   "outputs": [
    {
     "name": "stdout",
     "output_type": "stream",
     "text": [
      "240.0    85\n",
      "220.0    70\n",
      "260.0    62\n",
      "210.0    61\n",
      "232.0    59\n",
      "         ..\n",
      "107.0     1\n",
      "338.0     1\n",
      "364.0     1\n",
      "398.0     1\n",
      "405.0     1\n",
      "Name: totChol, Length: 248, dtype: int64\n"
     ]
    }
   ],
   "source": [
    "print(data['totChol'].value_counts())"
   ]
  },
  {
   "cell_type": "code",
   "execution_count": 19,
   "metadata": {},
   "outputs": [
    {
     "name": "stdout",
     "output_type": "stream",
     "text": [
      "23.48    18\n",
      "22.19    18\n",
      "22.91    18\n",
      "22.54    18\n",
      "23.09    16\n",
      "         ..\n",
      "41.29     1\n",
      "31.40     1\n",
      "18.65     1\n",
      "19.50     1\n",
      "27.46     1\n",
      "Name: BMI, Length: 1364, dtype: int64\n"
     ]
    }
   ],
   "source": [
    "print(data['BMI'].value_counts())"
   ]
  },
  {
   "cell_type": "code",
   "execution_count": 20,
   "metadata": {},
   "outputs": [
    {
     "name": "stdout",
     "output_type": "stream",
     "text": [
      "75.0     563\n",
      "80.0     385\n",
      "70.0     305\n",
      "60.0     231\n",
      "85.0     228\n",
      "        ... \n",
      "143.0      1\n",
      "130.0      1\n",
      "51.0       1\n",
      "46.0       1\n",
      "97.0       1\n",
      "Name: heartRate, Length: 73, dtype: int64\n"
     ]
    }
   ],
   "source": [
    "print(data['heartRate'].value_counts())"
   ]
  },
  {
   "cell_type": "code",
   "execution_count": 21,
   "metadata": {},
   "outputs": [
    {
     "name": "stdout",
     "output_type": "stream",
     "text": [
      "75.0     193\n",
      "77.0     167\n",
      "73.0     156\n",
      "80.0     153\n",
      "70.0     152\n",
      "        ... \n",
      "297.0      1\n",
      "167.0      1\n",
      "202.0      1\n",
      "235.0      1\n",
      "274.0      1\n",
      "Name: glucose, Length: 143, dtype: int64\n"
     ]
    }
   ],
   "source": [
    "print(data['glucose'].value_counts())"
   ]
  },
  {
   "cell_type": "code",
   "execution_count": 22,
   "metadata": {},
   "outputs": [],
   "source": [
    "data['education'] = data.education.fillna(data.education.mean())\n",
    "data['cigsPerDay'] = data.cigsPerDay.fillna(data.cigsPerDay.mean())\n",
    "data['BPMeds'] = data.BPMeds.fillna(data.BPMeds.mean())\n",
    "data['totChol'] = data.totChol.fillna(data.totChol.mean())\n",
    "data['BMI'] = data.BMI.fillna(data.BMI.mean())\n",
    "data['heartRate'] = data.heartRate.fillna(data.heartRate.mean())\n",
    "\n",
    "data['glucose'] = data.glucose.fillna(data.glucose.mean())"
   ]
  },
  {
   "cell_type": "code",
   "execution_count": 23,
   "metadata": {},
   "outputs": [
    {
     "name": "stdout",
     "output_type": "stream",
     "text": [
      "male               0\n",
      "age                0\n",
      "education          0\n",
      "currentSmoker      0\n",
      "cigsPerDay         0\n",
      "BPMeds             0\n",
      "prevalentStroke    0\n",
      "prevalentHyp       0\n",
      "diabetes           0\n",
      "totChol            0\n",
      "sysBP              0\n",
      "diaBP              0\n",
      "BMI                0\n",
      "heartRate          0\n",
      "glucose            0\n",
      "TenYearCHD         0\n",
      "dtype: int64\n"
     ]
    }
   ],
   "source": [
    "print(data.isnull().sum())\n",
    "X = data.iloc[:,:-1].values\n",
    "y = data.iloc[:, 15].values\n",
    "X_train, X_test, y_train, y_test = train_test_split(X, y, test_size = 0.25, random_state =9)"
   ]
  },
  {
   "cell_type": "code",
   "execution_count": 24,
   "metadata": {},
   "outputs": [
    {
     "data": {
      "text/plain": [
       "0    3596\n",
       "1     644\n",
       "Name: TenYearCHD, dtype: int64"
      ]
     },
     "execution_count": 24,
     "metadata": {},
     "output_type": "execute_result"
    }
   ],
   "source": [
    "data.TenYearCHD.value_counts()"
   ]
  },
  {
   "cell_type": "markdown",
   "metadata": {},
   "source": [
    "# Feature extraction"
   ]
  },
  {
   "cell_type": "code",
   "execution_count": 25,
   "metadata": {},
   "outputs": [
    {
     "name": "stdout",
     "output_type": "stream",
     "text": [
      "Num Features: 1\n",
      "Selected Features: [False False False False False False False False False False False False\n",
      "  True False False]\n",
      "Feature Ranking: [10  6  9 12  8 13 15 11 14  3  2  5  1  7  4]\n"
     ]
    }
   ],
   "source": [
    "model = RandomForestClassifier()\n",
    "rfe = RFE(model, 1)\n",
    "fit = rfe.fit(X_train, y_train)\n",
    "print(\"Num Features: %d\" % fit.n_features_)\n",
    "print(\"Selected Features: %s\" % fit.support_)\n",
    "print(\"Feature Ranking: %s\" % fit.ranking_)"
   ]
  },
  {
   "cell_type": "markdown",
   "metadata": {},
   "source": [
    "### FEATURE RANKING"
   ]
  },
  {
   "cell_type": "code",
   "execution_count": 26,
   "metadata": {},
   "outputs": [
    {
     "data": {
      "text/html": [
       "<div>\n",
       "<style scoped>\n",
       "    .dataframe tbody tr th:only-of-type {\n",
       "        vertical-align: middle;\n",
       "    }\n",
       "\n",
       "    .dataframe tbody tr th {\n",
       "        vertical-align: top;\n",
       "    }\n",
       "\n",
       "    .dataframe thead th {\n",
       "        text-align: right;\n",
       "    }\n",
       "</style>\n",
       "<table border=\"1\" class=\"dataframe\">\n",
       "  <thead>\n",
       "    <tr style=\"text-align: right;\">\n",
       "      <th></th>\n",
       "      <th>rank</th>\n",
       "      <th>feature</th>\n",
       "    </tr>\n",
       "  </thead>\n",
       "  <tbody>\n",
       "    <tr>\n",
       "      <th>12</th>\n",
       "      <td>1</td>\n",
       "      <td>BMI</td>\n",
       "    </tr>\n",
       "    <tr>\n",
       "      <th>10</th>\n",
       "      <td>2</td>\n",
       "      <td>sysBP</td>\n",
       "    </tr>\n",
       "    <tr>\n",
       "      <th>9</th>\n",
       "      <td>3</td>\n",
       "      <td>totChol</td>\n",
       "    </tr>\n",
       "    <tr>\n",
       "      <th>14</th>\n",
       "      <td>4</td>\n",
       "      <td>glucose</td>\n",
       "    </tr>\n",
       "    <tr>\n",
       "      <th>11</th>\n",
       "      <td>5</td>\n",
       "      <td>diaBP</td>\n",
       "    </tr>\n",
       "    <tr>\n",
       "      <th>1</th>\n",
       "      <td>6</td>\n",
       "      <td>age</td>\n",
       "    </tr>\n",
       "    <tr>\n",
       "      <th>13</th>\n",
       "      <td>7</td>\n",
       "      <td>heartRate</td>\n",
       "    </tr>\n",
       "    <tr>\n",
       "      <th>4</th>\n",
       "      <td>8</td>\n",
       "      <td>cigsPerDay</td>\n",
       "    </tr>\n",
       "    <tr>\n",
       "      <th>2</th>\n",
       "      <td>9</td>\n",
       "      <td>education</td>\n",
       "    </tr>\n",
       "    <tr>\n",
       "      <th>0</th>\n",
       "      <td>10</td>\n",
       "      <td>male</td>\n",
       "    </tr>\n",
       "    <tr>\n",
       "      <th>7</th>\n",
       "      <td>11</td>\n",
       "      <td>prevalentHyp</td>\n",
       "    </tr>\n",
       "    <tr>\n",
       "      <th>3</th>\n",
       "      <td>12</td>\n",
       "      <td>currentSmoker</td>\n",
       "    </tr>\n",
       "    <tr>\n",
       "      <th>5</th>\n",
       "      <td>13</td>\n",
       "      <td>BPMeds</td>\n",
       "    </tr>\n",
       "    <tr>\n",
       "      <th>8</th>\n",
       "      <td>14</td>\n",
       "      <td>diabetes</td>\n",
       "    </tr>\n",
       "    <tr>\n",
       "      <th>6</th>\n",
       "      <td>15</td>\n",
       "      <td>prevalentStroke</td>\n",
       "    </tr>\n",
       "  </tbody>\n",
       "</table>\n",
       "</div>"
      ],
      "text/plain": [
       "    rank          feature\n",
       "12     1              BMI\n",
       "10     2            sysBP\n",
       "9      3          totChol\n",
       "14     4          glucose\n",
       "11     5            diaBP\n",
       "1      6              age\n",
       "13     7        heartRate\n",
       "4      8       cigsPerDay\n",
       "2      9        education\n",
       "0     10             male\n",
       "7     11     prevalentHyp\n",
       "3     12    currentSmoker\n",
       "5     13           BPMeds\n",
       "8     14         diabetes\n",
       "6     15  prevalentStroke"
      ]
     },
     "execution_count": 26,
     "metadata": {},
     "output_type": "execute_result"
    }
   ],
   "source": [
    "X=data[['male','age','education','currentSmoker','cigsPerDay','BPMeds','prevalentStroke','prevalentHyp','diabetes','totChol','sysBP','diaBP','BMI','heartRate','glucose','TenYearCHD']]\n",
    "feature_rank = pd.DataFrame(list(zip(fit.ranking_,X)),columns=['rank','feature'])\n",
    "feature_rank = feature_rank.sort_values(by ='rank')\n",
    "feature_rank"
   ]
  },
  {
   "cell_type": "markdown",
   "metadata": {},
   "source": [
    "## Training data"
   ]
  },
  {
   "cell_type": "code",
   "execution_count": 27,
   "metadata": {},
   "outputs": [],
   "source": [
    "y_values = data['TenYearCHD']\n",
    "\n",
    "# all features\n",
    "X = data.iloc[:,:-1].values\n",
    "\n",
    "\n",
    "#X=data[['male','age','education','currentSmoker','cigsPerDay','BPMeds','prevalentStroke','prevalentHyp','diabetes','totChol','sysBP','diaBP','BMI','heartRate','glucose','TenYearCHD']]\n",
    "\n",
    "\n",
    "X_train, X_test, y_train, y_test = train_test_split(X, y_values, test_size=0.3, random_state=42)\n"
   ]
  },
  {
   "cell_type": "code",
   "execution_count": 28,
   "metadata": {},
   "outputs": [
    {
     "name": "stdout",
     "output_type": "stream",
     "text": [
      "X_train.shape :  (2968, 15)\n",
      "X_test.shape :  (1272, 15)\n",
      "y_train.shape :  (2968,)\n",
      "y_test.shape :  (1272,)\n"
     ]
    }
   ],
   "source": [
    "print('X_train.shape : ',X_train.shape)\n",
    "print('X_test.shape : ',X_test.shape)\n",
    "print('y_train.shape : ',y_train.shape)\n",
    "print('y_test.shape : ',y_test.shape)"
   ]
  },
  {
   "cell_type": "markdown",
   "metadata": {},
   "source": [
    "## Naive bayes"
   ]
  },
  {
   "cell_type": "code",
   "execution_count": 29,
   "metadata": {},
   "outputs": [],
   "source": [
    "from sklearn.naive_bayes import BernoulliNB\n",
    "from sklearn.naive_bayes import GaussianNB\n",
    "classifier = GaussianNB()\n",
    "classifier.fit(X_train, y_train)\n",
    "\n",
    "# Predicting the Test set results\n",
    "nb_y_pred = classifier.predict(X_test)"
   ]
  },
  {
   "cell_type": "code",
   "execution_count": 30,
   "metadata": {},
   "outputs": [
    {
     "name": "stdout",
     "output_type": "stream",
     "text": [
      "Confusion Matrix\n",
      "[[1010   67]\n",
      " [ 151   44]]\n",
      "Accuracy                  :  82.86\n",
      "Classification Error Rate :  17.14\n",
      "specificity               :  39.64\n",
      "sensitivity or Recall     :  86.99\n",
      "Precision                 :  93.78\n",
      "f1 score                  :  90.26\n"
     ]
    }
   ],
   "source": [
    "conf_mat = confusion_matrix(y_test, nb_y_pred)\n",
    "\n",
    "print('Confusion Matrix')\n",
    "print(conf_mat)\n",
    "\n",
    "\n",
    "TP = conf_mat[0,0]\n",
    "TN = conf_mat[1,1]\n",
    "FP = conf_mat[0,1]\n",
    "FN = conf_mat[1,0]\n",
    "\n",
    "\n",
    "accuracyn = round( ((TP+TN)/(TP+TN+FP+FN))*100 ,2)\n",
    "errorn = round((100 - accuracyn),2)\n",
    "\n",
    "specificityn = round ( ((TN) / (TN + FP))*100,2 )\n",
    "sensitivityn = round ( ((TP) / (TP+FN))*100 ,2 )\n",
    "Recalln = round( ((TP)/(TP+FN))*100 , 2) #sensitivity\n",
    "Precisionn = round( ((TP)/(TP+FP))*100 ,2 )\n",
    "f1_scoren = round( ((2*Precisionn*Recalln)/(Precisionn+Recalln)) ,2 )\n",
    "\n",
    "\n",
    "print(\"Accuracy                  : \",accuracyn)\n",
    "print('Classification Error Rate : ', errorn)\n",
    "print('specificity               : ',specificityn)\n",
    "print('sensitivity or Recall     : ',sensitivityn)\n",
    "print('Precision                 : ',Precisionn)\n",
    "print('f1 score                  : ',f1_scoren)\n"
   ]
  },
  {
   "cell_type": "markdown",
   "metadata": {},
   "source": [
    "## Logistic Regression"
   ]
  },
  {
   "cell_type": "code",
   "execution_count": 31,
   "metadata": {},
   "outputs": [],
   "source": [
    "from sklearn.linear_model import LogisticRegression\n",
    "\n",
    "clf = LogisticRegression()\n",
    "clf.fit(X_train, y_train)\n",
    "lr_pred = clf.predict(X_test)"
   ]
  },
  {
   "cell_type": "code",
   "execution_count": 32,
   "metadata": {},
   "outputs": [
    {
     "name": "stdout",
     "output_type": "stream",
     "text": [
      "Confusion Matrix\n",
      "[[1074    3]\n",
      " [ 189    6]]\n",
      "Accuracy                  :  84.91\n",
      "Classification Error Rate :  15.09\n",
      "specificity               :  66.67\n",
      "sensitivity or Recall     :  85.04\n",
      "Precision                 :  99.72\n",
      "f1 score                  :  91.8\n"
     ]
    }
   ],
   "source": [
    "conf_mat = confusion_matrix(y_test, lr_pred)\n",
    "\n",
    "print('Confusion Matrix')\n",
    "print(conf_mat)\n",
    "\n",
    "TP = conf_mat[0,0]\n",
    "TN = conf_mat[1,1]\n",
    "FP = conf_mat[0,1]\n",
    "FN = conf_mat[1,0]\n",
    "\n",
    "accuracyl = round( ((TP+TN)/(TP+TN+FP+FN))*100 , 2 )\n",
    "errorl = round ( 100 - accuracyl ,2)\n",
    "\n",
    "specificityl = round ( ((TN) / (TN + FP))*100 ,2)\n",
    "sensitivityl = round ( ((TP) / (TP+FN))*100 ,2)\n",
    "Recalll = round ( ((TP)/(TP+FN))*100 ,2) #sensitivity\n",
    "Precisionl = round ( ( (TP)/(TP+FP) )*100 ,2)\n",
    "f1_scorel = round ( ( (2*Precisionl*Recalll)/(Precisionl+Recalll) ) ,2)\n",
    "\n",
    "print(\"Accuracy                  : \",accuracyl)\n",
    "print('Classification Error Rate : ', errorl)\n",
    "print('specificity               : ',specificityl)\n",
    "print('sensitivity or Recall     : ',sensitivityl)\n",
    "print('Precision                 : ',Precisionl)\n",
    "print('f1 score                  : ',f1_scorel)"
   ]
  },
  {
   "cell_type": "markdown",
   "metadata": {},
   "source": [
    "## Decision Tree"
   ]
  },
  {
   "cell_type": "code",
   "execution_count": 33,
   "metadata": {},
   "outputs": [],
   "source": [
    "from sklearn.tree import DecisionTreeClassifier\n",
    "classifier = DecisionTreeClassifier(criterion='gini')\n",
    "classifier.fit(X_train, y_train)\n",
    "\n",
    "# Predicting the Test set results\n",
    "DT_y_pred = classifier.predict(X_test)"
   ]
  },
  {
   "cell_type": "code",
   "execution_count": 34,
   "metadata": {},
   "outputs": [
    {
     "name": "stdout",
     "output_type": "stream",
     "text": [
      "Confusion Matrix\n",
      "[[919 158]\n",
      " [142  53]]\n",
      "Accuracy                  :  76.42\n",
      "Classification Error Rate :  23.58\n",
      "specificity               :  25.12\n",
      "sensitivity or Recall     :  86.62\n",
      "Precision                 :  85.33\n",
      "f1 score                  :  85.97\n"
     ]
    }
   ],
   "source": [
    "conf_mat = confusion_matrix(y_test, DT_y_pred)\n",
    "\n",
    "print('Confusion Matrix')\n",
    "print(conf_mat)\n",
    "\n",
    "TP = conf_mat[0,0]\n",
    "TN = conf_mat[1,1]\n",
    "FP = conf_mat[0,1]\n",
    "FN = conf_mat[1,0]\n",
    "\n",
    "accuracyd = round (((TP+TN)/(TP+TN+FP+FN))*100 ,2)\n",
    "errord = round (100 - accuracyd ,2)\n",
    "\n",
    "specificityd =  round (((TN) / (TN + FP))*100 ,2)\n",
    "sensitivityd =  round (((TP) / (TP+FN))*100 ,2)\n",
    "Recalld =  round (((TP)/(TP+FN))*100 ,2) #sensitivity\n",
    "Precisiond =  round (((TP)/(TP+FP))*100 ,2)\n",
    "f1_scored =  round (((2*Precisiond*Recalld)/(Precisiond+Recalld)) ,2)\n",
    "\n",
    "print(\"Accuracy                  : \",accuracyd)\n",
    "print('Classification Error Rate : ', errord)\n",
    "print('specificity               : ',specificityd)\n",
    "print('sensitivity or Recall     : ',sensitivityd)\n",
    "print('Precision                 : ',Precisiond)\n",
    "print('f1 score                  : ',f1_scored)"
   ]
  },
  {
   "cell_type": "markdown",
   "metadata": {},
   "source": [
    "## Random Forest"
   ]
  },
  {
   "cell_type": "code",
   "execution_count": 35,
   "metadata": {},
   "outputs": [],
   "source": [
    "from sklearn.ensemble import RandomForestClassifier\n",
    "classifier = RandomForestClassifier(n_estimators = 10)\n",
    "classifier.fit(X_train, y_train)\n",
    "\n",
    "# Predicting the Test set results\n",
    "RF_y_pred = classifier.predict(X_test)"
   ]
  },
  {
   "cell_type": "code",
   "execution_count": 36,
   "metadata": {},
   "outputs": [
    {
     "name": "stdout",
     "output_type": "stream",
     "text": [
      "Confusion Matrix\n",
      "[[1058   19]\n",
      " [ 179   16]]\n",
      "Accuracy                  :  84.43\n",
      "Classification Error Rate :  15.57\n",
      "specificity               :  45.71\n",
      "sensitivity or Recall     :  85.53\n",
      "Precision                 :  98.24\n",
      "f1 score                  :  91.45\n"
     ]
    }
   ],
   "source": [
    "conf_mat = confusion_matrix(y_test, RF_y_pred)\n",
    "\n",
    "print('Confusion Matrix')\n",
    "print(conf_mat)\n",
    "\n",
    "TP = conf_mat[0,0]\n",
    "TN = conf_mat[1,1]\n",
    "FP = conf_mat[0,1]\n",
    "FN = conf_mat[1,0]\n",
    "\n",
    "accuracyr = round( ((TP+TN)/(TP+TN+FP+FN))*100 ,2)\n",
    "errorr = round( 100 - accuracyr ,2)\n",
    "\n",
    "specificityr =  round( ((TN) / (TN + FP))*100 ,2)\n",
    "sensitivityr =  round( ((TP) / (TP+FN))*100 ,2)\n",
    "Recallr =  round( ((TP)/(TP+FN))*100 ,2) #sensitivity\n",
    "Precisionr =  round( ((TP)/(TP+FP))*100 ,2)\n",
    "f1_scorer =  round( ((2*Precisionr*Recallr)/(Precisionr+Recallr)) ,2)\n",
    "\n",
    "print(\"Accuracy                  : \",accuracyr)\n",
    "print('Classification Error Rate : ', errorr)\n",
    "print('specificity               : ',specificityr)\n",
    "print('sensitivity or Recall     : ',sensitivityr)\n",
    "print('Precision                 : ',Precisionr)\n",
    "print('f1 score                  : ',f1_scorer)"
   ]
  },
  {
   "cell_type": "markdown",
   "metadata": {},
   "source": [
    "## SVM"
   ]
  },
  {
   "cell_type": "code",
   "execution_count": 37,
   "metadata": {},
   "outputs": [],
   "source": [
    "from sklearn.svm import SVC\n",
    "classifier = SVC(kernel = 'linear')\n",
    "classifier.fit(X_train, y_train)\n",
    "\n",
    "# Predicting the Test set results\n",
    "svm_y_pred = classifier.predict(X_test)"
   ]
  },
  {
   "cell_type": "code",
   "execution_count": 38,
   "metadata": {},
   "outputs": [
    {
     "name": "stdout",
     "output_type": "stream",
     "text": [
      "Confusion Matrix\n",
      "[[1077    0]\n",
      " [ 195    0]]\n",
      "Accuracy                  :  84.67\n",
      "Classification Error Rate :  15.33\n",
      "specificity               :  nan\n",
      "sensitivity or Recall     :  84.67\n",
      "Precision                 :  100.0\n",
      "f1 score                  :  91.7\n"
     ]
    }
   ],
   "source": [
    "conf_mat = confusion_matrix(y_test, svm_y_pred)\n",
    "\n",
    "print('Confusion Matrix')\n",
    "print(conf_mat)\n",
    "\n",
    "TP = conf_mat[0,0]\n",
    "TN = conf_mat[1,1]\n",
    "FP = conf_mat[0,1]\n",
    "FN = conf_mat[1,0]\n",
    "\n",
    "accuracys = round ( ((TP+TN)/(TP+TN+FP+FN))*100 ,2)\n",
    "errors =  round ( 100 - accuracys ,2)\n",
    "\n",
    "specificitys =  round ( ((TN) / (TN + FP))*100 ,2)\n",
    "sensitivitys =  round ( ((TP) / (TP+FN))*100 ,2)\n",
    "Recalls =  round ( ((TP)/(TP+FN))*100 ,2) #sensitivity\n",
    "Precisions =  round ( ((TP)/(TP+FP))*100 ,2)\n",
    "f1_scores =  round ( ((2*Precisions*Recalls)/(Precisions+Recalls)) ,2)\n",
    "\n",
    "print(\"Accuracy                  : \",accuracys)\n",
    "print('Classification Error Rate : ', errors)\n",
    "print('specificity               : ',specificitys)\n",
    "print('sensitivity or Recall     : ',sensitivitys)\n",
    "print('Precision                 : ',Precisions)\n",
    "print('f1 score                  : ',f1_scores)\n"
   ]
  },
  {
   "cell_type": "markdown",
   "metadata": {},
   "source": [
    "## KNN"
   ]
  },
  {
   "cell_type": "code",
   "execution_count": 39,
   "metadata": {},
   "outputs": [],
   "source": [
    "from sklearn.neighbors import KNeighborsClassifier\n",
    "k_range=range(1,30)\n",
    "scores={}\n",
    "scores_list=[]\n",
    "for k in k_range:\n",
    "    knn=KNeighborsClassifier(n_neighbors = k)\n",
    "    knn = knn.fit(X_train,y_train)\n",
    "    y_pred = knn.predict(X_test)\n",
    "    scores[k]=metrics.accuracy_score(y_test,y_pred)\n",
    "    scores_list.append(metrics.accuracy_score(y_test,y_pred))\n"
   ]
  },
  {
   "cell_type": "code",
   "execution_count": 40,
   "metadata": {},
   "outputs": [
    {
     "data": {
      "image/png": "[encoded data removed]",
      "text/plain": [
       "<Figure size 432x288 with 1 Axes>"
      ]
     },
     "metadata": {
      "needs_background": "light"
     },
     "output_type": "display_data"
    }
   ],
   "source": [
    "%matplotlib inline\n",
    "plt.plot(k_range,scores_list)\n",
    "plt.xlabel('value of k')\n",
    "plt.ylabel('Accuracy')\n",
    "plt.show()"
   ]
  },
  {
   "cell_type": "code",
   "execution_count": 41,
   "metadata": {},
   "outputs": [],
   "source": [
    "knn = KNeighborsClassifier(n_neighbors = 15, metric = 'minkowski', p = 2)\n",
    "knn = knn.fit(X_train,y_train)\n",
    "knn_y_pred = knn.predict(X_test)"
   ]
  },
  {
   "cell_type": "code",
   "execution_count": 42,
   "metadata": {},
   "outputs": [
    {
     "name": "stdout",
     "output_type": "stream",
     "text": [
      "Confusion Matrix\n",
      "[[1071    6]\n",
      " [ 187    8]]\n",
      "Accuracy                  :  84.83\n",
      "Classification Error Rate :  15.17\n",
      "specificity               :  57.14\n",
      "sensitivity or Recall     :  85.14\n",
      "Precision                 :  99.44\n",
      "f1 score                  :  91.74\n"
     ]
    }
   ],
   "source": [
    "conf_mat = confusion_matrix(y_test, knn_y_pred)\n",
    "\n",
    "print('Confusion Matrix')\n",
    "print(conf_mat)\n",
    "\n",
    "TP = conf_mat[0,0]\n",
    "TN = conf_mat[1,1]\n",
    "FP = conf_mat[0,1]\n",
    "FN = conf_mat[1,0]\n",
    "\n",
    "accuracyk =  round( ((TP+TN)/(TP+TN+FP+FN))*100 , 2)\n",
    "errork =  round( 100 - accuracyk , 2)\n",
    "\n",
    "specificityk =  round( ((TN) / (TN + FP))*100 , 2)\n",
    "sensitivityk =  round( ((TP) / (TP+FN))*100 , 2)\n",
    "Recallk =  round( ((TP)/(TP+FN))*100 , 2) #sensitivity\n",
    "Precisionk =  round( ((TP)/(TP+FP))*100 , 2)\n",
    "f1_scorek =  round( ((2*Precisionk*Recallk)/(Precisionk+Recallk)) , 2)\n",
    "\n",
    "print(\"Accuracy                  : \",accuracyk)\n",
    "print('Classification Error Rate : ', errork)\n",
    "print('specificity               : ',specificityk)\n",
    "print('sensitivity or Recall     : ',sensitivityk)\n",
    "print('Precision                 : ',Precisionk)\n",
    "print('f1 score                  : ',f1_scorek)"
   ]
  },
  {
   "cell_type": "markdown",
   "metadata": {},
   "source": [
    "## Voting Classifier"
   ]
  },
  {
   "cell_type": "code",
   "execution_count": 43,
   "metadata": {},
   "outputs": [],
   "source": [
    "table1={'Algorithm':['Logistic Regression','Random Forest','Naive Bayes','Decision Tree','SVM','KNN'],\n",
    "    'Accuracy':[accuracyl,accuracyr,accuracyn,accuracyd,accuracys,accuracyk],\n",
    "       'Classification Error Rate':[errorl,errorr,errorn,errord,errors,errork],\n",
    "        'Specificity':[specificityl,specificityr,specificityn,specificityd,specificitys,specificityk],\n",
    "        'Sensitivity':[sensitivityl,sensitivityr,sensitivityn,sensitivityd,sensitivitys,sensitivityk],\n",
    "        'Precision': [Precisionl,Precisionr,Precisionn,Precisiond,Precisions,Precisionk]\n",
    "}"
   ]
  },
  {
   "cell_type": "code",
   "execution_count": 44,
   "metadata": {},
   "outputs": [],
   "source": [
    "table2=pd.DataFrame(table1,columns=['Algorithm','Accuracy','Classification Error Rate','Specificity','Sensitivity','Precision'])"
   ]
  },
  {
   "cell_type": "code",
   "execution_count": 45,
   "metadata": {},
   "outputs": [
    {
     "data": {
      "text/html": [
       "<div>\n",
       "<style scoped>\n",
       "    .dataframe tbody tr th:only-of-type {\n",
       "        vertical-align: middle;\n",
       "    }\n",
       "\n",
       "    .dataframe tbody tr th {\n",
       "        vertical-align: top;\n",
       "    }\n",
       "\n",
       "    .dataframe thead th {\n",
       "        text-align: right;\n",
       "    }\n",
       "</style>\n",
       "<table border=\"1\" class=\"dataframe\">\n",
       "  <thead>\n",
       "    <tr style=\"text-align: right;\">\n",
       "      <th></th>\n",
       "      <th>Algorithm</th>\n",
       "      <th>Accuracy</th>\n",
       "      <th>Classification Error Rate</th>\n",
       "      <th>Specificity</th>\n",
       "      <th>Sensitivity</th>\n",
       "      <th>Precision</th>\n",
       "    </tr>\n",
       "  </thead>\n",
       "  <tbody>\n",
       "    <tr>\n",
       "      <th>0</th>\n",
       "      <td>Logistic Regression</td>\n",
       "      <td>84.91</td>\n",
       "      <td>15.09</td>\n",
       "      <td>66.67</td>\n",
       "      <td>85.04</td>\n",
       "      <td>99.72</td>\n",
       "    </tr>\n",
       "    <tr>\n",
       "      <th>5</th>\n",
       "      <td>KNN</td>\n",
       "      <td>84.83</td>\n",
       "      <td>15.17</td>\n",
       "      <td>57.14</td>\n",
       "      <td>85.14</td>\n",
       "      <td>99.44</td>\n",
       "    </tr>\n",
       "    <tr>\n",
       "      <th>4</th>\n",
       "      <td>SVM</td>\n",
       "      <td>84.67</td>\n",
       "      <td>15.33</td>\n",
       "      <td>NaN</td>\n",
       "      <td>84.67</td>\n",
       "      <td>100.00</td>\n",
       "    </tr>\n",
       "    <tr>\n",
       "      <th>1</th>\n",
       "      <td>Random Forest</td>\n",
       "      <td>84.43</td>\n",
       "      <td>15.57</td>\n",
       "      <td>45.71</td>\n",
       "      <td>85.53</td>\n",
       "      <td>98.24</td>\n",
       "    </tr>\n",
       "    <tr>\n",
       "      <th>2</th>\n",
       "      <td>Naive Bayes</td>\n",
       "      <td>82.86</td>\n",
       "      <td>17.14</td>\n",
       "      <td>39.64</td>\n",
       "      <td>86.99</td>\n",
       "      <td>93.78</td>\n",
       "    </tr>\n",
       "    <tr>\n",
       "      <th>3</th>\n",
       "      <td>Decision Tree</td>\n",
       "      <td>76.42</td>\n",
       "      <td>23.58</td>\n",
       "      <td>25.12</td>\n",
       "      <td>86.62</td>\n",
       "      <td>85.33</td>\n",
       "    </tr>\n",
       "  </tbody>\n",
       "</table>\n",
       "</div>"
      ],
      "text/plain": [
       "             Algorithm  Accuracy  Classification Error Rate  Specificity  \\\n",
       "0  Logistic Regression     84.91                      15.09        66.67   \n",
       "5                  KNN     84.83                      15.17        57.14   \n",
       "4                  SVM     84.67                      15.33          NaN   \n",
       "1        Random Forest     84.43                      15.57        45.71   \n",
       "2          Naive Bayes     82.86                      17.14        39.64   \n",
       "3        Decision Tree     76.42                      23.58        25.12   \n",
       "\n",
       "   Sensitivity  Precision  \n",
       "0        85.04      99.72  \n",
       "5        85.14      99.44  \n",
       "4        84.67     100.00  \n",
       "1        85.53      98.24  \n",
       "2        86.99      93.78  \n",
       "3        86.62      85.33  "
      ]
     },
     "execution_count": 45,
     "metadata": {},
     "output_type": "execute_result"
    }
   ],
   "source": [
    "table2=table2.sort_values(by ='Classification Error Rate')\n",
    "table2"
   ]
  },
  {
   "cell_type": "markdown",
   "metadata": {},
   "source": [
    "## Voting Classifier"
   ]
  },
  {
   "cell_type": "code",
   "execution_count": 46,
   "metadata": {},
   "outputs": [
    {
     "name": "stdout",
     "output_type": "stream",
     "text": [
      "Accuracy Score : 84.91\n"
     ]
    }
   ],
   "source": [
    "from sklearn.ensemble import VotingClassifier\n",
    "\n",
    "clf1 = LogisticRegression(random_state=1)\n",
    "clf2 = RandomForestClassifier(n_estimators=50, random_state=1)\n",
    "clf3 = BernoulliNB()\n",
    "eclf = VotingClassifier(estimators=[('lr', clf1), ('rf', clf2),('nb',clf3)],voting='hard')\n",
    "eclf.fit(X_train, y_train) \n",
    "y_pred = eclf.predict(X_test) \n",
    "  \n",
    "# using accuracy_score metric to predict accuracy \n",
    "print ('Accuracy Score :', round( accuracy_score(y_test, y_pred)*100 , 2) )\n"
   ]
  },
  {
   "cell_type": "markdown",
   "metadata": {},
   "source": [
    "### EnsembleVoteClassifier"
   ]
  },
  {
   "cell_type": "code",
   "execution_count": 47,
   "metadata": {},
   "outputs": [],
   "source": [
    "from mlxtend.classifier import EnsembleVoteClassifier\n",
    "from sklearn.metrics import classification_report\n",
    "\n",
    "logclf=LogisticRegression(penalty='l2',C=10, random_state=0)\n",
    "treeclf=RandomForestClassifier(max_depth=3,criterion='entropy',random_state=0)\n",
    "nb=BernoulliNB()\n",
    "\n",
    "mv_clf= EnsembleVoteClassifier(clfs=[logclf,treeclf,nb],weights=[71,68,65])\n",
    "mv_clf.fit(X_train,y_train)\n",
    "v_y_pred=mv_clf.predict(X_test)"
   ]
  },
  {
   "cell_type": "code",
   "execution_count": 48,
   "metadata": {},
   "outputs": [
    {
     "name": "stdout",
     "output_type": "stream",
     "text": [
      "Confusion Matrix\n",
      "[[1076    1]\n",
      " [ 188    7]]\n",
      "Accuracy                  :  85.14\n",
      "Classification Error Rate :  14.86\n",
      "specificity               :  87.5\n",
      "sensitivity or Recall     :  85.13\n",
      "Precision                 :  99.91\n",
      "f1 score                  :  91.93\n"
     ]
    }
   ],
   "source": [
    "conf_mat = confusion_matrix(y_test, v_y_pred)\n",
    "\n",
    "print('Confusion Matrix')\n",
    "print(conf_mat)\n",
    "\n",
    "TP = conf_mat[0,0]\n",
    "TN = conf_mat[1,1]\n",
    "FP = conf_mat[0,1]\n",
    "FN = conf_mat[1,0]\n",
    "\n",
    "accuracyv = round( ((TP+TN)/(TP+TN+FP+FN))*100 , 2)\n",
    "errorv = round( 100 - accuracyv , 2)\n",
    "\n",
    "specificityv = round( ((TN) / (TN + FP))*100 , 2)\n",
    "sensitivityv = round( ((TP) / (TP+FN))*100 , 2)\n",
    "Recallv = round( ((TP)/(TP+FN))*100 , 2) #sensitivity\n",
    "Precisionv = round(  ((TP)/(TP+FP))*100 , 2)\n",
    "f1_scorev = round( ((2*Precisionv*Recallv)/(Precisionv+Recallv)) , 2)\n",
    "\n",
    "print(\"Accuracy                  : \",accuracyv)\n",
    "print('Classification Error Rate : ', errorv)\n",
    "print('specificity               : ',specificityv)\n",
    "print('sensitivity or Recall     : ',sensitivityv)\n",
    "print('Precision                 : ',Precisionv)\n",
    "print('f1 score                  : ',f1_scorev)\n"
   ]
  },
  {
   "cell_type": "markdown",
   "metadata": {},
   "source": [
    "## Gradient boosting"
   ]
  },
  {
   "cell_type": "code",
   "execution_count": 49,
   "metadata": {},
   "outputs": [],
   "source": [
    "from sklearn.ensemble import GradientBoostingClassifier\n",
    "gbc = GradientBoostingClassifier()\n",
    "gbc.fit(X_train, y_train)\n",
    "gb_y_pred = gbc.predict(X_test)\n"
   ]
  },
  {
   "cell_type": "code",
   "execution_count": 50,
   "metadata": {},
   "outputs": [
    {
     "name": "stdout",
     "output_type": "stream",
     "text": [
      "Confusion Matrix\n",
      "[[1058   19]\n",
      " [ 178   17]]\n",
      "Accuracy                  :  84.51\n",
      "Classification Error Rate :  15.49\n",
      "specificity               :  47.22\n",
      "sensitivity or Recall     :  85.6\n",
      "Precision                 :  98.24\n",
      "f1 score                  :  91.49\n"
     ]
    }
   ],
   "source": [
    "conf_mat = confusion_matrix(y_test, gb_y_pred)\n",
    "print('Confusion Matrix')\n",
    "print(conf_mat)\n",
    "\n",
    "TP = conf_mat[0,0]\n",
    "TN = conf_mat[1,1]\n",
    "FP = conf_mat[0,1]\n",
    "FN = conf_mat[1,0]\n",
    "\n",
    "accuracyb = round ( ((TP+TN)/(TP+TN+FP+FN))*100 , 2)\n",
    "errorb = round ( 100 - accuracyb , 2)\n",
    "\n",
    "specificityb = round (  ((TN) / (TN + FP))*100 , 2)\n",
    "sensitivityb = round (  ((TP) / (TP+FN))*100 , 2)\n",
    "Recallb = round ( ((TP)/(TP+FN))*100 , 2) #sensitivity\n",
    "Precisionb = round ( ((TP)/(TP+FP))*100 , 2)\n",
    "f1_scoreb = round ( ((2*Precisionb*Recallb)/(Precisionb+Recallb)) , 2)\n",
    "\n",
    "print(\"Accuracy                  : \",accuracyb)\n",
    "print('Classification Error Rate : ', errorb)\n",
    "print('specificity               : ',specificityb)\n",
    "print('sensitivity or Recall     : ',sensitivityb)\n",
    "print('Precision                 : ',Precisionb)\n",
    "print('f1 score                  : ',f1_scoreb)"
   ]
  },
  {
   "cell_type": "markdown",
   "metadata": {},
   "source": [
    "## Adaboost"
   ]
  },
  {
   "cell_type": "code",
   "execution_count": 51,
   "metadata": {},
   "outputs": [],
   "source": [
    "from sklearn.ensemble import AdaBoostClassifier\n",
    "\n",
    "classifier = AdaBoostClassifier(DecisionTreeClassifier(max_depth=2),n_estimators=100)\n",
    "classifier.fit(X_train, y_train)\n",
    "ada_y_pred=classifier.predict(X_test)"
   ]
  },
  {
   "cell_type": "code",
   "execution_count": 52,
   "metadata": {},
   "outputs": [
    {
     "name": "stdout",
     "output_type": "stream",
     "text": [
      "Confusion Matrix\n",
      "[[1007   70]\n",
      " [ 164   31]]\n",
      "Accuracy                  :  81.6\n",
      "Classification Error Rate :  18.4\n",
      "specificity               :  30.69\n",
      "sensitivity or Recall     :  85.99\n",
      "Precision                 :  93.5\n",
      "f1 score                  :  89.59\n"
     ]
    }
   ],
   "source": [
    "conf_mat = confusion_matrix(y_test, ada_y_pred)\n",
    "\n",
    "print('Confusion Matrix')\n",
    "print(conf_mat)\n",
    "\n",
    "TP = conf_mat[0,0]\n",
    "TN = conf_mat[1,1]\n",
    "FP = conf_mat[0,1]\n",
    "FN = conf_mat[1,0]\n",
    "\n",
    "accuracya = round ( ((TP+TN)/(TP+TN+FP+FN))*100 , 2)\n",
    "errora = round ( 100 - accuracya , 2)\n",
    "\n",
    "specificitya = round ( ((TN) / (TN + FP))*100 , 2)\n",
    "sensitivitya = round ( ((TP) / (TP+FN))*100 , 2)\n",
    "Recalla = round ( ((TP)/(TP+FN))*100 , 2) #sensitivity\n",
    "Precisiona = round ( ((TP)/(TP+FP))*100 , 2)\n",
    "f1_scorea = round ( ((2*Precisiona*Recalla)/(Precisiona+Recalla)) , 2)\n",
    "\n",
    "print(\"Accuracy                  : \",accuracya)\n",
    "print('Classification Error Rate : ', errora)\n",
    "print('specificity               : ',specificitya)\n",
    "print('sensitivity or Recall     : ',sensitivitya)\n",
    "print('Precision                 : ',Precisiona)\n",
    "print('f1 score                  : ',f1_scorea)"
   ]
  },
  {
   "cell_type": "markdown",
   "metadata": {},
   "source": [
    "# HYBRID MODEL"
   ]
  },
  {
   "cell_type": "code",
   "execution_count": 53,
   "metadata": {},
   "outputs": [],
   "source": [
    "table={'Algorithm':['Logistic Regression','Random Forest','Naive Bayes','Decision Tree','SVM','KNN','GB','Adaboost'],\n",
    "    'Accuracy':[accuracyl,accuracyr,accuracyn,accuracyd,accuracys,accuracyk,accuracyb,accuracya],\n",
    "       'Classification Error Rate':[errorl,errorr,errorn,errord,errors,errork,errorb,errora],\n",
    "        'Specificity':[specificityl,specificityr,specificityn,specificityd,specificitys,specificityk,specificityb,specificitya],\n",
    "        'Sensitivity':[sensitivityl,sensitivityr,sensitivityn,sensitivityd,sensitivitys,sensitivityk,sensitivityb,sensitivitya],\n",
    "        'Precision': [Precisionl,Precisionr,Precisionn,Precisiond,Precisions,Precisionk,Precisionb,Precisiona]\n",
    "}\n"
   ]
  },
  {
   "cell_type": "code",
   "execution_count": 54,
   "metadata": {},
   "outputs": [
    {
     "data": {
      "text/html": [
       "<div>\n",
       "<style scoped>\n",
       "    .dataframe tbody tr th:only-of-type {\n",
       "        vertical-align: middle;\n",
       "    }\n",
       "\n",
       "    .dataframe tbody tr th {\n",
       "        vertical-align: top;\n",
       "    }\n",
       "\n",
       "    .dataframe thead th {\n",
       "        text-align: right;\n",
       "    }\n",
       "</style>\n",
       "<table border=\"1\" class=\"dataframe\">\n",
       "  <thead>\n",
       "    <tr style=\"text-align: right;\">\n",
       "      <th></th>\n",
       "      <th>Algorithm</th>\n",
       "      <th>Accuracy</th>\n",
       "      <th>Classification Error Rate</th>\n",
       "      <th>Specificity</th>\n",
       "      <th>Sensitivity</th>\n",
       "      <th>Precision</th>\n",
       "    </tr>\n",
       "  </thead>\n",
       "  <tbody>\n",
       "    <tr>\n",
       "      <th>0</th>\n",
       "      <td>Logistic Regression</td>\n",
       "      <td>84.91</td>\n",
       "      <td>15.09</td>\n",
       "      <td>66.67</td>\n",
       "      <td>85.04</td>\n",
       "      <td>99.72</td>\n",
       "    </tr>\n",
       "    <tr>\n",
       "      <th>5</th>\n",
       "      <td>KNN</td>\n",
       "      <td>84.83</td>\n",
       "      <td>15.17</td>\n",
       "      <td>57.14</td>\n",
       "      <td>85.14</td>\n",
       "      <td>99.44</td>\n",
       "    </tr>\n",
       "    <tr>\n",
       "      <th>4</th>\n",
       "      <td>SVM</td>\n",
       "      <td>84.67</td>\n",
       "      <td>15.33</td>\n",
       "      <td>NaN</td>\n",
       "      <td>84.67</td>\n",
       "      <td>100.00</td>\n",
       "    </tr>\n",
       "    <tr>\n",
       "      <th>6</th>\n",
       "      <td>GB</td>\n",
       "      <td>84.51</td>\n",
       "      <td>15.49</td>\n",
       "      <td>47.22</td>\n",
       "      <td>85.60</td>\n",
       "      <td>98.24</td>\n",
       "    </tr>\n",
       "    <tr>\n",
       "      <th>1</th>\n",
       "      <td>Random Forest</td>\n",
       "      <td>84.43</td>\n",
       "      <td>15.57</td>\n",
       "      <td>45.71</td>\n",
       "      <td>85.53</td>\n",
       "      <td>98.24</td>\n",
       "    </tr>\n",
       "    <tr>\n",
       "      <th>2</th>\n",
       "      <td>Naive Bayes</td>\n",
       "      <td>82.86</td>\n",
       "      <td>17.14</td>\n",
       "      <td>39.64</td>\n",
       "      <td>86.99</td>\n",
       "      <td>93.78</td>\n",
       "    </tr>\n",
       "    <tr>\n",
       "      <th>7</th>\n",
       "      <td>Adaboost</td>\n",
       "      <td>81.60</td>\n",
       "      <td>18.40</td>\n",
       "      <td>30.69</td>\n",
       "      <td>85.99</td>\n",
       "      <td>93.50</td>\n",
       "    </tr>\n",
       "    <tr>\n",
       "      <th>3</th>\n",
       "      <td>Decision Tree</td>\n",
       "      <td>76.42</td>\n",
       "      <td>23.58</td>\n",
       "      <td>25.12</td>\n",
       "      <td>86.62</td>\n",
       "      <td>85.33</td>\n",
       "    </tr>\n",
       "  </tbody>\n",
       "</table>\n",
       "</div>"
      ],
      "text/plain": [
       "             Algorithm  Accuracy  Classification Error Rate  Specificity  \\\n",
       "0  Logistic Regression     84.91                      15.09        66.67   \n",
       "5                  KNN     84.83                      15.17        57.14   \n",
       "4                  SVM     84.67                      15.33          NaN   \n",
       "6                   GB     84.51                      15.49        47.22   \n",
       "1        Random Forest     84.43                      15.57        45.71   \n",
       "2          Naive Bayes     82.86                      17.14        39.64   \n",
       "7             Adaboost     81.60                      18.40        30.69   \n",
       "3        Decision Tree     76.42                      23.58        25.12   \n",
       "\n",
       "   Sensitivity  Precision  \n",
       "0        85.04      99.72  \n",
       "5        85.14      99.44  \n",
       "4        84.67     100.00  \n",
       "6        85.60      98.24  \n",
       "1        85.53      98.24  \n",
       "2        86.99      93.78  \n",
       "7        85.99      93.50  \n",
       "3        86.62      85.33  "
      ]
     },
     "execution_count": 54,
     "metadata": {},
     "output_type": "execute_result"
    }
   ],
   "source": [
    "clf_table = pd.DataFrame(table,columns=['Algorithm','Accuracy','Classification Error Rate','Specificity','Sensitivity','Precision'])\n",
    "clf_table = clf_table.sort_values(by ='Classification Error Rate')\n",
    "clf_table"
   ]
  },
  {
   "cell_type": "code",
   "execution_count": 55,
   "metadata": {},
   "outputs": [
    {
     "name": "stdout",
     "output_type": "stream",
     "text": [
      "[[0.89093775 0.10906225]\n",
      " [0.78490997 0.21509003]\n",
      " [0.84433267 0.15566733]\n",
      " ...\n",
      " [0.72829308 0.27170692]\n",
      " [0.94077031 0.05922969]\n",
      " [0.95351664 0.04648336]]\n",
      "logistic listing,,.,.,.\n",
      "[0.8909377520717863, 0.7849099651472877, 0.8443326743697667, 0.6372027809272951, 0.8865976740267876, 0.8775330757085965, 0.9462760385440581, 0.9349859558599372, 0.8718217932719321, 0.7664749991446361, 0.9599670797709272, 0.891129259719024, 0.7323907041383273, 0.9264418027660879, 0.9284120474673037, 0.8424479817940941, 0.7393714572796902, 0.8039040242009852, 0.6336358451057773, 0.8952769946533481, 0.9422265584283268, 0.8988016313841615, 0.7986090189195095, 0.9367540964635497, 0.8993285455305868, 0.9603508334058822, 0.9221826886922131, 0.9375652682468216, 0.9167310941607896, 0.8063214799551945, 0.8563911574427694, 0.9377442318048096, 0.7028572971895946, 0.7780488383325016, 0.9224017920077129, 0.9033616844100822, 0.8451234656200357, 0.9650342530605028, 0.9005652223550829, 0.9050638882628113, 0.9282114934491406, 0.8180581859819336, 0.8947931191314412, 0.9138390047977645, 0.8824231946678255, 0.9287549725222167, 0.8175321326877611, 0.9302511391818933, 0.8238404934651573, 0.842073745620848, 0.7193334499336814, 0.8707543065185591, 0.9273183073313023, 0.8111292533043954, 0.9026898530876561, 0.7177548287549631, 0.8902640848512118, 0.8604748539323082, 0.8895509501182512, 0.9009597454730909, 0.9186789172265688, 0.8157780628347222, 0.9389207275047766, 0.7898737435928793, 0.755055975092682, 0.7208122174572725, 0.530129778313815, 0.7442561266989707, 0.8161449878018916, 0.9003243907778922, 0.8655173568449441, 0.9142066207989257, 0.8774437945646351, 0.8566034756478669, 0.7258271217511136, 0.9221872654029174, 0.9463517249861051, 0.6299072933159187, 0.9097760103240402, 0.8872437852317973, 0.9201820512833992, 0.824742418878529, 0.7928975101441387, 0.6893786210339007, 0.9296469446171767, 0.8659136300894826, 0.7384604311483608, 0.725895256319101, 0.5761627260990725, 0.8472344640019953, 0.8476516173140245, 0.90902538066241, 0.5707693851580342, 0.8292221451052555, 0.5003352046888596, 0.7954341773589374, 0.8848768221752479, 0.7620121634465145, 0.5314918326193177, 0.9673869916711503, 0.8521666355308203, 0.9603585137533042, 0.9291356316803503, 0.7067372308375145, 0.9385982216391975, 0.9108965705054264, 0.8869057648525184, 0.7523236267265052, 0.943549575240637, 0.822982906845974, 0.8931500498750076, 0.8956247008029153, 0.907038879372328, 0.9191460276756263, 0.9489764245767864, 0.796166532443036, 0.6015377706192653, 0.9455089183445556, 0.9592290386956209, 0.837508099305196, 0.7451038141487255, 0.8682855134574727, 0.6054462439202104, 0.8992473194707482, 0.6681887963681052, 0.9040393616600538, 0.7475648743874004, 0.7723742677519286, 0.8847553995269455, 0.8418777698433406, 0.9498781661107436, 0.9576617879265897, 0.917351049047777, 0.9531714669893909, 0.8956702095401051, 0.8747642743147684, 0.9412960055418719, 0.8396016771931634, 0.9202539376156169, 0.9322019148781532, 0.9519795207344587, 0.7853163872235862, 0.9409605728184909, 0.8586844280889544, 0.85028888527226, 0.9213371929449143, 0.913248327672655, 0.7508851778515953, 0.875455560213504, 0.575395684130054, 0.9315143553347689, 0.8792094456149872, 0.6922623915083885, 0.6613909906107349, 0.8545156605647025, 0.904547269549677, 0.9468415955473436, 0.7653707067325592, 0.9294192701413019, 0.5691020469892054, 0.8493677843249039, 0.7376541793247722, 0.8976978587711774, 0.7547351873763394, 0.8146872476181675, 0.9736031405594434, 0.8646319607180771, 0.8503903191418875, 0.9549665768658417, 0.883948957463134, 0.8282293094012105, 0.8154467156106701, 0.8955598634828423, 0.9186442123077846, 0.8799782827531021, 0.6682799607787684, 0.8865884024979187, 0.7402603456448731, 0.7575188700974353, 0.7546712005754392, 0.9469782956600373, 0.6644285064261601, 0.9119177942986979, 0.7461509407026778, 0.7849432675276006, 0.6514810583224739, 0.7668854010939773, 0.9036815597537001, 0.9223523960001017, 0.9676003829407925, 0.8338790863667642, 0.8420476670988918, 0.8987977687116147, 0.9408218422216683, 0.9420489328201301, 0.7764655442338134, 0.6278430499388312, 0.8959139006410829, 0.7964557891085816, 0.853280971277939, 0.690081302885418, 0.832554752370642, 0.9166080668393163, 0.9434127975103557, 0.9048988119760587, 0.8858467611112495, 0.8891366022950676, 0.8858478642925944, 0.7010379935912268, 0.9166698863125289, 0.9035900377017618, 0.803147655071913, 0.9219807106047759, 0.8992660783745339, 0.9054269772449435, 0.8966130403426701, 0.9455525769514044, 0.8967072240905727, 0.8370556996706303, 0.9365617201268882, 0.8351908615016665, 0.587956386359694, 0.8000355735624878, 0.833095667942942, 0.9338730558217201, 0.8266558332647993, 0.9670022092971063, 0.9119661723862769, 0.7220185301738453, 0.960921547696523, 0.7663344200643474, 0.8115348427615642, 0.9649982380562612, 0.8806253355846629, 0.9277851452540584, 0.9141605260326345, 0.8630270792706712, 0.8397713546550114, 0.9167185488119455, 0.9612123791134886, 0.9471925510497133, 0.830332646835611, 0.9273350848108836, 0.8835343964744289, 0.6971875327799134, 0.8405646718820827, 0.9175164112284269, 0.8181709336846943, 0.7116145388484454, 0.8886247924758256, 0.899991070263939, 0.786178713280705, 0.8700712261217942, 0.6175565104807048, 0.9067535419439021, 0.9590589341684947, 0.9561254314186668, 0.9363177571713359, 0.8490976710636319, 0.754015822374684, 0.9300405228851985, 0.8522180129885514, 0.8377402424142257, 0.9136429743113071, 0.9100466385712573, 0.8450845470451263, 0.8821477347719833, 0.7872504450749698, 0.9257558660797216, 0.6168381588454033, 0.8567371283233393, 0.8091362140612838, 0.8595748265381223, 0.881627366413234, 0.8970503970990109, 0.8073838173564375, 0.918818735882, 0.8307720381427056, 0.8861885200211235, 0.906763370647584, 0.8620249800239908, 0.9373256769158883, 0.8011663463204013, 0.9030539379499842, 0.9027562020913151, 0.9018997561711476, 0.8503712977172211, 0.7094054479644134, 0.8085495274186723, 0.8738678266759955, 0.9084881225559301, 0.8976770651472828, 0.6961848050060903, 0.8985668541725547, 0.9293575727079523, 0.6564816249951959, 0.8545152118496123, 0.9058466356723756, 0.9013700579414945, 0.8851698808661588, 0.8257111532438293, 0.8985601492295922, 0.860789787108002, 0.910364981824727, 0.7053828750287569, 0.8627204888044929, 0.5590854320784473, 0.878890567901922, 0.8634636276680803, 0.9231424327375561, 0.7667546797731299, 0.9336404414235983, 0.8745269078856193, 0.8078880481159032, 0.5512548334881753, 0.858750561103983, 0.8374674315015631, 0.7264344703539538, 0.8963077798566964, 0.8747676182439115, 0.9041892653496947, 0.9172993695735882, 0.9085179285812002, 0.8994975822649169, 0.9342762681080843, 0.8089153292405207, 0.816367690456609, 0.9028958524107213, 0.9509711778995197, 0.970597906911027, 0.5129179017699778, 0.904697400312989, 0.941718937765976, 0.7434633031673012, 0.6855104303958613, 0.9568883361862178, 0.8701536690451183, 0.8688982925916717, 0.9077774375695485, 0.9456446587704113, 0.6965856795005212, 0.7369496606489387, 0.9243638971989699, 0.7693737501417881, 0.9332679178338374, 0.8255741236143392, 0.8408451476989236, 0.870308394591834, 0.9003234022012427, 0.7397252592590478, 0.7302644704527235, 0.9160461377960161, 0.7760247809351967, 0.8849293399922298, 0.8457779292833648, 0.8049607786986409, 0.8663329706055689, 0.7764168138448595, 0.8374040525716029, 0.800947878480059, 0.8628152866137554, 0.7374861715107317, 0.8293331324005021, 0.6865302354606275, 0.8443276822120962, 0.9371157445364051, 0.7492296737797642, 0.6268280709803593, 0.9349477598932834, 0.9580359532441927, 0.830276704543559, 0.8733953339612776, 0.7392164796845839, 0.6281993771996055, 0.9253154125869336, 0.8221058213808362, 0.8263788120862986, 0.9091146068642029, 0.9027335690845464, 0.8880051957999316, 0.9119356541989294, 0.9403757763248906, 0.6833553823573761, 0.8732874725546634, 0.9364575226216734, 0.9038324395685828, 0.750382127103802, 0.805001343822902, 0.8940344364721795, 0.9182923828127926, 0.944946065761995, 0.8554958338120566, 0.8140498811542014, 0.7245920841263269, 0.9509125076241335, 0.9490801086172288, 0.7312144444192437, 0.5929790977521928, 0.7873578850207251, 0.7239518321353551, 0.66850297455163, 0.8199103198007835, 0.9668449725226471, 0.6968095756467336, 0.9050118394180162, 0.7468107313543084, 0.9491971126635333, 0.8053326878019634, 0.9680498662705769, 0.7876417923792711, 0.9241368810058826, 0.8399680777753592, 0.8738089525668784, 0.7660541153915978, 0.8972089215095773, 0.9565427298331093, 0.88111746561846, 0.9181303695509139, 0.7613001911413289, 0.8073825900709344, 0.8518694887777936, 0.9467008987778268, 0.8496310673488883, 0.9235922830967066, 0.8789617055542223, 0.7269390058187417, 0.8296695377313887, 0.8324179752101987, 0.9493503261551547, 0.8541506741533472, 0.9137302141170256, 0.7568168424658879, 0.8631301412883703, 0.9042458517430534, 0.7653908278881341, 0.8852315182784897, 0.8697477463205027, 0.8481868677134872, 0.8048164391515229, 0.9110906352579482, 0.7216662914772318, 0.7452197363791402, 0.893698848212046, 0.7946522657344844, 0.8562115930150419, 0.8615376745723551, 0.7988056516051266, 0.8847512188876157, 0.8515764065363217, 0.9140187254557902, 0.9453250064526606, 0.930157599623388, 0.8426734952792778, 0.9032779689770086, 0.9203521698373175, 0.8589818302105698, 0.7998389841263823, 0.7847003017855845, 0.8515885356740671, 0.93942752340537, 0.9561780689775764, 0.8058379660716448, 0.8254344745608857, 0.7774700702658506, 0.8625435618997015, 0.8113029963152956, 0.7880552967823841, 0.6277790004575396, 0.9143102304593014, 0.7092918884177657, 0.9661021441987891, 0.9010572908887889, 0.7533872229678952, 0.8709083968470397, 0.850897794592561, 0.9581011180237036, 0.822986351229221, 0.9207776695853586, 0.877437000935719, 0.8277013000247979, 0.8886252567239992, 0.8106410086655413, 0.8180378815138338, 0.9046225745040821, 0.8422689385234198, 0.8489982107898931, 0.8492740519279398, 0.9366751390451388, 0.83286507942742, 0.8312255855939032, 0.8997347740127859, 0.6896527361175758, 0.9455060173565031, 0.7987032481224763, 0.9076406782546556, 0.9370650436588827, 0.8845941322647516, 0.6815160487056876, 0.9493113435980067, 0.6300552038700535, 0.6501773254984563, 0.9226924111562425, 0.9003799042533003, 0.8915044027691723, 0.8584979906822557, 0.8585129951389324, 0.6506691647916941, 0.8231775012279444, 0.8782907108906868, 0.7019262225579105, 0.9620420920636559, 0.8561149564038137, 0.9261686964002417, 0.8740621151096926, 0.7970776529867385, 0.801304233381843, 0.8799614343814035, 0.8075296967134961, 0.792977833195992, 0.9019750011020479, 0.9625033400404333, 0.9258232957998717, 0.9335347050560419, 0.8530522584990687, 0.8851855518311281, 0.8866873127708903, 0.9493828425460694, 0.845086819716779, 0.8658766745892147, 0.7986093608203018, 0.8277244423522054, 0.6913241258207112, 0.9042218303032368, 0.8602326120614567, 0.8402229225079404, 0.8895635828299646, 0.6088990271314135, 0.7322048959460574, 0.8793666054451292, 0.9085026360723827, 0.7640309312566722, 0.9015626545087805, 0.8196462851429951, 0.8135251378728109, 0.875068992658196, 0.8876418081556139, 0.496343878151542, 0.9262012289516659, 0.8428066266567438, 0.9094575224925112, 0.8262223719751827, 0.8693696526107734, 0.8544519637643432, 0.876429238806994, 0.17167832735954391, 0.927738920287491, 0.8479664602339796, 0.9140547575580952, 0.5817535320311544, 0.8782124626979277, 0.9433749410770195, 0.8004696820167009, 0.8752574039245219, 0.9507810960974683, 0.9409662760272223, 0.939936325203545, 0.9493797429719879, 0.8968147100963835, 0.8792682776497982, 0.8655017811341306, 0.7983471644428712, 0.7218053434843517, 0.6810870771295376, 0.7922362179618755, 0.8964164302945385, 0.8733073779542052, 0.9496426863725029, 0.8431300592753223, 0.9269252575260832, 0.8742312262183756, 0.7197680783410537, 0.6437912720189045, 0.7959617261550034, 0.9198180084171386, 0.9373012670491476, 0.8219427119102951, 0.8632502071415049, 0.9398262812367503, 0.961879791715082, 0.7907093783462749, 0.7689899276851141, 0.7104840004997838, 0.7538168815049753, 0.918864431838386, 0.8514753265310374, 0.7258589591317581, 0.8176850461446596, 0.681073705257081, 0.9240345078294485, 0.7144425018222913, 0.72536399834589, 0.8742959715493435, 0.8853437557393325, 0.8254726073594651, 0.7588124580150115, 0.6995145885642742, 0.9113460898684802, 0.8656646913496402, 0.8451025165169919, 0.6037900964500608, 0.8601123137484437, 0.8688590387882499, 0.926229834136302, 0.7497187844202473, 0.8622232164199095, 0.5965240969999668, 0.8633168056132803, 0.9239050795485392, 0.9609117762101697, 0.835148709672025, 0.8719528024529674, 0.7790960696692572, 0.8749128534619739, 0.4565976134724813, 0.9164210471876973, 0.833445554885974, 0.9204563188716813, 0.9401522562903487, 0.8333667620293093, 0.8019707657039209, 0.8968386194465747, 0.7630425417644486, 0.8917117836483283, 0.9407327422016064, 0.9502582866213434, 0.9115119273622974, 0.7934040270003833, 0.9284078153543054, 0.825457965776094, 0.873438269372345, 0.5081605263307644, 0.719013170460637, 0.8028407091219548, 0.9199740979487896, 0.9027820642686505, 0.9100275801565768, 0.8710515128699989, 0.8954205096579825, 0.8168361456725771, 0.8878286664750631, 0.9153460671157289, 0.7061264973306254, 0.9459072137543475, 0.8504217358836502, 0.92183125498223, 0.7520038913576073, 0.9368675996487382, 0.6317055353125144, 0.8702849022487255, 0.8831389983321152, 0.9344205155137243, 0.9097281604321175, 0.873615321869167, 0.7953280649556462, 0.8400933244774299, 0.8599498217292393, 0.8511952559558089, 0.9433607035742266, 0.8346127138302918, 0.7303173708502118, 0.9061656643961863, 0.8990327286760091, 0.9060526537182129, 0.9498300865869186, 0.7910174183839214, 0.8539870346437699, 0.9092984410179645, 0.9415230622096459, 0.8312393067847275, 0.9281013804897532, 0.8168937396087508, 0.862518570540739, 0.8108396948109928, 0.8268084781576356, 0.7344162832888215, 0.9307563470436191, 0.7721074150085336, 0.823484412853245, 0.8430457873446973, 0.8091934773935612, 0.942650462970517, 0.8470097084175618, 0.7358144244139153, 0.679223292302124, 0.8088622402040921, 0.8791514993123634, 0.7999910611160925, 0.9088606683450441, 0.8643448256808939, 0.7185896380468845, 0.7119475305599721, 0.9643316639266807, 0.9619458271710848, 0.9323897133859402, 0.761175480348596, 0.9032131024876913, 0.6674297904212948, 0.8607452291812999, 0.9529560305133711, 0.7944103665400488, 0.7043752563240409, 0.8390772934972004, 0.8890791053504227, 0.7323960822619178, 0.5809795985642577, 0.9561358420857301, 0.8525026402855213, 0.8377456459751891, 0.8437008199541991, 0.8756985976610308, 0.8117265473402615, 0.9266008077950032, 0.925624305779664, 0.8659425399204816, 0.8134405989443608, 0.8310168395046368, 0.9062341160153294, 0.892315916922817, 0.8237007858364885, 0.6909871427462114, 0.860753007321393, 0.9774065496456419, 0.8657998507708576, 0.8795664652247005, 0.9048384292165776, 0.8516254442795006, 0.7417358805674228, 0.8728783802654937, 0.8651039755524929, 0.8805853815990232, 0.6900409941906697, 0.8836590414499801, 0.8754082631939574, 0.8328096920906335, 0.7403463974358018, 0.7671096253796579, 0.8881054500161838, 0.9410832919701276, 0.8168726844816502, 0.8046260464424703, 0.7254583261153003, 0.8080736956934719, 0.6197246751655758, 0.8608687947627679, 0.8460140034318837, 0.7737294536255671, 0.7526940016211296, 0.8369083591928179, 0.8352743980741808, 0.8306286067814791, 0.806162235311434, 0.8924053236863665, 0.8787341791561837, 0.8092006591233969, 0.9267467260186807, 0.7765024744660788, 0.9266724351073006, 0.945922888344381, 0.8740065607385481, 0.8617270817560867, 0.738405803983962, 0.7804676240243364, 0.8060446909359021, 0.9322796732780394, 0.673128390901315, 0.9196284362211321, 0.7293690884875619, 0.9295125101113642, 0.8717192766865042, 0.9355624687406864, 0.7788780422186079, 0.7800941413161839, 0.9279367619283251, 0.9208140500538413, 0.843812745214942, 0.9563849834433166, 0.8295779082321713, 0.955826420654712, 0.7692157041008229, 0.7963407167958998, 0.9594831702160819, 0.823999679430451, 0.9387481437385912, 0.9396940964347537, 0.8829723167240923, 0.7920901613528618, 0.7637421141183413, 0.45149439683017123, 0.8066714402396928, 0.8949271474680771, 0.8578214498938249, 0.8106841221323152, 0.8829412201992237, 0.8658859603274767, 0.9168499962292228, 0.9273479285152444, 0.8114946460042991, 0.8767702962030615, 0.8749789271659749, 0.8712693421107391, 0.8938384366619687, 0.6704087319020827, 0.8091348792636803, 0.45118493661107295, 0.7277118817797503, 0.6570524810518389, 0.8159292107316038, 0.8899267992269746, 0.6910345635785801, 0.9297160838122973, 0.893939045960564, 0.8097514819750996, 0.5559178039838681, 0.9416938700317239, 0.8998419420892821, 0.7528867401020224, 0.9501234517043464, 0.829080918296942, 0.7370335734165363, 0.915780985683207, 0.8474947798159471, 0.8926129108805212, 0.8986046132808239, 0.8248648037315629, 0.8190970087477574, 0.8928296842749309, 0.9712639306757259, 0.8868907678928722, 0.824155274750165, 0.935966493474165, 0.6927596153188118, 0.8526571235355528, 0.8300247340862009, 0.8340582310780071, 0.8776604015135657, 0.6573065595424198, 0.9234127934899062, 0.933822304630412, 0.9102734212734064, 0.7263935112249288, 0.9548083695972559, 0.8422796366576206, 0.7557350003745045, 0.9263542296000083, 0.8953435135236067, 0.8963786805867175, 0.8844700636705187, 0.7592504736966232, 0.8607843442881604, 0.9276886632473056, 0.8702127746999613, 0.9429922058613653, 0.859426363994813, 0.9174595544623129, 0.8855592878235984, 0.5557814139555515, 0.7511506056506468, 0.9034059118196798, 0.9023034447691277, 0.5726023703255332, 0.8681905694826747, 0.9086803842323181, 0.832442800921763, 0.9063210387856014, 0.8731085316028137, 0.8314765171115366, 0.7616294484522526, 0.8774249750833913, 0.7352767093061232, 0.8343590345135544, 0.8660011205890624, 0.6674000196803388, 0.9077536923268739, 0.9070351114817765, 0.8998115540243522, 0.9279940334708798, 0.9581714917018019, 0.9406125187903771, 0.7943230234162622, 0.6887443173007628, 0.9541365731219127, 0.7362668602288869, 0.9448233460093628, 0.7654984281161006, 0.8259742516557028, 0.8349358116803572, 0.8435471047166878, 0.8925954919982316, 0.867013542821115, 0.8877184537926887, 0.935737399818352, 0.8981690262104928, 0.7884373103743942, 0.928642316503156, 0.9164490211549892, 0.8625713562293922, 0.703821892014775, 0.8345894444698546, 0.7289110429362753, 0.8570558881509979, 0.9430819047529083, 0.7202417941172445, 0.8883924888204868, 0.8827991911819913, 0.9366049462187457, 0.9338964031014848, 0.9444827333599694, 0.7919175687048965, 0.8703200175038335, 0.7741267275534505, 0.8939780977521855, 0.8997980452215373, 0.8800400578885468, 0.8577978199244437, 0.9011850337898756, 0.8375370477351748, 0.9194009235222226, 0.8153824560326189, 0.9304653562767006, 0.8929503152447097, 0.8798562304322471, 0.9170403863852271, 0.9161040372880025, 0.9341555361659515, 0.7877706277583425, 0.8617354303166436, 0.7852654681535803, 0.8519693532356414, 0.7454789164149656, 0.8821184856017505, 0.8269204861063337, 0.723115905800777, 0.9085228554554158, 0.8254894032880138, 0.8906506279183575, 0.7037668890964306, 0.8205769747307172, 0.891386912995425, 0.41148435901472646, 0.7710921392540374, 0.9274359755990824, 0.7483512892626495, 0.8534227172176729, 0.7337597554155935, 0.8740081622205036, 0.5646311346177408, 0.8705559573322246, 0.8231819383662413, 0.9438169825329975, 0.9567557647894739, 0.8403083474510693, 0.9689786611807839, 0.9208027812230243, 0.8572383065219589, 0.9009982910326211, 0.8363805183496046, 0.8512079722386788, 0.9052964082849364, 0.7589863363919344, 0.8919954344484906, 0.9120093639244258, 0.9292896879524202, 0.923131006309429, 0.8145520656972698, 0.902152659556509, 0.8798159449003173, 0.9122377690399024, 0.9115787877243825, 0.699375689568031, 0.9530889259826438, 0.4559818129662746, 0.9005942595704025, 0.7425375131471001, 0.618053479767992, 0.9288586817075724, 0.8528167292283524, 0.871116728020102, 0.7989401771759631, 0.7383621777042625, 0.8460510065207174, 0.7986540752827448, 0.36397521968113233, 0.906061510688164, 0.8778702504584485, 0.6578005123409354, 0.9680747916387277, 0.8936004154874799, 0.7138978346637045, 0.9177837405129555, 0.7816618299427207, 0.8209160731109916, 0.9310991383218974, 0.7475615850134667, 0.7032928705967385, 0.8692366879834568, 0.803215923604383, 0.9347734079173483, 0.8676864942184039, 0.9440783371483231, 0.8338909984825673, 0.8783189642559572, 0.8172249484722899, 0.6568472786770009, 0.8399082701219502, 0.879691228500713, 0.5239572874216427, 0.8920168924992503, 0.758386496719203, 0.829732672050592, 0.869647929932589, 0.7902440445116926, 0.8748143596195525, 0.818071230153149, 0.8539325018834012, 0.9311761446003628, 0.910493779313722, 0.8399240343264458, 0.728382201145949, 0.9003954579389898, 0.9513069620880312, 0.8719761537727532, 0.8460070344637478, 0.8725348749142703, 0.7803958196689369, 0.9089484907631996, 0.9317931546257855, 0.8827615458821079, 0.9315087307384234, 0.9015845535242912, 0.5591281361620006, 0.8626590932953491, 0.9283962496709556, 0.39395555097250834, 0.8982325070129735, 0.946199898532945, 0.8867017957288048, 0.9493284539653648, 0.8940146216958296, 0.8693024122769217, 0.9103126185448227, 0.8074897651555653, 0.8867356783350265, 0.7616840082561187, 0.5603390545027258, 0.8527589723837237, 0.8537147613831426, 0.7351151528696659, 0.9051368108057425, 0.8949018956311798, 0.8058545086091444, 0.7688668079121357, 0.899064442448128, 0.8578578854262704, 0.6518787890351856, 0.9292366915037914, 0.8070384553935686, 0.5405189467548763, 0.8342045744272282, 0.7317760576451766, 0.9207403008089317, 0.8301834407325703, 0.9506847496171529, 0.7601345644074048, 0.9627939194258649, 0.9299647763584991, 0.9334833631151762, 0.9322008412251295, 0.8049519705578969, 0.8671341732777585, 0.9095421542071781, 0.8698757514528959, 0.6424807555000436, 0.5967065493952848, 0.8954668612074534, 0.9081538791895803, 0.9765130756870364, 0.6851575553375286, 0.7637284330086559, 0.9309667534608375, 0.7643672689412144, 0.911093297663762, 0.918129417958564, 0.981361197121818, 0.911251915519872, 0.8681438438074383, 0.9096836015999507, 0.9330472115636024, 0.9011265767027521, 0.8754949917945585, 0.9431947410316002, 0.8814700633115014, 0.9278611755623735, 0.8281595691624014, 0.83342024370604, 0.9148125880690021, 0.8265322839404945, 0.9384052170672288, 0.8985762135120764, 0.835093393004948, 0.8658238766241816, 0.8121920081038726, 0.749572408629458, 0.8594071715029297, 0.816527099423074, 0.5706496388699772, 0.8449284971928648, 0.9541976303693092, 0.8568967432692742, 0.9185798614559308, 0.8722533262062536, 0.6614119586479226, 0.9126890480541031, 0.8888992460649343, 0.9394692323340669, 0.8780330295561249, 0.8341422240032235, 0.8601455188803389, 0.8735480664566639, 0.8000108657092002, 0.9428721387498209, 0.9631681947392393, 0.8836644239842516, 0.9333401567551266, 0.8079960705307545, 0.8904893101116864, 0.9360868215456126, 0.8107094113765242, 0.9022338367061362, 0.9443186352949823, 0.8422521401789903, 0.7778556868983255, 0.8413860648315412, 0.9059549071883437, 0.8084315264898193, 0.7250652031278242, 0.8132062422296031, 0.8881744219151723, 0.9384659644140629, 0.8169990520721122, 0.8697103635676438, 0.8887172519203341, 0.5784857656176674, 0.8665309763966058, 0.9086573618755385, 0.9346688569040726, 0.8816595557298723, 0.8747623970630731, 0.9242122018244084, 0.9589264837198503, 0.9489704040493327, 0.7622762043212643, 0.9119075168868143, 0.7817899044714482, 0.8488725221463861, 0.9016603516687591, 0.6546299289620746, 0.924848283707471, 0.8118417371031061, 0.9218906587681187, 0.8774130807604484, 0.9193577979051977, 0.6456725051813805, 0.8001988690001263, 0.8801775773566641, 0.9632902347676802, 0.9380565405479911, 0.7733760070988157, 0.6588463603976844, 0.8678306795832251, 0.8900248341968597, 0.8511484625892307, 0.7215118709065039, 0.9363952026340101, 0.9622002235904061, 0.8704032082041601, 0.8820711267949577, 0.8795938699531477, 0.8745250355934228, 0.8751339037231669, 0.8462527205987072, 0.9298374469114364, 0.6761097326987385, 0.9259886110533372, 0.7897551471880372, 0.8995646350194398, 0.889325851261928, 0.7757933200880809, 0.7946469662978701, 0.8542099361048359, 0.5801933796255628, 0.913080085714246, 0.8626095998596719, 0.7854421289542658, 0.8279841398938053, 0.8694742912206747, 0.9158463339584679, 0.732382048478907, 0.829392045370195, 0.9040060582034192, 0.892363494890549, 0.8625566346537702, 0.7069279441973803, 0.957259457625712, 0.7130351468745271, 0.8508546737361669, 0.7991261498847945, 0.8824081554416316, 0.8355045465048754, 0.7928971180801172, 0.9269992852246518, 0.7047847951651266, 0.9291095071231028, 0.8629801287966797, 0.746643951171255, 0.8094990699369145, 0.847956850372161, 0.6342106192655046, 0.9015229768705129, 0.9279706874942464, 0.8284412533697982, 0.7269670751178603, 0.9207066229519533, 0.5152030656025202, 0.9224400135315908, 0.8090396587649223, 0.8267708875587301, 0.9050463641938964, 0.7355240372907934, 0.9033035166534317, 0.7231400629683093, 0.8349900046882556, 0.9003398958678196, 0.9504438713909218, 0.7245367971067398, 0.9747068268015768, 0.8665395777173923, 0.9308700080286091, 0.9225406733051815, 0.9431106371273328, 0.845095452481332, 0.8338270518466947, 0.8002596857466002, 0.9440860708910679, 0.6195494417106733, 0.8245977293206268, 0.9248096742611269, 0.8970200381751737, 0.9591430235942834, 0.6903605666240082, 0.7423915444067244, 0.8434720579694945, 0.7197026956113122, 0.9180656413079717, 0.960890699917017, 0.8279597376977424, 0.9232920963339758, 0.922414389889514, 0.7931979492559474, 0.9439000238808013, 0.7282930772905815, 0.9407703058391356, 0.9535166353772979]\n",
      "[0.10906224792821378, 0.21509003485271228, 0.1556673256302333, 0.36279721907270496, 0.11340232597321245, 0.12246692429140346, 0.0537239614559419, 0.06501404414006282, 0.12817820672806784, 0.23352500085536385, 0.04003292022907281, 0.108870740280976, 0.2676092958616727, 0.07355819723391212, 0.07158795253269631, 0.1575520182059059, 0.2606285427203098, 0.19609597579901486, 0.36636415489422275, 0.10472300534665191, 0.057773441571673176, 0.10119836861583849, 0.20139098108049044, 0.06324590353645036, 0.10067145446941321, 0.039649166594117775, 0.07781731130778692, 0.062434731753178346, 0.0832689058392104, 0.19367852004480546, 0.14360884255723066, 0.06225576819519041, 0.29714270281040545, 0.22195116166749837, 0.0775982079922871, 0.09663831558991774, 0.15487653437996424, 0.03496574693949715, 0.09943477764491716, 0.09493611173718879, 0.07178850655085948, 0.1819418140180664, 0.10520688086855881, 0.08616099520223557, 0.11757680533217449, 0.07124502747778329, 0.1824678673122388, 0.06974886081810676, 0.17615950653484275, 0.15792625437915192, 0.2806665500663185, 0.12924569348144088, 0.07268169266869769, 0.1888707466956045, 0.09731014691234391, 0.28224517124503684, 0.10973591514878826, 0.1395251460676919, 0.11044904988174872, 0.09904025452690912, 0.08132108277343117, 0.18422193716527774, 0.06107927249522342, 0.2101262564071207, 0.24494402490731804, 0.27918778254272747, 0.46987022168618503, 0.2557438733010293, 0.1838550121981084, 0.09967560922210786, 0.13448264315505593, 0.08579337920107434, 0.12255620543536493, 0.14339652435213307, 0.2741728782488863, 0.07781273459708264, 0.05364827501389487, 0.3700927066840813, 0.09022398967595979, 0.11275621476820272, 0.07981794871660076, 0.17525758112147108, 0.20710248985586135, 0.3106213789660993, 0.07035305538282334, 0.13408636991051734, 0.2615395688516392, 0.27410474368089893, 0.42383727390092746, 0.15276553599800474, 0.15234838268597548, 0.09097461933758993, 0.42923061484196584, 0.1707778548947445, 0.49966479531114044, 0.20456582264106263, 0.11512317782475208, 0.2379878365534856, 0.4685081673806824, 0.032613008328849745, 0.14783336446917972, 0.03964148624669583, 0.07086436831964975, 0.2932627691624855, 0.0614017783608025, 0.08910342949457366, 0.11309423514748167, 0.2476763732734948, 0.056450424759363065, 0.17701709315402603, 0.10684995012499247, 0.10437529919708466, 0.09296112062767206, 0.08085397232437376, 0.05102357542321351, 0.20383346755696394, 0.39846222938073467, 0.05449108165544435, 0.040770961304379044, 0.16249190069480407, 0.2548961858512745, 0.1317144865425273, 0.39455375607978954, 0.10075268052925183, 0.3318112036318948, 0.09596063833994616, 0.2524351256125997, 0.2276257322480714, 0.11524460047305447, 0.15812223015665935, 0.05012183388925644, 0.04233821207341025, 0.08264895095222308, 0.046828533010609116, 0.10432979045989492, 0.12523572568523159, 0.05870399445812811, 0.16039832280683666, 0.07974606238438307, 0.0677980851218468, 0.04802047926554133, 0.21468361277641385, 0.05903942718150907, 0.14131557191104557, 0.14971111472774004, 0.07866280705508562, 0.08675167232734508, 0.24911482214840475, 0.124544439786496, 0.424604315869946, 0.06848564466523106, 0.12079055438501284, 0.3077376084916115, 0.3386090093892651, 0.14548433943529748, 0.09545273045032301, 0.05315840445265644, 0.2346292932674408, 0.07058072985869811, 0.43089795301079453, 0.15063221567509613, 0.26234582067522777, 0.10230214122882263, 0.24526481262366065, 0.1853127523818325, 0.02639685944055661, 0.13536803928192284, 0.14960968085811252, 0.04503342313415826, 0.11605104253686607, 0.17177069059878952, 0.18455328438932994, 0.10444013651715761, 0.0813557876922154, 0.12002171724689793, 0.33172003922123156, 0.11341159750208135, 0.25973965435512697, 0.24248112990256465, 0.2453287994245608, 0.053021704339962665, 0.3355714935738398, 0.08808220570130208, 0.2538490592973222, 0.21505673247239945, 0.34851894167752606, 0.23311459890602274, 0.09631844024629992, 0.07764760399989834, 0.032399617059207464, 0.16612091363323575, 0.15795233290110822, 0.1012022312883853, 0.059178157778331734, 0.057951067179869815, 0.22353445576618658, 0.37215695006116883, 0.10408609935891708, 0.2035442108914184, 0.14671902872206094, 0.309918697114582, 0.16744524762935803, 0.08339193316068369, 0.05658720248964436, 0.09510118802394128, 0.11415323888875056, 0.11086339770493236, 0.11415213570740551, 0.2989620064087732, 0.08333011368747117, 0.09640996229823823, 0.19685234492808704, 0.07801928939522405, 0.10073392162546616, 0.09457302275505657, 0.10338695965732987, 0.05444742304859566, 0.1032927759094273, 0.16294430032936968, 0.06343827987311179, 0.16480913849833345, 0.41204361364030595, 0.19996442643751217, 0.166904332057058, 0.0661269441782799, 0.17334416673520064, 0.03299779070289366, 0.08803382761372318, 0.2779814698261546, 0.03907845230347696, 0.2336655799356526, 0.18846515723843582, 0.03500176194373886, 0.11937466441533708, 0.07221485474594154, 0.08583947396736546, 0.13697292072932873, 0.16022864534498857, 0.08328145118805452, 0.038787620886511415, 0.05280744895028669, 0.169667353164389, 0.07266491518911647, 0.11646560352557117, 0.3028124672200866, 0.15943532811791722, 0.08248358877157318, 0.18182906631530565, 0.28838546115155467, 0.11137520752417437, 0.10000892973606104, 0.21382128671929504, 0.1299287738782058, 0.38244348951929524, 0.09324645805609791, 0.04094106583150531, 0.04387456858133322, 0.06368224282866411, 0.15090232893636815, 0.24598417762531596, 0.06995947711480159, 0.14778198701144865, 0.1622597575857742, 0.08635702568869282, 0.08995336142874272, 0.15491545295487372, 0.11785226522801677, 0.21274955492503017, 0.07424413392027839, 0.38316184115459667, 0.1432628716766607, 0.19086378593871625, 0.14042517346187763, 0.11837263358676595, 0.10294960290098915, 0.1926161826435625, 0.08118126411799993, 0.16922796185729438, 0.11381147997887647, 0.09323662935241592, 0.13797501997600925, 0.06267432308411172, 0.19883365367959877, 0.09694606205001581, 0.09724379790868488, 0.09810024382885242, 0.14962870228277894, 0.29059455203558665, 0.1914504725813277, 0.1261321733240045, 0.0915118774440699, 0.10232293485271712, 0.30381519499390974, 0.10143314582744538, 0.07064242729204771, 0.34351837500480403, 0.14548478815038765, 0.09415336432762443, 0.09862994205850545, 0.11483011913384124, 0.17428884675617073, 0.10143985077040786, 0.13921021289199795, 0.08963501817527302, 0.29461712497124315, 0.1372795111955071, 0.44091456792155265, 0.12110943209807805, 0.13653637233191976, 0.07685756726244382, 0.23324532022687006, 0.0663595585764017, 0.12547309211438076, 0.19211195188409677, 0.44874516651182467, 0.14124943889601707, 0.1625325684984369, 0.2735655296460462, 0.10369222014330362, 0.12523238175608847, 0.09581073465030535, 0.08270063042641186, 0.09148207141879988, 0.100502417735083, 0.06572373189191576, 0.19108467075947938, 0.18363230954339102, 0.09710414758927863, 0.04902882210048035, 0.029402093088972975, 0.48708209823002224, 0.09530259968701102, 0.05828106223402395, 0.2565366968326987, 0.31448956960413865, 0.04311166381378217, 0.12984633095488177, 0.1311017074083283, 0.09222256243045143, 0.05435534122958872, 0.3034143204994788, 0.26305033935106126, 0.07563610280103003, 0.23062624985821184, 0.06673208216616257, 0.17442587638566073, 0.15915485230107643, 0.12969160540816602, 0.09967659779875732, 0.2602747407409523, 0.26973552954727653, 0.08395386220398399, 0.22397521906480336, 0.11507066000777016, 0.15422207071663516, 0.19503922130135912, 0.13366702939443104, 0.22358318615514056, 0.16259594742839711, 0.19905212151994095, 0.13718471338624463, 0.26251382848926824, 0.1706668675994979, 0.3134697645393724, 0.15567231778790386, 0.06288425546359487, 0.25077032622023576, 0.37317192901964064, 0.06505224010671656, 0.04196404675580735, 0.16972329545644102, 0.12660466603872245, 0.260783520315416, 0.37180062280039444, 0.07468458741306641, 0.1778941786191638, 0.1736211879137014, 0.09088539313579717, 0.09726643091545363, 0.11199480420006833, 0.08806434580107063, 0.0596242236751095, 0.3166446176426239, 0.12671252744533654, 0.06354247737832666, 0.09616756043141712, 0.24961787289619794, 0.19499865617709794, 0.10596556352782051, 0.08170761718720738, 0.055053934238005, 0.14450416618794332, 0.18595011884579857, 0.275407915873673, 0.04908749237586653, 0.050919891382771205, 0.2687855555807564, 0.4070209022478072, 0.2126421149792749, 0.2760481678646449, 0.33149702544837006, 0.18008968019921645, 0.03315502747735293, 0.3031904243532663, 0.09498816058198373, 0.2531892686456916, 0.050802887336466616, 0.19466731219803654, 0.03195013372942308, 0.21235820762072885, 0.07586311899411731, 0.16003192222464077, 0.1261910474331216, 0.23394588460840218, 0.10279107849042267, 0.043457270166890764, 0.11888253438153992, 0.08186963044908614, 0.23869980885867112, 0.1926174099290656, 0.1481305112222064, 0.05329910122217321, 0.1503689326511117, 0.07640771690329344, 0.12103829444577775, 0.27306099418125823, 0.17033046226861132, 0.1675820247898013, 0.05064967384484528, 0.14584932584665278, 0.08626978588297443, 0.2431831575341121, 0.1368698587116297, 0.09575414825694663, 0.2346091721118659, 0.1147684817215103, 0.13025225367949736, 0.1518131322865129, 0.19518356084847707, 0.08890936474205181, 0.2783337085227682, 0.2547802636208598, 0.10630115178795393, 0.20534773426551553, 0.14378840698495812, 0.13846232542764494, 0.20119434839487338, 0.11524878111238436, 0.1484235934636783, 0.08598127454420981, 0.05467499354733935, 0.06984240037661205, 0.1573265047207222, 0.09672203102299137, 0.07964783016268251, 0.1410181697894301, 0.20016101587361765, 0.21529969821441555, 0.1484114643259329, 0.060572476594630074, 0.043821931022423564, 0.19416203392835524, 0.17456552543911424, 0.22252992973414945, 0.13745643810029848, 0.18869700368470446, 0.2119447032176159, 0.3722209995424603, 0.08568976954069865, 0.29070811158223425, 0.03389785580121085, 0.09894270911121107, 0.24661277703210482, 0.12909160315296037, 0.14910220540743901, 0.04189888197629647, 0.1770136487707789, 0.07922233041464148, 0.12256299906428106, 0.17229869997520209, 0.1113747432760008, 0.18935899133445863, 0.18196211848616622, 0.09537742549591784, 0.1577310614765802, 0.15100178921010687, 0.15072594807206016, 0.06332486095486123, 0.16713492057257992, 0.16877441440609675, 0.1002652259872141, 0.3103472638824242, 0.05449398264349687, 0.20129675187752372, 0.09235932174534447, 0.06293495634111736, 0.11540586773524839, 0.3184839512943124, 0.05068865640199327, 0.36994479612994646, 0.3498226745015437, 0.07730758884375759, 0.09962009574669976, 0.10849559723082772, 0.14150200931774426, 0.14148700486106755, 0.3493308352083059, 0.17682249877205555, 0.12170928910931322, 0.2980737774420895, 0.03795790793634413, 0.1438850435961862, 0.07383130359975829, 0.12593788489030738, 0.20292234701326156, 0.19869576661815708, 0.12003856561859652, 0.19247030328650397, 0.207022166804008, 0.09802499889795216, 0.03749665995956676, 0.07417670420012834, 0.06646529494395817, 0.1469477415009312, 0.11481444816887187, 0.11331268722910968, 0.05061715745393062, 0.15491318028322096, 0.1341233254107853, 0.20139063917969827, 0.1722755576477946, 0.3086758741792888, 0.0957781696967632, 0.13976738793854332, 0.1597770774920596, 0.11043641717003533, 0.39110097286858647, 0.2677951040539426, 0.1206333945548708, 0.0914973639276173, 0.23596906874332776, 0.09843734549121949, 0.1803537148570049, 0.18647486212718908, 0.12493100734180393, 0.11235819184438615, 0.503656121848458, 0.07379877104833414, 0.15719337334325623, 0.09054247750748874, 0.17377762802481733, 0.1306303473892266, 0.14554803623565685, 0.12357076119300606, 0.8283216726404561, 0.07226107971250893, 0.15203353976602044, 0.0859452424419048, 0.4182464679688456, 0.12178753730207224, 0.056625058922980545, 0.19953031798329915, 0.12474259607547815, 0.049218903902531703, 0.059033723972777744, 0.06006367479645506, 0.0506202570280121, 0.10318528990361654, 0.12073172235020184, 0.13449821886586943, 0.2016528355571287, 0.2781946565156484, 0.3189129228704624, 0.2077637820381245, 0.10358356970546143, 0.1266926220457948, 0.050357313627497124, 0.15686994072467775, 0.07307474247391677, 0.12576877378162443, 0.2802319216589463, 0.3562087279810955, 0.20403827384499665, 0.08018199158286148, 0.0626987329508524, 0.1780572880897049, 0.13674979285849503, 0.06017371876324969, 0.038120208284918064, 0.20929062165372508, 0.2310100723148859, 0.2895159995002162, 0.24618311849502475, 0.081135568161614, 0.14852467346896261, 0.2741410408682419, 0.18231495385534036, 0.31892629474291895, 0.07596549217055146, 0.2855574981777087, 0.27463600165410995, 0.1257040284506566, 0.11465624426066749, 0.1745273926405348, 0.24118754198498843, 0.3004854114357258, 0.0886539101315198, 0.13433530865035978, 0.15489748348300808, 0.39620990354993924, 0.13988768625155634, 0.13114096121175015, 0.07377016586369796, 0.25028121557975264, 0.13777678358009054, 0.4034759030000333, 0.13668319438671978, 0.07609492045146087, 0.039088223789830324, 0.164851290327975, 0.12804719754703264, 0.22090393033074285, 0.1250871465380261, 0.5434023865275187, 0.08357895281230265, 0.166554445114026, 0.07954368112831867, 0.05984774370965124, 0.1666332379706908, 0.19802923429607913, 0.10316138055342533, 0.23695745823555142, 0.10828821635167174, 0.059267257798393626, 0.049741713378656655, 0.0884880726377026, 0.20659597299961674, 0.07159218464569456, 0.17454203422390605, 0.126561730627655, 0.49183947366923564, 0.28098682953936305, 0.19715929087804515, 0.08002590205121046, 0.09721793573134949, 0.08997241984342316, 0.128948487130001, 0.10457949034201752, 0.1831638543274229, 0.11217133352493695, 0.08465393288427112, 0.29387350266937456, 0.054092786245652516, 0.1495782641163498, 0.07816874501777007, 0.24799610864239277, 0.0631324003512618, 0.3682944646874856, 0.12971509775127457, 0.11686100166788485, 0.06557948448627572, 0.09027183956788258, 0.12638467813083298, 0.20467193504435383, 0.15990667552257007, 0.14005017827076074, 0.1488047440441911, 0.056639296425773325, 0.16538728616970821, 0.26968262914978824, 0.09383433560381371, 0.10096727132399086, 0.09394734628178718, 0.05016991341308141, 0.2089825816160786, 0.14601296535623012, 0.09070155898203548, 0.058476937790354115, 0.16876069321527248, 0.07189861951024677, 0.18310626039124928, 0.137481429459261, 0.18916030518900714, 0.17319152184236442, 0.2655837167111786, 0.0692436529563809, 0.2278925849914664, 0.17651558714675497, 0.1569542126553027, 0.19080652260643885, 0.05734953702948297, 0.1529902915824381, 0.2641855755860847, 0.3207767076978761, 0.19113775979590783, 0.12084850068763665, 0.20000893888390747, 0.09113933165495591, 0.13565517431910612, 0.28141036195311553, 0.28805246944002794, 0.03566833607331928, 0.03805417282891518, 0.06761028661405974, 0.23882451965140403, 0.09678689751230878, 0.3325702095787052, 0.13925477081870008, 0.047043969486628964, 0.20558963345995124, 0.2956247436759592, 0.1609227065027996, 0.11092089464957731, 0.2676039177380822, 0.41902040143574226, 0.04386415791426987, 0.14749735971447878, 0.16225435402481092, 0.1562991800458009, 0.12430140233896919, 0.18827345265973852, 0.07339919220499683, 0.074375694220336, 0.13405746007951833, 0.1865594010556392, 0.16898316049536324, 0.09376588398467053, 0.10768408307718302, 0.17629921416351146, 0.3090128572537886, 0.13924699267860696, 0.02259345035435807, 0.13420014922914236, 0.12043353477529953, 0.09516157078342233, 0.1483745557204994, 0.25826411943257727, 0.12712161973450628, 0.13489602444750715, 0.11941461840097675, 0.30995900580933033, 0.11634095855001995, 0.12459173680604259, 0.16719030790936654, 0.2596536025641982, 0.23289037462034207, 0.11189454998381619, 0.05891670802987234, 0.18312731551834982, 0.1953739535575297, 0.27454167388469974, 0.1919263043065281, 0.38027532483442417, 0.13913120523723208, 0.15398599656811626, 0.22627054637443286, 0.2473059983788704, 0.1630916408071821, 0.16472560192581925, 0.1693713932185209, 0.19383776468856598, 0.1075946763136335, 0.12126582084381629, 0.1907993408766031, 0.07325327398131935, 0.2234975255339212, 0.07332756489269948, 0.054077111655619035, 0.12599343926145185, 0.13827291824391327, 0.2615941960160379, 0.2195323759756636, 0.19395530906409783, 0.06772032672196064, 0.326871609098685, 0.08037156377886787, 0.27063091151243807, 0.07048748988863587, 0.1282807233134958, 0.06443753125931358, 0.22112195778139213, 0.219905858683816, 0.07206323807167492, 0.07918594994615864, 0.15618725478505802, 0.04361501655668343, 0.17042209176782877, 0.044173579345288025, 0.23078429589917712, 0.20365928320410018, 0.04051682978391816, 0.17600032056954892, 0.061251856261408825, 0.060305903565246385, 0.11702768327590775, 0.20790983864713822, 0.23625788588165872, 0.5485056031698288, 0.1933285597603071, 0.10507285253192294, 0.14217855010617508, 0.1893158778676848, 0.11705877980077628, 0.1341140396725233, 0.08315000377077718, 0.07265207148475562, 0.18850535399570087, 0.12322970379693853, 0.1250210728340251, 0.1287306578892608, 0.10616156333803134, 0.3295912680979173, 0.19086512073631973, 0.548815063388927, 0.2722881182202497, 0.3429475189481611, 0.18407078926839615, 0.11007320077302546, 0.30896543642141994, 0.07028391618770272, 0.10606095403943601, 0.1902485180249004, 0.4440821960161318, 0.05830612996827607, 0.10015805791071786, 0.24711325989797758, 0.04987654829565356, 0.17091908170305803, 0.2629664265834637, 0.084219014316793, 0.15250522018405288, 0.10738708911947882, 0.10139538671917608, 0.17513519626843713, 0.1809029912522426, 0.10717031572506903, 0.028736069324274076, 0.11310923210712778, 0.17584472524983497, 0.06403350652583494, 0.3072403846811882, 0.14734287646444724, 0.16997526591379905, 0.16594176892199283, 0.12233959848643429, 0.3426934404575802, 0.07658720651009379, 0.06617769536958795, 0.08972657872659363, 0.2736064887750712, 0.045191630402744064, 0.15772036334237932, 0.24426499962549555, 0.07364577039999164, 0.10465648647639329, 0.10362131941328243, 0.11552993632948122, 0.24074952630337673, 0.13921565571183964, 0.07231133675269444, 0.12978722530003875, 0.05700779413863467, 0.14057363600518702, 0.08254044553768716, 0.11444071217640162, 0.44421858604444847, 0.24884939434935316, 0.09659408818032028, 0.09769655523087226, 0.4273976296744668, 0.13180943051732527, 0.09131961576768187, 0.16755719907823696, 0.09367896121439857, 0.12689146839718632, 0.16852348288846344, 0.23837055154774747, 0.12257502491660861, 0.26472329069387673, 0.1656409654864456, 0.13399887941093755, 0.3325999803196612, 0.09224630767312615, 0.09296488851822353, 0.10018844597564777, 0.07200596652912014, 0.041828508298198036, 0.05938748120962289, 0.20567697658373782, 0.31125568269923726, 0.04586342687808728, 0.2637331397711132, 0.055176653990637245, 0.23450157188389945, 0.17402574834429718, 0.16506418831964279, 0.15645289528331216, 0.10740450800176835, 0.13298645717888496, 0.11228154620731132, 0.06426260018164795, 0.10183097378950724, 0.2115626896256058, 0.071357683496844, 0.08355097884501086, 0.1374286437706078, 0.2961781079852251, 0.16541055553014536, 0.2710889570637247, 0.1429441118490021, 0.056918095247091675, 0.2797582058827554, 0.11160751117951315, 0.11720080881800869, 0.06339505378125432, 0.06610359689851521, 0.05551726664003069, 0.2080824312951035, 0.12967998249616655, 0.22587327244654953, 0.10602190224781445, 0.1002019547784627, 0.11995994211145318, 0.14220218007555632, 0.09881496621012444, 0.16246295226482524, 0.08059907647777739, 0.1846175439673811, 0.06953464372329939, 0.10704968475529031, 0.12014376956775288, 0.08295961361477289, 0.08389596271199755, 0.06584446383404849, 0.21222937224165747, 0.13826456968335646, 0.2147345318464197, 0.14803064676435865, 0.2545210835850345, 0.11788151439824945, 0.17307951389366627, 0.276884094199223, 0.09147714454458424, 0.1745105967119862, 0.10934937208164248, 0.29623311090356935, 0.17942302526928283, 0.10861308700457491, 0.5885156409852735, 0.22890786074596262, 0.07256402440091754, 0.2516487107373505, 0.14657728278232707, 0.2662402445844066, 0.12599183777949646, 0.4353688653822591, 0.12944404266777548, 0.17681806163375863, 0.05618301746700252, 0.043244235210526075, 0.15969165254893075, 0.03102133881921607, 0.07919721877697573, 0.14276169347804116, 0.09900170896737896, 0.16361948165039544, 0.14879202776132114, 0.09470359171506355, 0.24101366360806567, 0.10800456555150938, 0.08799063607557425, 0.07071031204757981, 0.07686899369057097, 0.1854479343027302, 0.09784734044349098, 0.12018405509968261, 0.08776223096009758, 0.08842121227561753, 0.3006243104319691, 0.046911074017356225, 0.5440181870337254, 0.09940574042959748, 0.2574624868528998, 0.38194652023200804, 0.0711413182924277, 0.14718327077164764, 0.12888327197989805, 0.20105982282403692, 0.2616378222957375, 0.15394899347928262, 0.2013459247172552, 0.6360247803188677, 0.09393848931183603, 0.12212974954155151, 0.34219948765906455, 0.03192520836127237, 0.1063995845125201, 0.2861021653362955, 0.08221625948704446, 0.21833817005727935, 0.17908392688900845, 0.06890086167810264, 0.25243841498653324, 0.29670712940326155, 0.13076331201654326, 0.196784076395617, 0.06522659208265166, 0.1323135057815961, 0.055921662851676913, 0.16610900151743271, 0.1216810357440428, 0.18277505152771012, 0.3431527213229991, 0.1600917298780498, 0.12030877149928697, 0.47604271257835723, 0.10798310750074971, 0.24161350328079698, 0.17026732794940797, 0.13035207006741095, 0.20975595548830736, 0.12518564038044758, 0.181928769846851, 0.1460674981165988, 0.06882385539963723, 0.08950622068627798, 0.1600759656735542, 0.271617798854051, 0.09960454206101019, 0.048693037911968814, 0.12802384622724686, 0.15399296553625222, 0.12746512508572966, 0.21960418033106316, 0.09105150923680036, 0.06820684537421447, 0.11723845411789219, 0.06849126926157657, 0.09841544647570878, 0.44087186383799937, 0.13734090670465088, 0.07160375032904447, 0.6060444490274917, 0.1017674929870265, 0.053800101467054995, 0.11329820427119516, 0.050671546034635154, 0.10598537830417039, 0.1306975877230783, 0.08968738145517735, 0.1925102348444348, 0.1132643216649735, 0.23831599174388127, 0.4396609454972742, 0.14724102761627636, 0.14628523861685733, 0.2648848471303341, 0.09486318919425751, 0.10509810436882018, 0.19414549139085555, 0.23113319208786431, 0.10093555755187206, 0.14214211457372955, 0.3481212109648144, 0.07076330849620857, 0.19296154460643142, 0.45948105324512367, 0.16579542557277185, 0.26822394235482344, 0.07925969919106834, 0.1698165592674296, 0.04931525038284708, 0.2398654355925952, 0.037206080574135124, 0.07003522364150094, 0.0665166368848238, 0.06779915877487049, 0.19504802944210314, 0.13286582672224145, 0.09045784579282189, 0.13012424854710417, 0.3575192444999564, 0.40329345060471516, 0.1045331387925466, 0.09184612081041965, 0.023486924312963616, 0.3148424446624714, 0.2362715669913441, 0.0690332465391626, 0.2356327310587856, 0.08890670233623803, 0.08187058204143606, 0.018638802878181943, 0.08874808448012805, 0.1318561561925617, 0.09031639840004939, 0.06695278843639768, 0.09887342329724788, 0.12450500820544147, 0.05680525896839981, 0.11852993668849865, 0.07213882443762651, 0.1718404308375986, 0.16657975629396002, 0.08518741193099784, 0.1734677160595055, 0.061594782932771264, 0.10142378648792359, 0.16490660699505202, 0.13417612337581844, 0.18780799189612743, 0.2504275913705421, 0.14059282849707036, 0.183472900576926, 0.4293503611300228, 0.15507150280713528, 0.04580236963069086, 0.14310325673072571, 0.08142013854406911, 0.12774667379374635, 0.3385880413520775, 0.0873109519458969, 0.11110075393506567, 0.0605307676659331, 0.12196697044387504, 0.16585777599677648, 0.13985448111966117, 0.12645193354333611, 0.19998913429079976, 0.05712786125017907, 0.03683180526076066, 0.11633557601574837, 0.06665984324487337, 0.19200392946924552, 0.10951068988831353, 0.06391317845438732, 0.18929058862347578, 0.09776616329386378, 0.05568136470501768, 0.15774785982100967, 0.2221443131016745, 0.15861393516845881, 0.09404509281165625, 0.1915684735101807, 0.27493479687217587, 0.1867937577703969, 0.11182557808482776, 0.06153403558593712, 0.18300094792788785, 0.1302896364323563, 0.11128274807966593, 0.42151423438233254, 0.13346902360339413, 0.09134263812446151, 0.06533114309592741, 0.11834044427012771, 0.12523760293692687, 0.07578779817559157, 0.041073516280149686, 0.05102959595066722, 0.23772379567873575, 0.08809248311318571, 0.21821009552855178, 0.15112747785361394, 0.09833964833124084, 0.3453700710379254, 0.07515171629252909, 0.1881582628968938, 0.0781093412318813, 0.12258691923955156, 0.08064220209480229, 0.35432749481861947, 0.19980113099987376, 0.11982242264333588, 0.03670976523231984, 0.06194345945200885, 0.2266239929011843, 0.3411536396023156, 0.13216932041677484, 0.10997516580314023, 0.14885153741076934, 0.2784881290934961, 0.06360479736598992, 0.037799776409593824, 0.12959679179583997, 0.11792887320504225, 0.12040613004685233, 0.12547496440657724, 0.12486609627683314, 0.1537472794012928, 0.07016255308856355, 0.32389026730126147, 0.0740113889466628, 0.2102448528119628, 0.10043536498056016, 0.11067414873807198, 0.2242066799119191, 0.2053530337021299, 0.1457900638951641, 0.41980662037443717, 0.08691991428575398, 0.13739040014032805, 0.21455787104573418, 0.17201586010619468, 0.13052570877932537, 0.08415366604153202, 0.267617951521093, 0.17060795462980508, 0.0959939417965808, 0.10763650510945104, 0.1374433653462298, 0.29307205580261975, 0.042740542374288065, 0.2869648531254729, 0.14914532626383317, 0.2008738501152055, 0.1175918445583683, 0.16449545349512457, 0.2071028819198828, 0.07300071477534824, 0.2952152048348734, 0.07089049287689718, 0.13701987120332026, 0.25335604882874496, 0.19050093006308552, 0.15204314962783905, 0.3657893807344954, 0.09847702312948711, 0.0720293125057536, 0.1715587466302018, 0.27303292488213965, 0.07929337704804673, 0.4847969343974799, 0.07755998646840927, 0.19096034123507763, 0.17322911244126998, 0.09495363580610362, 0.2644759627092066, 0.09669648334656836, 0.2768599370316906, 0.1650099953117444, 0.09966010413218045, 0.04955612860907816, 0.2754632028932602, 0.025293173198423204, 0.1334604222826077, 0.06912999197139091, 0.07745932669481849, 0.05688936287266727, 0.154904547518668, 0.16617294815330527, 0.19974031425339975, 0.055913929108932094, 0.3804505582893267, 0.17540227067937325, 0.07519032573887302, 0.10297996182482627, 0.04085697640571659, 0.30963943337599176, 0.25760845559327566, 0.1565279420305055, 0.2802973043886878, 0.08193435869202828, 0.03910930008298301, 0.17204026230225758, 0.07670790366602417, 0.07758561011048608, 0.20680205074405253, 0.05609997611919868, 0.27170692270941854, 0.05922969416086443, 0.04648336462270204]\n"
     ]
    }
   ],
   "source": [
    "#Logistic Regression\n",
    "lg=LogisticRegression()\n",
    "lg.fit(X_train,y_train)\n",
    "\n",
    "#predicted probabilities \n",
    "print(lg.predict_proba(X_test))\n",
    "\n",
    "pp1=lg.predict_proba(X_test)\n",
    "res3, res4=map(list,zip(*pp1))\n",
    "print(\"logistic listing,,.,.,.\")\n",
    "print(res3)\n",
    "print(res4)"
   ]
  },
  {
   "cell_type": "code",
   "execution_count": 56,
   "metadata": {},
   "outputs": [
    {
     "name": "stdout",
     "output_type": "stream",
     "text": [
      "[[0.91 0.09]\n",
      " [0.94 0.06]\n",
      " [0.95 0.05]\n",
      " ...\n",
      " [0.69 0.31]\n",
      " [0.9  0.1 ]\n",
      " [0.89 0.11]]\n",
      "listing,,.,.,.\n",
      "[0.91, 0.94, 0.95, 0.7, 0.91, 0.81, 0.98, 0.98, 0.98, 0.56, 0.96, 0.96, 0.86, 0.84, 0.97, 0.88, 0.88, 0.83, 0.72, 0.96, 0.71, 0.98, 0.9, 0.94, 0.93, 0.96, 0.89, 0.97, 0.88, 0.84, 0.92, 0.95, 0.67, 0.72, 0.89, 0.82, 0.75, 0.87, 0.92, 0.64, 0.92, 0.82, 0.86, 0.92, 0.76, 0.98, 0.59, 0.66, 0.98, 0.88, 0.99, 0.58, 0.89, 0.78, 0.82, 0.68, 0.81, 0.88, 0.86, 0.81, 1.0, 0.88, 0.87, 0.89, 0.91, 0.78, 0.56, 0.79, 0.87, 0.94, 0.77, 0.91, 0.98, 0.73, 0.85, 0.93, 0.93, 0.69, 0.92, 0.94, 0.63, 0.89, 0.87, 0.7, 0.97, 0.94, 0.93, 0.66, 0.77, 0.83, 0.92, 0.96, 0.65, 0.94, 0.6, 0.89, 0.93, 0.69, 0.56, 0.97, 0.97, 0.94, 0.82, 0.79, 0.99, 0.95, 0.97, 0.82, 0.96, 0.84, 0.96, 0.92, 0.97, 0.99, 0.93, 0.89, 0.34, 0.85, 0.94, 0.91, 0.79, 0.67, 0.77, 0.79, 0.71, 0.84, 0.81, 0.66, 0.88, 0.67, 0.94, 0.76, 0.78, 0.86, 0.99, 0.86, 0.93, 0.84, 0.9, 0.97, 0.92, 0.83, 0.93, 0.91, 0.89, 0.89, 0.92, 0.72, 0.92, 0.65, 0.92, 0.95, 0.79, 0.55, 0.79, 1.0, 0.96, 0.85, 0.9, 0.69, 0.87, 0.89, 0.83, 0.62, 0.77, 0.78, 0.97, 0.91, 0.98, 0.93, 0.74, 0.98, 0.87, 0.82, 0.96, 0.84, 0.95, 0.63, 0.8, 0.84, 0.95, 0.78, 0.93, 0.94, 0.76, 0.58, 0.69, 0.83, 0.85, 0.76, 0.99, 0.95, 1.0, 0.89, 0.82, 0.86, 0.71, 0.98, 0.81, 0.91, 0.81, 0.94, 0.92, 0.85, 0.84, 0.98, 0.79, 0.98, 0.86, 0.87, 0.66, 0.95, 0.88, 0.97, 0.81, 0.92, 0.82, 0.98, 0.93, 0.89, 0.76, 0.72, 0.87, 0.63, 0.98, 0.9, 0.83, 0.9, 0.7, 0.97, 0.9, 0.86, 0.91, 0.87, 0.98, 0.85, 0.77, 0.75, 0.89, 0.97, 0.84, 0.88, 0.98, 0.77, 0.67, 0.94, 0.99, 0.9, 0.82, 0.88, 0.8, 0.92, 0.95, 0.79, 0.81, 0.9, 0.97, 0.95, 0.95, 0.65, 0.99, 0.8, 0.96, 0.91, 0.92, 0.53, 0.91, 0.95, 0.96, 0.56, 0.95, 0.8, 0.97, 0.88, 0.85, 0.86, 0.96, 0.99, 0.95, 1.0, 0.83, 1.0, 0.73, 0.87, 0.78, 0.93, 0.87, 0.69, 0.92, 0.81, 0.99, 0.96, 0.82, 0.82, 0.86, 0.74, 0.82, 1.0, 0.93, 0.76, 0.81, 0.69, 0.74, 0.96, 0.74, 1.0, 0.42, 0.93, 0.98, 0.94, 0.7, 0.86, 0.8, 0.84, 0.52, 0.76, 0.79, 0.9, 0.92, 0.88, 0.89, 0.99, 0.88, 0.91, 0.72, 0.71, 0.98, 0.95, 0.93, 0.96, 0.48, 0.97, 0.82, 0.66, 0.78, 0.81, 0.78, 0.92, 0.89, 0.86, 0.89, 0.82, 0.9, 0.87, 0.96, 0.84, 0.86, 1.0, 0.89, 0.65, 0.6, 0.91, 0.89, 0.88, 0.95, 0.74, 0.95, 0.93, 0.76, 0.65, 0.96, 0.94, 0.72, 0.79, 0.93, 0.94, 0.8, 0.56, 0.96, 0.92, 0.74, 0.95, 0.83, 0.63, 0.95, 0.6, 0.88, 0.94, 0.99, 0.97, 0.99, 0.97, 0.86, 0.99, 0.84, 0.76, 0.85, 0.65, 0.86, 0.44, 0.97, 0.94, 0.66, 0.79, 0.95, 0.96, 0.74, 0.63, 0.87, 0.69, 0.91, 0.83, 0.92, 0.81, 0.92, 0.82, 0.93, 0.85, 0.89, 0.78, 0.96, 0.95, 0.67, 0.77, 0.92, 0.99, 0.84, 0.97, 0.92, 0.88, 0.75, 0.9, 0.88, 0.98, 0.6, 0.75, 0.98, 0.94, 0.94, 0.84, 0.7, 0.95, 0.96, 0.94, 0.82, 0.91, 0.7, 0.95, 0.93, 0.96, 0.78, 0.72, 0.88, 0.89, 0.7, 0.75, 0.61, 0.93, 0.96, 1.0, 0.93, 0.92, 0.91, 0.96, 0.83, 0.89, 0.87, 0.9, 0.84, 0.9, 0.95, 0.89, 0.83, 0.85, 0.68, 0.75, 0.65, 0.7, 0.79, 0.86, 0.85, 0.94, 0.91, 0.92, 0.96, 0.95, 0.57, 0.96, 0.99, 0.78, 0.76, 0.87, 0.73, 0.82, 0.97, 0.79, 0.96, 0.8, 0.87, 0.78, 0.8, 0.84, 0.91, 0.69, 0.89, 0.84, 0.9, 0.88, 1.0, 0.75, 0.77, 0.99, 0.84, 0.78, 0.74, 0.8, 0.62, 0.96, 0.97, 0.83, 0.94, 0.85, 0.93, 0.95, 0.78, 0.9, 0.77, 0.94, 0.98, 0.78, 0.88, 0.99, 0.95, 0.88, 0.93, 0.82, 0.84, 0.96, 0.97, 0.62, 0.94, 0.78, 0.96, 0.82, 0.83, 0.94, 0.66, 0.9, 0.98, 0.89, 0.75, 0.91, 0.81, 0.8, 0.7, 0.59, 0.48, 0.99, 0.96, 0.83, 0.39, 0.86, 0.88, 0.65, 0.31, 0.72, 0.81, 0.75, 0.57, 0.86, 0.91, 0.86, 1.0, 0.88, 0.91, 0.95, 0.89, 0.96, 0.92, 0.95, 0.77, 0.84, 0.76, 0.37, 0.77, 0.77, 0.89, 0.9, 0.97, 0.86, 0.63, 0.68, 0.91, 0.96, 0.91, 0.81, 0.79, 0.9, 0.85, 0.8, 0.8, 0.62, 0.62, 0.91, 0.88, 0.8, 0.59, 0.8, 0.97, 0.83, 0.73, 0.89, 0.96, 0.91, 0.8, 0.66, 0.95, 0.9, 0.89, 0.59, 0.94, 0.97, 0.97, 0.6, 0.9, 0.69, 0.96, 0.99, 0.9, 0.84, 0.88, 0.83, 0.9, 0.65, 0.82, 0.82, 0.9, 0.96, 0.89, 0.81, 0.9, 0.9, 0.73, 0.91, 0.94, 0.92, 0.74, 0.96, 0.82, 0.99, 0.6, 0.66, 0.72, 0.92, 0.99, 0.91, 0.79, 0.98, 0.96, 0.71, 0.55, 0.93, 0.97, 0.96, 0.9, 0.59, 0.96, 0.7, 0.9, 0.98, 0.97, 0.86, 0.89, 0.9, 0.85, 0.82, 0.9, 0.91, 0.85, 0.95, 0.95, 0.93, 0.74, 0.92, 0.87, 0.84, 0.96, 0.95, 0.8, 0.93, 0.87, 0.83, 0.9, 0.66, 0.6, 0.97, 0.92, 0.67, 0.88, 0.92, 0.99, 0.78, 0.53, 0.67, 0.91, 0.9, 0.82, 1.0, 0.96, 0.75, 0.69, 0.92, 0.98, 0.97, 0.86, 0.96, 0.78, 0.91, 0.92, 0.84, 0.77, 0.79, 0.93, 0.76, 0.75, 0.96, 0.91, 0.66, 0.85, 0.93, 0.83, 0.96, 0.99, 0.94, 0.88, 0.76, 0.99, 0.96, 0.64, 0.59, 0.91, 0.93, 0.97, 0.72, 0.9, 0.87, 0.78, 0.93, 0.83, 0.97, 0.78, 0.76, 0.94, 0.92, 0.75, 0.7, 0.88, 0.85, 0.89, 0.7, 0.83, 0.93, 0.79, 0.73, 0.81, 0.96, 0.69, 0.71, 1.0, 0.93, 0.89, 0.72, 0.98, 0.82, 0.91, 0.77, 0.96, 0.93, 0.94, 0.93, 0.77, 0.56, 0.68, 0.96, 0.75, 0.96, 0.59, 0.93, 0.84, 0.94, 0.56, 0.98, 0.65, 0.94, 0.91, 0.74, 0.68, 0.92, 0.9, 0.85, 0.86, 0.83, 0.83, 0.87, 0.94, 0.87, 0.8, 0.6, 0.82, 0.94, 0.89, 0.86, 0.89, 0.83, 0.78, 0.77, 0.83, 0.59, 0.54, 0.96, 0.95, 0.74, 0.82, 0.43, 0.77, 0.44, 0.81, 0.89, 0.84, 0.95, 0.85, 0.81, 0.76, 1.0, 0.49, 0.81, 0.98, 0.97, 0.79, 0.94, 0.92, 0.96, 0.88, 0.81, 0.75, 0.99, 0.9, 0.92, 0.91, 0.85, 0.66, 0.87, 0.48, 0.91, 0.85, 0.81, 0.93, 0.94, 0.81, 0.65, 1.0, 0.88, 0.88, 0.95, 0.94, 0.93, 0.81, 0.86, 0.93, 0.83, 0.6, 0.89, 0.99, 0.79, 0.92, 0.71, 0.96, 0.92, 0.92, 0.73, 0.8, 0.87, 0.98, 0.92, 0.99, 0.95, 0.81, 0.98, 0.66, 0.87, 0.82, 0.56, 0.83, 0.91, 0.83, 0.96, 0.81, 0.82, 0.52, 0.83, 0.96, 0.5, 0.94, 0.67, 0.91, 0.83, 0.84, 1.0, 0.97, 0.95, 1.0, 0.8, 0.8, 0.77, 0.83, 0.8, 0.85, 0.97, 0.66, 0.96, 0.89, 0.78, 0.96, 0.81, 0.87, 0.99, 0.97, 0.93, 0.81, 0.85, 1.0, 0.94, 0.97, 0.94, 0.91, 0.89, 0.92, 0.76, 0.99, 0.94, 0.98, 0.94, 0.92, 0.85, 0.86, 0.96, 0.71, 0.9, 0.77, 0.89, 0.95, 0.73, 0.89, 0.92, 0.45, 0.82, 0.84, 0.88, 0.7, 0.87, 0.96, 0.89, 0.92, 0.83, 0.88, 0.62, 0.89, 0.92, 0.87, 0.97, 0.99, 0.63, 0.9, 0.87, 0.93, 0.75, 0.81, 0.96, 0.91, 1.0, 1.0, 0.93, 0.84, 0.93, 0.95, 0.94, 0.77, 0.91, 0.71, 0.87, 0.36, 0.99, 0.78, 0.81, 0.93, 0.91, 0.96, 0.62, 0.89, 0.85, 0.81, 0.47, 0.95, 0.78, 0.89, 0.91, 0.84, 0.93, 0.88, 0.78, 0.87, 1.0, 0.85, 0.54, 0.96, 0.78, 1.0, 0.87, 0.91, 0.9, 0.97, 0.92, 0.48, 0.73, 0.53, 0.6, 0.96, 0.65, 0.85, 0.77, 0.92, 0.95, 0.98, 0.85, 0.83, 0.73, 0.84, 0.78, 0.95, 0.91, 0.83, 0.87, 0.64, 0.62, 0.92, 0.98, 0.92, 0.98, 0.84, 0.43, 0.92, 0.92, 0.47, 0.85, 1.0, 0.95, 0.96, 0.93, 0.9, 0.95, 0.75, 0.96, 0.87, 0.54, 0.97, 0.74, 0.81, 0.98, 0.92, 0.95, 0.87, 0.93, 0.97, 0.6, 0.58, 0.9, 0.75, 0.9, 0.59, 0.87, 0.8, 0.82, 0.94, 0.86, 0.98, 0.79, 0.67, 0.86, 0.96, 1.0, 0.93, 0.68, 0.66, 0.9, 0.99, 0.93, 0.3, 0.83, 0.89, 0.89, 0.62, 0.67, 0.95, 0.64, 0.64, 0.79, 1.0, 0.87, 0.94, 0.67, 0.94, 0.71, 0.95, 0.88, 0.97, 0.9, 0.95, 0.96, 0.83, 0.93, 0.75, 0.88, 0.92, 0.87, 0.58, 0.9, 0.95, 0.76, 0.87, 0.84, 0.45, 0.96, 0.91, 0.94, 0.91, 0.86, 0.69, 0.79, 0.62, 0.94, 0.91, 0.92, 0.87, 0.86, 0.87, 0.73, 0.9, 0.98, 0.95, 0.96, 0.64, 0.67, 0.94, 0.8, 0.74, 0.8, 0.72, 0.85, 0.83, 0.94, 0.95, 0.59, 0.9, 0.93, 0.88, 0.87, 0.71, 0.9, 0.88, 0.93, 0.83, 0.82, 0.81, 0.75, 0.98, 0.72, 0.79, 0.75, 0.98, 0.84, 0.68, 0.44, 0.8, 0.87, 0.89, 0.9, 0.84, 0.67, 0.86, 0.61, 0.79, 0.83, 0.77, 0.94, 0.84, 0.85, 0.91, 0.74, 0.71, 0.89, 0.83, 0.93, 0.88, 0.65, 0.96, 0.86, 0.8, 0.67, 0.85, 0.79, 1.0, 0.7, 0.87, 0.94, 0.89, 0.93, 0.56, 0.9, 0.93, 0.95, 0.83, 0.73, 0.86, 0.63, 0.96, 0.79, 0.71, 0.91, 0.84, 0.86, 0.49, 0.96, 0.92, 0.87, 0.71, 0.91, 0.69, 0.86, 0.86, 0.82, 0.69, 0.6, 0.4, 0.84, 0.74, 0.8, 0.94, 0.85, 0.98, 0.77, 0.78, 0.9, 0.8, 0.69, 0.97, 0.64, 0.97, 0.8, 0.99, 0.73, 0.94, 0.72, 0.92, 0.76, 0.99, 0.87, 0.89, 0.96, 0.79, 0.91, 0.79, 0.67, 0.95, 0.58, 0.89, 0.9, 0.94, 0.78, 0.84, 0.69, 0.9, 0.89]\n",
      "[0.09, 0.06, 0.05, 0.3, 0.09, 0.19, 0.02, 0.02, 0.02, 0.44, 0.04, 0.04, 0.14, 0.16, 0.03, 0.12, 0.12, 0.17, 0.28, 0.04, 0.29, 0.02, 0.1, 0.06, 0.07, 0.04, 0.11, 0.03, 0.12, 0.16, 0.08, 0.05, 0.33, 0.28, 0.11, 0.18, 0.25, 0.13, 0.08, 0.36, 0.08, 0.18, 0.14, 0.08, 0.24, 0.02, 0.41, 0.34, 0.02, 0.12, 0.01, 0.42, 0.11, 0.22, 0.18, 0.32, 0.19, 0.12, 0.14, 0.19, 0.0, 0.12, 0.13, 0.11, 0.09, 0.22, 0.44, 0.21, 0.13, 0.06, 0.23, 0.09, 0.02, 0.27, 0.15, 0.07, 0.07, 0.31, 0.08, 0.06, 0.37, 0.11, 0.13, 0.3, 0.03, 0.06, 0.07, 0.34, 0.23, 0.17, 0.08, 0.04, 0.35, 0.06, 0.4, 0.11, 0.07, 0.31, 0.44, 0.03, 0.03, 0.06, 0.18, 0.21, 0.01, 0.05, 0.03, 0.18, 0.04, 0.16, 0.04, 0.08, 0.03, 0.01, 0.07, 0.11, 0.66, 0.15, 0.06, 0.09, 0.21, 0.33, 0.23, 0.21, 0.29, 0.16, 0.19, 0.34, 0.12, 0.33, 0.06, 0.24, 0.22, 0.14, 0.01, 0.14, 0.07, 0.16, 0.1, 0.03, 0.08, 0.17, 0.07, 0.09, 0.11, 0.11, 0.08, 0.28, 0.08, 0.35, 0.08, 0.05, 0.21, 0.45, 0.21, 0.0, 0.04, 0.15, 0.1, 0.31, 0.13, 0.11, 0.17, 0.38, 0.23, 0.22, 0.03, 0.09, 0.02, 0.07, 0.26, 0.02, 0.13, 0.18, 0.04, 0.16, 0.05, 0.37, 0.2, 0.16, 0.05, 0.22, 0.07, 0.06, 0.24, 0.42, 0.31, 0.17, 0.15, 0.24, 0.01, 0.05, 0.0, 0.11, 0.18, 0.14, 0.29, 0.02, 0.19, 0.09, 0.19, 0.06, 0.08, 0.15, 0.16, 0.02, 0.21, 0.02, 0.14, 0.13, 0.34, 0.05, 0.12, 0.03, 0.19, 0.08, 0.18, 0.02, 0.07, 0.11, 0.24, 0.28, 0.13, 0.37, 0.02, 0.1, 0.17, 0.1, 0.3, 0.03, 0.1, 0.14, 0.09, 0.13, 0.02, 0.15, 0.23, 0.25, 0.11, 0.03, 0.16, 0.12, 0.02, 0.23, 0.33, 0.06, 0.01, 0.1, 0.18, 0.12, 0.2, 0.08, 0.05, 0.21, 0.19, 0.1, 0.03, 0.05, 0.05, 0.35, 0.01, 0.2, 0.04, 0.09, 0.08, 0.47, 0.09, 0.05, 0.04, 0.44, 0.05, 0.2, 0.03, 0.12, 0.15, 0.14, 0.04, 0.01, 0.05, 0.0, 0.17, 0.0, 0.27, 0.13, 0.22, 0.07, 0.13, 0.31, 0.08, 0.19, 0.01, 0.04, 0.18, 0.18, 0.14, 0.26, 0.18, 0.0, 0.07, 0.24, 0.19, 0.31, 0.26, 0.04, 0.26, 0.0, 0.58, 0.07, 0.02, 0.06, 0.3, 0.14, 0.2, 0.16, 0.48, 0.24, 0.21, 0.1, 0.08, 0.12, 0.11, 0.01, 0.12, 0.09, 0.28, 0.29, 0.02, 0.05, 0.07, 0.04, 0.52, 0.03, 0.18, 0.34, 0.22, 0.19, 0.22, 0.08, 0.11, 0.14, 0.11, 0.18, 0.1, 0.13, 0.04, 0.16, 0.14, 0.0, 0.11, 0.35, 0.4, 0.09, 0.11, 0.12, 0.05, 0.26, 0.05, 0.07, 0.24, 0.35, 0.04, 0.06, 0.28, 0.21, 0.07, 0.06, 0.2, 0.44, 0.04, 0.08, 0.26, 0.05, 0.17, 0.37, 0.05, 0.4, 0.12, 0.06, 0.01, 0.03, 0.01, 0.03, 0.14, 0.01, 0.16, 0.24, 0.15, 0.35, 0.14, 0.56, 0.03, 0.06, 0.34, 0.21, 0.05, 0.04, 0.26, 0.37, 0.13, 0.31, 0.09, 0.17, 0.08, 0.19, 0.08, 0.18, 0.07, 0.15, 0.11, 0.22, 0.04, 0.05, 0.33, 0.23, 0.08, 0.01, 0.16, 0.03, 0.08, 0.12, 0.25, 0.1, 0.12, 0.02, 0.4, 0.25, 0.02, 0.06, 0.06, 0.16, 0.3, 0.05, 0.04, 0.06, 0.18, 0.09, 0.3, 0.05, 0.07, 0.04, 0.22, 0.28, 0.12, 0.11, 0.3, 0.25, 0.39, 0.07, 0.04, 0.0, 0.07, 0.08, 0.09, 0.04, 0.17, 0.11, 0.13, 0.1, 0.16, 0.1, 0.05, 0.11, 0.17, 0.15, 0.32, 0.25, 0.35, 0.3, 0.21, 0.14, 0.15, 0.06, 0.09, 0.08, 0.04, 0.05, 0.43, 0.04, 0.01, 0.22, 0.24, 0.13, 0.27, 0.18, 0.03, 0.21, 0.04, 0.2, 0.13, 0.22, 0.2, 0.16, 0.09, 0.31, 0.11, 0.16, 0.1, 0.12, 0.0, 0.25, 0.23, 0.01, 0.16, 0.22, 0.26, 0.2, 0.38, 0.04, 0.03, 0.17, 0.06, 0.15, 0.07, 0.05, 0.22, 0.1, 0.23, 0.06, 0.02, 0.22, 0.12, 0.01, 0.05, 0.12, 0.07, 0.18, 0.16, 0.04, 0.03, 0.38, 0.06, 0.22, 0.04, 0.18, 0.17, 0.06, 0.34, 0.1, 0.02, 0.11, 0.25, 0.09, 0.19, 0.2, 0.3, 0.41, 0.52, 0.01, 0.04, 0.17, 0.61, 0.14, 0.12, 0.35, 0.69, 0.28, 0.19, 0.25, 0.43, 0.14, 0.09, 0.14, 0.0, 0.12, 0.09, 0.05, 0.11, 0.04, 0.08, 0.05, 0.23, 0.16, 0.24, 0.63, 0.23, 0.23, 0.11, 0.1, 0.03, 0.14, 0.37, 0.32, 0.09, 0.04, 0.09, 0.19, 0.21, 0.1, 0.15, 0.2, 0.2, 0.38, 0.38, 0.09, 0.12, 0.2, 0.41, 0.2, 0.03, 0.17, 0.27, 0.11, 0.04, 0.09, 0.2, 0.34, 0.05, 0.1, 0.11, 0.41, 0.06, 0.03, 0.03, 0.4, 0.1, 0.31, 0.04, 0.01, 0.1, 0.16, 0.12, 0.17, 0.1, 0.35, 0.18, 0.18, 0.1, 0.04, 0.11, 0.19, 0.1, 0.1, 0.27, 0.09, 0.06, 0.08, 0.26, 0.04, 0.18, 0.01, 0.4, 0.34, 0.28, 0.08, 0.01, 0.09, 0.21, 0.02, 0.04, 0.29, 0.45, 0.07, 0.03, 0.04, 0.1, 0.41, 0.04, 0.3, 0.1, 0.02, 0.03, 0.14, 0.11, 0.1, 0.15, 0.18, 0.1, 0.09, 0.15, 0.05, 0.05, 0.07, 0.26, 0.08, 0.13, 0.16, 0.04, 0.05, 0.2, 0.07, 0.13, 0.17, 0.1, 0.34, 0.4, 0.03, 0.08, 0.33, 0.12, 0.08, 0.01, 0.22, 0.47, 0.33, 0.09, 0.1, 0.18, 0.0, 0.04, 0.25, 0.31, 0.08, 0.02, 0.03, 0.14, 0.04, 0.22, 0.09, 0.08, 0.16, 0.23, 0.21, 0.07, 0.24, 0.25, 0.04, 0.09, 0.34, 0.15, 0.07, 0.17, 0.04, 0.01, 0.06, 0.12, 0.24, 0.01, 0.04, 0.36, 0.41, 0.09, 0.07, 0.03, 0.28, 0.1, 0.13, 0.22, 0.07, 0.17, 0.03, 0.22, 0.24, 0.06, 0.08, 0.25, 0.3, 0.12, 0.15, 0.11, 0.3, 0.17, 0.07, 0.21, 0.27, 0.19, 0.04, 0.31, 0.29, 0.0, 0.07, 0.11, 0.28, 0.02, 0.18, 0.09, 0.23, 0.04, 0.07, 0.06, 0.07, 0.23, 0.44, 0.32, 0.04, 0.25, 0.04, 0.41, 0.07, 0.16, 0.06, 0.44, 0.02, 0.35, 0.06, 0.09, 0.26, 0.32, 0.08, 0.1, 0.15, 0.14, 0.17, 0.17, 0.13, 0.06, 0.13, 0.2, 0.4, 0.18, 0.06, 0.11, 0.14, 0.11, 0.17, 0.22, 0.23, 0.17, 0.41, 0.46, 0.04, 0.05, 0.26, 0.18, 0.57, 0.23, 0.56, 0.19, 0.11, 0.16, 0.05, 0.15, 0.19, 0.24, 0.0, 0.51, 0.19, 0.02, 0.03, 0.21, 0.06, 0.08, 0.04, 0.12, 0.19, 0.25, 0.01, 0.1, 0.08, 0.09, 0.15, 0.34, 0.13, 0.52, 0.09, 0.15, 0.19, 0.07, 0.06, 0.19, 0.35, 0.0, 0.12, 0.12, 0.05, 0.06, 0.07, 0.19, 0.14, 0.07, 0.17, 0.4, 0.11, 0.01, 0.21, 0.08, 0.29, 0.04, 0.08, 0.08, 0.27, 0.2, 0.13, 0.02, 0.08, 0.01, 0.05, 0.19, 0.02, 0.34, 0.13, 0.18, 0.44, 0.17, 0.09, 0.17, 0.04, 0.19, 0.18, 0.48, 0.17, 0.04, 0.5, 0.06, 0.33, 0.09, 0.17, 0.16, 0.0, 0.03, 0.05, 0.0, 0.2, 0.2, 0.23, 0.17, 0.2, 0.15, 0.03, 0.34, 0.04, 0.11, 0.22, 0.04, 0.19, 0.13, 0.01, 0.03, 0.07, 0.19, 0.15, 0.0, 0.06, 0.03, 0.06, 0.09, 0.11, 0.08, 0.24, 0.01, 0.06, 0.02, 0.06, 0.08, 0.15, 0.14, 0.04, 0.29, 0.1, 0.23, 0.11, 0.05, 0.27, 0.11, 0.08, 0.55, 0.18, 0.16, 0.12, 0.3, 0.13, 0.04, 0.11, 0.08, 0.17, 0.12, 0.38, 0.11, 0.08, 0.13, 0.03, 0.01, 0.37, 0.1, 0.13, 0.07, 0.25, 0.19, 0.04, 0.09, 0.0, 0.0, 0.07, 0.16, 0.07, 0.05, 0.06, 0.23, 0.09, 0.29, 0.13, 0.64, 0.01, 0.22, 0.19, 0.07, 0.09, 0.04, 0.38, 0.11, 0.15, 0.19, 0.53, 0.05, 0.22, 0.11, 0.09, 0.16, 0.07, 0.12, 0.22, 0.13, 0.0, 0.15, 0.46, 0.04, 0.22, 0.0, 0.13, 0.09, 0.1, 0.03, 0.08, 0.52, 0.27, 0.47, 0.4, 0.04, 0.35, 0.15, 0.23, 0.08, 0.05, 0.02, 0.15, 0.17, 0.27, 0.16, 0.22, 0.05, 0.09, 0.17, 0.13, 0.36, 0.38, 0.08, 0.02, 0.08, 0.02, 0.16, 0.57, 0.08, 0.08, 0.53, 0.15, 0.0, 0.05, 0.04, 0.07, 0.1, 0.05, 0.25, 0.04, 0.13, 0.46, 0.03, 0.26, 0.19, 0.02, 0.08, 0.05, 0.13, 0.07, 0.03, 0.4, 0.42, 0.1, 0.25, 0.1, 0.41, 0.13, 0.2, 0.18, 0.06, 0.14, 0.02, 0.21, 0.33, 0.14, 0.04, 0.0, 0.07, 0.32, 0.34, 0.1, 0.01, 0.07, 0.7, 0.17, 0.11, 0.11, 0.38, 0.33, 0.05, 0.36, 0.36, 0.21, 0.0, 0.13, 0.06, 0.33, 0.06, 0.29, 0.05, 0.12, 0.03, 0.1, 0.05, 0.04, 0.17, 0.07, 0.25, 0.12, 0.08, 0.13, 0.42, 0.1, 0.05, 0.24, 0.13, 0.16, 0.55, 0.04, 0.09, 0.06, 0.09, 0.14, 0.31, 0.21, 0.38, 0.06, 0.09, 0.08, 0.13, 0.14, 0.13, 0.27, 0.1, 0.02, 0.05, 0.04, 0.36, 0.33, 0.06, 0.2, 0.26, 0.2, 0.28, 0.15, 0.17, 0.06, 0.05, 0.41, 0.1, 0.07, 0.12, 0.13, 0.29, 0.1, 0.12, 0.07, 0.17, 0.18, 0.19, 0.25, 0.02, 0.28, 0.21, 0.25, 0.02, 0.16, 0.32, 0.56, 0.2, 0.13, 0.11, 0.1, 0.16, 0.33, 0.14, 0.39, 0.21, 0.17, 0.23, 0.06, 0.16, 0.15, 0.09, 0.26, 0.29, 0.11, 0.17, 0.07, 0.12, 0.35, 0.04, 0.14, 0.2, 0.33, 0.15, 0.21, 0.0, 0.3, 0.13, 0.06, 0.11, 0.07, 0.44, 0.1, 0.07, 0.05, 0.17, 0.27, 0.14, 0.37, 0.04, 0.21, 0.29, 0.09, 0.16, 0.14, 0.51, 0.04, 0.08, 0.13, 0.29, 0.09, 0.31, 0.14, 0.14, 0.18, 0.31, 0.4, 0.6, 0.16, 0.26, 0.2, 0.06, 0.15, 0.02, 0.23, 0.22, 0.1, 0.2, 0.31, 0.03, 0.36, 0.03, 0.2, 0.01, 0.27, 0.06, 0.28, 0.08, 0.24, 0.01, 0.13, 0.11, 0.04, 0.21, 0.09, 0.21, 0.33, 0.05, 0.42, 0.11, 0.1, 0.06, 0.22, 0.16, 0.31, 0.1, 0.11]\n"
     ]
    }
   ],
   "source": [
    "#Random Forest\n",
    "rf=RandomForestClassifier(n_estimators=100,random_state=1,n_jobs=-1)\n",
    "rf.fit(X_train,y_train)\n",
    "\n",
    "print(rf.predict_proba(X_test))\n",
    "pp=rf.predict_proba(X_test)\n",
    "res1, res2=map(list,zip(*pp))\n",
    "print(\"listing,,.,.,.\")\n",
    "print(res1)\n",
    "print(res2)"
   ]
  },
  {
   "cell_type": "code",
   "execution_count": 57,
   "metadata": {},
   "outputs": [
    {
     "name": "stdout",
     "output_type": "stream",
     "text": [
      "optimum weight obtained:  0.58\n"
     ]
    }
   ],
   "source": [
    "scores= []\n",
    "s=lg.predict_proba(X_test)\n",
    "r=rf.predict_proba(X_test)\n",
    "\n",
    "for w in range(0, 100):\n",
    "    w=w/100\n",
    "    scores.append(log_loss(y_test,w*r+(1-w)*s))\n",
    "\n",
    "b=min(scores)\n",
    "we=scores.index(b)/100\n",
    "print('optimum weight obtained: ',we)"
   ]
  },
  {
   "cell_type": "code",
   "execution_count": 58,
   "metadata": {},
   "outputs": [
    {
     "name": "stdout",
     "output_type": "stream",
     "text": [
      "Predicted values\n",
      "[0, 0, 0, 0, 0, 0, 0, 0, 0, 0, 0, 0, 0, 0, 0, 0, 0, 0, 0, 0, 0, 0, 0, 0, 0, 0, 0, 0, 0, 0, 0, 0, 0, 0, 0, 0, 0, 0, 0, 0, 0, 0, 0, 0, 0, 0, 0, 0, 0, 0, 0, 0, 0, 0, 0, 0, 0, 0, 0, 0, 0, 0, 0, 0, 0, 0, 0, 0, 0, 0, 0, 0, 0, 0, 0, 0, 0, 0, 0, 0, 0, 0, 0, 0, 0, 0, 0, 0, 0, 0, 0, 0, 0, 0, 0, 0, 0, 0, 0, 0, 0, 0, 0, 0, 0, 0, 0, 0, 0, 0, 0, 0, 0, 0, 0, 0, 1, 0, 0, 0, 0, 0, 0, 0, 0, 0, 0, 0, 0, 0, 0, 0, 0, 0, 0, 0, 0, 0, 0, 0, 0, 0, 0, 0, 0, 0, 0, 0, 0, 0, 0, 0, 0, 0, 0, 0, 0, 0, 0, 0, 0, 0, 0, 0, 0, 0, 0, 0, 0, 0, 0, 0, 0, 0, 0, 0, 0, 0, 0, 0, 0, 0, 0, 0, 0, 0, 0, 0, 0, 0, 0, 0, 0, 0, 0, 0, 0, 0, 0, 0, 0, 0, 0, 0, 0, 0, 0, 0, 0, 0, 0, 0, 0, 0, 0, 0, 0, 0, 0, 0, 0, 0, 0, 0, 0, 0, 0, 0, 0, 0, 0, 0, 0, 0, 0, 0, 0, 0, 0, 0, 0, 0, 0, 0, 0, 0, 0, 0, 0, 0, 0, 0, 0, 0, 0, 0, 0, 0, 0, 0, 0, 0, 0, 0, 0, 0, 0, 0, 0, 0, 0, 0, 0, 0, 0, 0, 0, 0, 0, 0, 0, 0, 0, 0, 0, 0, 0, 0, 0, 0, 0, 0, 0, 0, 0, 0, 0, 0, 0, 0, 0, 0, 0, 0, 0, 0, 1, 0, 0, 0, 0, 0, 0, 0, 0, 0, 0, 0, 0, 0, 0, 0, 0, 0, 0, 0, 0, 0, 0, 0, 1, 0, 0, 0, 0, 0, 0, 0, 0, 0, 0, 0, 0, 0, 0, 0, 0, 0, 0, 0, 0, 0, 0, 0, 0, 0, 0, 0, 0, 0, 0, 0, 0, 0, 0, 0, 0, 0, 0, 0, 0, 0, 0, 0, 0, 0, 0, 0, 0, 0, 0, 0, 0, 0, 0, 0, 0, 0, 0, 0, 0, 0, 0, 0, 0, 0, 0, 0, 0, 0, 0, 0, 0, 0, 0, 0, 0, 0, 0, 0, 0, 0, 0, 0, 0, 0, 0, 0, 0, 0, 0, 0, 0, 0, 0, 0, 0, 0, 0, 0, 0, 0, 0, 0, 0, 0, 0, 0, 0, 0, 0, 0, 0, 0, 0, 0, 0, 0, 0, 0, 0, 0, 0, 0, 0, 0, 0, 0, 0, 0, 0, 0, 0, 0, 0, 0, 0, 0, 0, 0, 0, 0, 0, 0, 0, 0, 0, 0, 0, 0, 0, 0, 0, 0, 0, 0, 0, 0, 0, 0, 0, 0, 0, 0, 0, 0, 0, 0, 0, 0, 0, 0, 0, 0, 0, 0, 0, 0, 0, 0, 0, 0, 0, 0, 0, 0, 0, 0, 0, 0, 0, 0, 0, 0, 0, 0, 0, 0, 0, 0, 0, 0, 0, 0, 0, 0, 0, 0, 0, 0, 0, 0, 0, 0, 0, 0, 1, 0, 0, 0, 0, 0, 0, 0, 1, 0, 0, 0, 0, 0, 0, 0, 0, 0, 0, 0, 0, 0, 0, 0, 0, 0, 0, 0, 0, 0, 0, 0, 0, 0, 0, 0, 0, 0, 0, 0, 0, 0, 0, 0, 0, 0, 0, 0, 0, 0, 0, 0, 0, 0, 0, 0, 0, 0, 0, 0, 0, 0, 0, 0, 0, 0, 0, 0, 0, 0, 0, 0, 0, 0, 0, 0, 0, 0, 0, 0, 0, 0, 0, 0, 0, 0, 0, 0, 0, 0, 0, 0, 0, 0, 0, 0, 0, 0, 0, 0, 0, 0, 0, 0, 0, 0, 0, 0, 0, 0, 0, 0, 0, 0, 0, 0, 0, 0, 0, 0, 0, 0, 0, 0, 0, 0, 0, 0, 0, 0, 0, 0, 0, 0, 0, 0, 0, 0, 0, 0, 0, 0, 0, 0, 0, 0, 0, 0, 0, 0, 0, 0, 0, 0, 0, 0, 0, 0, 0, 0, 0, 0, 0, 0, 0, 0, 0, 0, 0, 0, 0, 0, 0, 0, 0, 0, 0, 0, 0, 0, 0, 0, 0, 0, 0, 0, 0, 0, 0, 0, 0, 0, 0, 0, 0, 0, 0, 0, 0, 0, 0, 0, 0, 0, 0, 0, 0, 0, 0, 0, 0, 0, 0, 0, 0, 0, 0, 0, 0, 0, 0, 0, 0, 0, 0, 0, 0, 0, 0, 0, 0, 0, 0, 0, 0, 0, 0, 0, 0, 0, 0, 0, 0, 0, 0, 0, 0, 0, 0, 0, 0, 0, 0, 0, 0, 0, 0, 0, 0, 0, 0, 0, 0, 0, 0, 0, 0, 1, 0, 0, 0, 0, 0, 0, 0, 0, 0, 0, 0, 0, 0, 0, 0, 0, 0, 0, 0, 0, 0, 0, 0, 0, 0, 0, 0, 0, 0, 0, 0, 0, 0, 0, 0, 0, 0, 0, 0, 0, 0, 0, 0, 0, 0, 0, 0, 0, 0, 0, 0, 0, 0, 0, 0, 0, 0, 0, 0, 0, 0, 0, 0, 0, 0, 0, 0, 0, 0, 0, 0, 0, 0, 0, 0, 0, 0, 0, 0, 0, 0, 0, 0, 0, 0, 0, 0, 0, 0, 0, 0, 0, 0, 0, 0, 0, 0, 0, 0, 0, 0, 0, 0, 0, 0, 0, 0, 0, 0, 0, 0, 0, 0, 0, 0, 0, 0, 0, 0, 0, 0, 0, 0, 0, 0, 0, 0, 0, 0, 0, 0, 0, 0, 0, 0, 0, 0, 0, 0, 0, 0, 0, 0, 0, 0, 0, 0, 0, 0, 0, 0, 0, 0, 0, 0, 0, 0, 0, 0, 0, 0, 0, 0, 0, 0, 0, 1, 0, 0, 0, 0, 0, 0, 0, 0, 0, 0, 1, 0, 0, 0, 0, 0, 0, 0, 0, 0, 0, 0, 0, 0, 0, 0, 0, 0, 0, 0, 0, 0, 0, 0, 0, 0, 0, 0, 0, 0, 0, 0, 0, 0, 0, 0, 0, 0, 0, 0, 0, 0, 0, 0, 0, 0, 0, 0, 1, 0, 0, 1, 0, 0, 0, 0, 0, 0, 0, 0, 0, 0, 0, 0, 0, 0, 0, 0, 0, 0, 0, 0, 0, 0, 0, 0, 0, 0, 0, 0, 0, 0, 0, 0, 0, 0, 0, 0, 0, 0, 0, 0, 0, 0, 0, 1, 0, 0, 0, 0, 0, 0, 0, 0, 0, 0, 0, 0, 0, 0, 0, 0, 0, 0, 0, 0, 0, 0, 0, 0, 0, 0, 0, 0, 0, 0, 0, 0, 0, 0, 0, 0, 0, 0, 0, 0, 0, 0, 0, 0, 0, 0, 0, 0, 0, 0, 0, 0, 0, 0, 0, 0, 0, 0, 0, 0, 0, 0, 0, 0, 0, 0, 0, 0, 0, 0, 0, 0, 0, 0, 0, 0, 0, 0, 0, 0, 0, 0, 0, 0, 0, 0, 0, 0, 0, 0, 0, 0, 0, 0, 0, 0, 0, 0, 0, 0, 0, 0, 0, 0, 0, 0, 0, 0, 0, 0, 0, 0, 0, 0, 0, 0, 0, 0, 0, 0, 0, 0, 0, 0, 0, 0, 0, 0, 0, 0, 0, 0, 0, 0, 0, 0, 0, 0, 0, 0, 0, 0, 0, 0, 0, 1, 0, 0, 0, 0, 0, 0, 0, 0, 0, 0, 0, 0, 0, 0, 0, 0, 0, 0, 0, 0, 0, 0, 0, 0, 0, 0, 0, 0, 0, 0, 0, 0, 0, 0, 0, 0, 0, 0, 0]\n"
     ]
    }
   ],
   "source": [
    "y_pred= []\n",
    "for i in range(len(res1)):\n",
    "    a1=we*res1[i]+(1-we)*res3[i]\n",
    "    a2=we*res2[i]+(1-we)*res4[i]\n",
    "    if a1>a2:\n",
    "        y_pred.append(0)\n",
    "    else:\n",
    "        y_pred.append(1)\n",
    "\n",
    "#Predicted values for testing data\n",
    "print(\"Predicted values\")\n",
    "print(y_pred)"
   ]
  },
  {
   "cell_type": "markdown",
   "metadata": {},
   "source": [
    "### Performance metrics for Hybrid model"
   ]
  },
  {
   "cell_type": "code",
   "execution_count": 59,
   "metadata": {},
   "outputs": [
    {
     "name": "stdout",
     "output_type": "stream",
     "text": [
      "Confusion Matrix\n",
      "[[1075    2]\n",
      " [ 185   10]]\n",
      "Accuracy                  :  85.3\n",
      "Classification Error rate :  14.7\n",
      "specificity               :  83.33\n",
      "sensitivity or Recall     :  85.32\n",
      "Precision                 :  99.81\n",
      "f1 score                  :  92.0\n"
     ]
    }
   ],
   "source": [
    "print('Confusion Matrix')\n",
    "conf_mat = confusion_matrix(y_test, y_pred)\n",
    "print(conf_mat)\n",
    "\n",
    "TP = conf_mat[0,0]\n",
    "TN = conf_mat[1,1]\n",
    "FP = conf_mat[0,1]\n",
    "FN = conf_mat[1,0]\n",
    "\n",
    "accuracyh = round ( ((TP+TN)/(TP+TN+FP+FN))*100 , 2)\n",
    "errorh =  round ( 100-accuracyh , 2)\n",
    "specificityh =  round ( ((TN) / (TN + FP))*100 , 2)\n",
    "sensitivityh =  round ( ((TP) / (TP+FN))*100 , 2)\n",
    "Recallh =  round ( ((TP)/(TP+FN))*100 , 2) #sensitivity\n",
    "Precisionh =  round ( ((TP)/(TP+FP))*100 , 2)\n",
    "f1_scoreh =  round ( ((2*Precisionh*Recallh)/(Precisionh+Recallh)) , 2)\n",
    "\n",
    "print(\"Accuracy                  : \",accuracyh)\n",
    "print(\"Classification Error rate : \",errorh)\n",
    "print('specificity               : ',specificityh)\n",
    "print('sensitivity or Recall     : ',sensitivityh)\n",
    "print('Precision                 : ',Precisionh)\n",
    "print('f1 score                  : ',f1_scoreh)\n"
   ]
  },
  {
   "cell_type": "markdown",
   "metadata": {},
   "source": [
    "# Deep Learning"
   ]
  },
  {
   "cell_type": "code",
   "execution_count": 60,
   "metadata": {},
   "outputs": [],
   "source": [
    "X=data[['male','age','education','currentSmoker','cigsPerDay','BPMeds','prevalentStroke','prevalentHyp','diabetes','totChol','sysBP','diaBP','BMI','heartRate','glucose']]\n",
    "\n",
    "X_train, X_test, y_train, y_test = train_test_split(X, y_values, test_size=0.3, random_state=42)"
   ]
  },
  {
   "cell_type": "code",
   "execution_count": 61,
   "metadata": {},
   "outputs": [
    {
     "name": "stdout",
     "output_type": "stream",
     "text": [
      "WARNING:tensorflow:From C:\\Users\\dell\\anaconda3\\lib\\site-packages\\tensorflow\\python\\ops\\init_ops.py:1251: calling VarianceScaling.__init__ (from tensorflow.python.ops.init_ops) with dtype is deprecated and will be removed in a future version.\n",
      "Instructions for updating:\n",
      "Call initializer instance with the dtype argument instead of passing it to the constructor\n",
      "WARNING:tensorflow:From C:\\Users\\dell\\anaconda3\\lib\\site-packages\\tensorflow\\python\\ops\\nn_impl.py:180: add_dispatch_support.<locals>.wrapper (from tensorflow.python.ops.array_ops) is deprecated and will be removed in a future version.\n",
      "Instructions for updating:\n",
      "Use tf.where in 2.0, which has the same broadcast rule as np.where\n",
      "Epoch 1/100\n",
      "2968/2968 [==============================] - 1s 217us/sample - loss: 0.4240 - acc: 0.8487\n",
      "Epoch 2/100\n",
      "2968/2968 [==============================] - 0s 79us/sample - loss: 0.4164 - acc: 0.8487\n",
      "Epoch 3/100\n",
      "2968/2968 [==============================] - 0s 62us/sample - loss: 0.4114 - acc: 0.8487\n",
      "Epoch 4/100\n",
      "2968/2968 [==============================] - 0s 61us/sample - loss: 0.4115 - acc: 0.8487\n",
      "Epoch 5/100\n",
      "2968/2968 [==============================] - 0s 66us/sample - loss: 0.4094 - acc: 0.8487\n",
      "Epoch 6/100\n",
      "2968/2968 [==============================] - 0s 62us/sample - loss: 0.4075 - acc: 0.8487\n",
      "Epoch 7/100\n",
      "2968/2968 [==============================] - 0s 72us/sample - loss: 0.4068 - acc: 0.8487\n",
      "Epoch 8/100\n",
      "2968/2968 [==============================] - 0s 75us/sample - loss: 0.4068 - acc: 0.8487\n",
      "Epoch 9/100\n",
      "2968/2968 [==============================] - 0s 65us/sample - loss: 0.4101 - acc: 0.8487\n",
      "Epoch 10/100\n",
      "2968/2968 [==============================] - 0s 62us/sample - loss: 0.4075 - acc: 0.8484\n",
      "Epoch 11/100\n",
      "2968/2968 [==============================] - 0s 75us/sample - loss: 0.4069 - acc: 0.8487\n",
      "Epoch 12/100\n",
      "2968/2968 [==============================] - 0s 74us/sample - loss: 0.4051 - acc: 0.8484\n",
      "Epoch 13/100\n",
      "2968/2968 [==============================] - 0s 70us/sample - loss: 0.4064 - acc: 0.8487\n",
      "Epoch 14/100\n",
      "2968/2968 [==============================] - 0s 69us/sample - loss: 0.4039 - acc: 0.8487\n",
      "Epoch 15/100\n",
      "2968/2968 [==============================] - 0s 66us/sample - loss: 0.4019 - acc: 0.8487\n",
      "Epoch 16/100\n",
      "2968/2968 [==============================] - 0s 71us/sample - loss: 0.4020 - acc: 0.8480\n",
      "Epoch 17/100\n",
      "2968/2968 [==============================] - 0s 72us/sample - loss: 0.4052 - acc: 0.8484\n",
      "Epoch 18/100\n",
      "2968/2968 [==============================] - 0s 62us/sample - loss: 0.4025 - acc: 0.8501\n",
      "Epoch 19/100\n",
      "2968/2968 [==============================] - 0s 73us/sample - loss: 0.4027 - acc: 0.8484\n",
      "Epoch 20/100\n",
      "2968/2968 [==============================] - 0s 70us/sample - loss: 0.4057 - acc: 0.8487\n",
      "Epoch 21/100\n",
      "2968/2968 [==============================] - 0s 66us/sample - loss: 0.4090 - acc: 0.8467\n",
      "Epoch 22/100\n",
      "2968/2968 [==============================] - 0s 62us/sample - loss: 0.4039 - acc: 0.8484\n",
      "Epoch 23/100\n",
      "2968/2968 [==============================] - 0s 63us/sample - loss: 0.4109 - acc: 0.8487\n",
      "Epoch 24/100\n",
      "2968/2968 [==============================] - 0s 73us/sample - loss: 0.4059 - acc: 0.8491\n",
      "Epoch 25/100\n",
      "2968/2968 [==============================] - 0s 78us/sample - loss: 0.4050 - acc: 0.8477\n",
      "Epoch 26/100\n",
      "2968/2968 [==============================] - 0s 73us/sample - loss: 0.4027 - acc: 0.8480\n",
      "Epoch 27/100\n",
      "2968/2968 [==============================] - 0s 69us/sample - loss: 0.4032 - acc: 0.8494\n",
      "Epoch 28/100\n",
      "2968/2968 [==============================] - 0s 65us/sample - loss: 0.4056 - acc: 0.8487\n",
      "Epoch 29/100\n",
      "2968/2968 [==============================] - 0s 71us/sample - loss: 0.4065 - acc: 0.8484\n",
      "Epoch 30/100\n",
      "2968/2968 [==============================] - 0s 57us/sample - loss: 0.4013 - acc: 0.8494\n",
      "Epoch 31/100\n",
      "2968/2968 [==============================] - 0s 66us/sample - loss: 0.4021 - acc: 0.8504\n",
      "Epoch 32/100\n",
      "2968/2968 [==============================] - 0s 70us/sample - loss: 0.4054 - acc: 0.8484\n",
      "Epoch 33/100\n",
      "2968/2968 [==============================] - 0s 69us/sample - loss: 0.4058 - acc: 0.8480\n",
      "Epoch 34/100\n",
      "2968/2968 [==============================] - 0s 69us/sample - loss: 0.4032 - acc: 0.8484\n",
      "Epoch 35/100\n",
      "2968/2968 [==============================] - 0s 62us/sample - loss: 0.4047 - acc: 0.8477\n",
      "Epoch 36/100\n",
      "2968/2968 [==============================] - 0s 67us/sample - loss: 0.4030 - acc: 0.8480\n",
      "Epoch 37/100\n",
      "2968/2968 [==============================] - 0s 62us/sample - loss: 0.4012 - acc: 0.8487\n",
      "Epoch 38/100\n",
      "2968/2968 [==============================] - 0s 97us/sample - loss: 0.4009 - acc: 0.8491\n",
      "Epoch 39/100\n",
      "2968/2968 [==============================] - 0s 73us/sample - loss: 0.4015 - acc: 0.8487\n",
      "Epoch 40/100\n",
      "2968/2968 [==============================] - 0s 74us/sample - loss: 0.4023 - acc: 0.8497\n",
      "Epoch 41/100\n",
      "2968/2968 [==============================] - 0s 83us/sample - loss: 0.4025 - acc: 0.8504\n",
      "Epoch 42/100\n",
      "2968/2968 [==============================] - 0s 81us/sample - loss: 0.4014 - acc: 0.8491\n",
      "Epoch 43/100\n",
      "2968/2968 [==============================] - 0s 77us/sample - loss: 0.4036 - acc: 0.8477\n",
      "Epoch 44/100\n",
      "2968/2968 [==============================] - 0s 70us/sample - loss: 0.4005 - acc: 0.8504\n",
      "Epoch 45/100\n",
      "2968/2968 [==============================] - 0s 71us/sample - loss: 0.4024 - acc: 0.8491\n",
      "Epoch 46/100\n",
      "2968/2968 [==============================] - 0s 70us/sample - loss: 0.4006 - acc: 0.8507\n",
      "Epoch 47/100\n",
      "2968/2968 [==============================] - 0s 78us/sample - loss: 0.4023 - acc: 0.8494\n",
      "Epoch 48/100\n",
      "2968/2968 [==============================] - ETA: 0s - loss: 0.3982 - acc: 0.852 - 0s 77us/sample - loss: 0.4007 - acc: 0.8504\n",
      "Epoch 49/100\n",
      "2968/2968 [==============================] - 0s 83us/sample - loss: 0.3990 - acc: 0.8487\n",
      "Epoch 50/100\n",
      "2968/2968 [==============================] - 0s 83us/sample - loss: 0.4013 - acc: 0.8484\n",
      "Epoch 51/100\n",
      "2968/2968 [==============================] - 0s 82us/sample - loss: 0.3983 - acc: 0.8504\n",
      "Epoch 52/100\n",
      "2968/2968 [==============================] - 0s 73us/sample - loss: 0.3993 - acc: 0.8487\n",
      "Epoch 53/100\n",
      "2968/2968 [==============================] - 0s 69us/sample - loss: 0.3980 - acc: 0.8504\n",
      "Epoch 54/100\n",
      "2968/2968 [==============================] - 0s 63us/sample - loss: 0.4017 - acc: 0.8484\n",
      "Epoch 55/100\n",
      "2968/2968 [==============================] - 0s 78us/sample - loss: 0.3997 - acc: 0.8491\n",
      "Epoch 56/100\n",
      "2968/2968 [==============================] - 0s 66us/sample - loss: 0.3978 - acc: 0.8487\n",
      "Epoch 57/100\n",
      "2968/2968 [==============================] - 0s 70us/sample - loss: 0.3970 - acc: 0.8491\n",
      "Epoch 58/100\n",
      "2968/2968 [==============================] - 0s 81us/sample - loss: 0.3962 - acc: 0.8484\n",
      "Epoch 59/100\n",
      "2968/2968 [==============================] - 0s 65us/sample - loss: 0.4005 - acc: 0.8484\n",
      "Epoch 60/100\n",
      "2968/2968 [==============================] - 0s 74us/sample - loss: 0.3940 - acc: 0.8484\n",
      "Epoch 61/100\n",
      "2968/2968 [==============================] - 0s 65us/sample - loss: 0.3988 - acc: 0.8491\n",
      "Epoch 62/100\n",
      "2968/2968 [==============================] - 0s 62us/sample - loss: 0.3986 - acc: 0.8491\n",
      "Epoch 63/100\n",
      "2968/2968 [==============================] - 0s 64us/sample - loss: 0.3979 - acc: 0.8484\n",
      "Epoch 64/100\n",
      "2968/2968 [==============================] - 0s 62us/sample - loss: 0.3956 - acc: 0.8487\n",
      "Epoch 65/100\n",
      "2968/2968 [==============================] - 0s 64us/sample - loss: 0.3977 - acc: 0.8484\n",
      "Epoch 66/100\n",
      "2968/2968 [==============================] - 0s 60us/sample - loss: 0.3942 - acc: 0.8504\n",
      "Epoch 67/100\n",
      "2968/2968 [==============================] - 0s 61us/sample - loss: 0.3963 - acc: 0.8487\n",
      "Epoch 68/100\n",
      "2968/2968 [==============================] - 0s 64us/sample - loss: 0.3968 - acc: 0.8494\n",
      "Epoch 69/100\n",
      "2968/2968 [==============================] - 0s 83us/sample - loss: 0.3942 - acc: 0.8511\n",
      "Epoch 70/100\n",
      "2968/2968 [==============================] - 0s 82us/sample - loss: 0.3972 - acc: 0.8497\n",
      "Epoch 71/100\n",
      "2968/2968 [==============================] - 0s 61us/sample - loss: 0.3949 - acc: 0.8501\n",
      "Epoch 72/100\n",
      "2968/2968 [==============================] - 0s 59us/sample - loss: 0.3919 - acc: 0.8518\n",
      "Epoch 73/100\n",
      "2968/2968 [==============================] - 0s 56us/sample - loss: 0.3931 - acc: 0.8494\n",
      "Epoch 74/100\n"
     ]
    },
    {
     "name": "stdout",
     "output_type": "stream",
     "text": [
      "2968/2968 [==============================] - ETA: 0s - loss: 0.4127 - acc: 0.840 - 0s 55us/sample - loss: 0.3980 - acc: 0.8484\n",
      "Epoch 75/100\n",
      "2968/2968 [==============================] - 0s 58us/sample - loss: 0.3976 - acc: 0.8487\n",
      "Epoch 76/100\n",
      "2968/2968 [==============================] - 0s 57us/sample - loss: 0.3992 - acc: 0.8501\n",
      "Epoch 77/100\n",
      "2968/2968 [==============================] - 0s 59us/sample - loss: 0.3994 - acc: 0.8467\n",
      "Epoch 78/100\n",
      "2968/2968 [==============================] - 0s 55us/sample - loss: 0.3966 - acc: 0.8504\n",
      "Epoch 79/100\n",
      "2968/2968 [==============================] - 0s 53us/sample - loss: 0.4058 - acc: 0.8504\n",
      "Epoch 80/100\n",
      "2968/2968 [==============================] - 0s 63us/sample - loss: 0.3972 - acc: 0.8501\n",
      "Epoch 81/100\n",
      "2968/2968 [==============================] - 0s 80us/sample - loss: 0.3959 - acc: 0.8487\n",
      "Epoch 82/100\n",
      "2968/2968 [==============================] - 0s 73us/sample - loss: 0.3982 - acc: 0.8484\n",
      "Epoch 83/100\n",
      "2968/2968 [==============================] - 0s 62us/sample - loss: 0.3982 - acc: 0.8501\n",
      "Epoch 84/100\n",
      "2968/2968 [==============================] - 0s 63us/sample - loss: 0.3979 - acc: 0.8487\n",
      "Epoch 85/100\n",
      "2968/2968 [==============================] - 0s 74us/sample - loss: 0.3979 - acc: 0.8484\n",
      "Epoch 86/100\n",
      "2968/2968 [==============================] - 0s 62us/sample - loss: 0.3949 - acc: 0.8507\n",
      "Epoch 87/100\n",
      "2968/2968 [==============================] - 0s 58us/sample - loss: 0.3935 - acc: 0.8494\n",
      "Epoch 88/100\n",
      "2968/2968 [==============================] - 0s 75us/sample - loss: 0.3986 - acc: 0.8507\n",
      "Epoch 89/100\n",
      "2968/2968 [==============================] - 0s 62us/sample - loss: 0.3935 - acc: 0.8484\n",
      "Epoch 90/100\n",
      "2968/2968 [==============================] - 0s 103us/sample - loss: 0.3963 - acc: 0.8491\n",
      "Epoch 91/100\n",
      "2968/2968 [==============================] - 0s 58us/sample - loss: 0.3944 - acc: 0.8494\n",
      "Epoch 92/100\n",
      "2968/2968 [==============================] - 0s 72us/sample - loss: 0.3957 - acc: 0.8487\n",
      "Epoch 93/100\n",
      "2968/2968 [==============================] - 0s 79us/sample - loss: 0.3921 - acc: 0.8497\n",
      "Epoch 94/100\n",
      "2968/2968 [==============================] - 0s 62us/sample - loss: 0.3991 - acc: 0.8470\n",
      "Epoch 95/100\n",
      "2968/2968 [==============================] - 0s 73us/sample - loss: 0.3983 - acc: 0.8487\n",
      "Epoch 96/100\n",
      "2968/2968 [==============================] - 0s 66us/sample - loss: 0.3978 - acc: 0.8484\n",
      "Epoch 97/100\n",
      "2968/2968 [==============================] - 0s 61us/sample - loss: 0.3919 - acc: 0.8491\n",
      "Epoch 98/100\n",
      "2968/2968 [==============================] - 0s 68us/sample - loss: 0.3922 - acc: 0.8511\n",
      "Epoch 99/100\n",
      "2968/2968 [==============================] - 0s 68us/sample - loss: 0.3916 - acc: 0.8514\n",
      "Epoch 100/100\n",
      "2968/2968 [==============================] - 0s 69us/sample - loss: 0.3923 - acc: 0.8518\n",
      "1272/1272 [==============================] - 0s 85us/sample - loss: 0.4130 - acc: 0.8491\n"
     ]
    }
   ],
   "source": [
    "from tensorflow.keras.models import Sequential\n",
    "from tensorflow.keras.layers import Dense\n",
    "model = Sequential()\n",
    "model.add(Dense(30, input_dim=15, activation='tanh'))\n",
    "model.add(Dense(20, activation='tanh'))\n",
    "model.add(Dense(1, activation='sigmoid'))\n",
    "model.compile(optimizer='adam',loss='binary_crossentropy',metrics=['accuracy'])\n",
    "history=model.fit(X_train,y_train, epochs=100, verbose=1)\n",
    "Y_pred = model.predict(X_test)\n",
    "score=model.evaluate(X_test,y_test)\n"
   ]
  },
  {
   "cell_type": "code",
   "execution_count": 62,
   "metadata": {},
   "outputs": [
    {
     "name": "stdout",
     "output_type": "stream",
     "text": [
      "Model: \"sequential\"\n",
      "_________________________________________________________________\n",
      "Layer (type)                 Output Shape              Param #   \n",
      "=================================================================\n",
      "dense (Dense)                (None, 30)                480       \n",
      "_________________________________________________________________\n",
      "dense_1 (Dense)              (None, 20)                620       \n",
      "_________________________________________________________________\n",
      "dense_2 (Dense)              (None, 1)                 21        \n",
      "=================================================================\n",
      "Total params: 1,121\n",
      "Trainable params: 1,121\n",
      "Non-trainable params: 0\n",
      "_________________________________________________________________\n",
      "score\n",
      "[0.41302967933738755, 0.8490566]\n"
     ]
    }
   ],
   "source": [
    "model.summary()\n",
    "score = model.evaluate(X_test, y_test, verbose=0)\n",
    "print(\"score\")\n",
    "print(score)"
   ]
  },
  {
   "cell_type": "code",
   "execution_count": 63,
   "metadata": {},
   "outputs": [
    {
     "name": "stdout",
     "output_type": "stream",
     "text": [
      "Accuracy                  :  84.91\n",
      "Classification Error Rate :  15.09\n"
     ]
    }
   ],
   "source": [
    "deepaccuracy = round( score[1]*100 , 2)\n",
    "deeperror = round( 100 - deepaccuracy ,2 )\n",
    "print('Accuracy                  : ',deepaccuracy)\n",
    "print('Classification Error Rate : ',deeperror)"
   ]
  },
  {
   "cell_type": "code",
   "execution_count": 64,
   "metadata": {},
   "outputs": [
    {
     "name": "stdout",
     "output_type": "stream",
     "text": [
      "dict_keys(['loss', 'acc'])\n"
     ]
    }
   ],
   "source": [
    "print(history.history.keys())"
   ]
  },
  {
   "cell_type": "code",
   "execution_count": 65,
   "metadata": {},
   "outputs": [
    {
     "data": {
      "image/png": "[encoded data removed]",
      "text/plain": [
       "<Figure size 432x288 with 1 Axes>"
      ]
     },
     "metadata": {
      "needs_background": "light"
     },
     "output_type": "display_data"
    },
    {
     "data": {
      "image/png": "[encoded data removed]",
      "text/plain": [
       "<Figure size 432x288 with 1 Axes>"
      ]
     },
     "metadata": {
      "needs_background": "light"
     },
     "output_type": "display_data"
    }
   ],
   "source": [
    "\n",
    "plt.plot(history.history['acc'])\n",
    "#plt.plot(history.history['val_acc'])\n",
    "plt.title('model accuracy')\n",
    "plt.xlabel('epoch')\n",
    "plt.ylabel('accuracy')\n",
    "plt.legend(['train','test'],loc='upper left')\n",
    "plt.show()\n",
    "plt.plot(history.history['loss'])\n",
    "#plt.plot(history.history['val_loss'])\n",
    "plt.title('model loss')\n",
    "plt.xlabel('epoch')\n",
    "plt.ylabel('loss')\n",
    "\n",
    "plt.legend(['train','test'],loc='upper left')\n",
    "plt.show()"
   ]
  },
  {
   "cell_type": "code",
   "execution_count": null,
   "metadata": {},
   "outputs": [],
   "source": []
  },
  {
   "cell_type": "markdown",
   "metadata": {},
   "source": [
    "# Genetic algorithm"
   ]
  },
  {
   "cell_type": "code",
   "execution_count": 66,
   "metadata": {},
   "outputs": [
    {
     "name": "stdout",
     "output_type": "stream",
     "text": [
      "Selected Features: [ True  True  True  True  True  True  True  True False False  True  True\n",
      "  True False  True]\n"
     ]
    }
   ],
   "source": [
    "X = data.iloc[:,:-1].values\n",
    "y = data.iloc[:, 15].values\n",
    "\n",
    "est = LogisticRegression()\n",
    "\n",
    "class GeneticSelector():\n",
    "    def __init__(self, estimator, n_gen, size, n_best, n_rand, \n",
    "                 n_children, mutation_rate):\n",
    "        # Estimator \n",
    "        self.estimator = estimator\n",
    "        # Number of generations\n",
    "        self.n_gen = n_gen\n",
    "        # Number of chromosomes in population\n",
    "        self.size = size\n",
    "        # Number of best chromosomes to select\n",
    "        self.n_best = n_best\n",
    "        # Number of random chromosomes to select\n",
    "        self.n_rand = n_rand\n",
    "        # Number of children created during crossover\n",
    "        self.n_children = n_children\n",
    "        # Probablity of chromosome mutation\n",
    "        self.mutation_rate = mutation_rate\n",
    "        \n",
    "        if int((self.n_best + self.n_rand) / 2) * self.n_children != self.size:\n",
    "            raise ValueError(\"The population size is not stable.\")  \n",
    "            \n",
    "    def initilize(self):\n",
    "        population = []\n",
    "        for i in range(self.size):\n",
    "            chromosome = np.ones(self.n_features, dtype=np.bool)\n",
    "            mask = np.random.rand(len(chromosome)) < 0.3\n",
    "            chromosome[mask] = False\n",
    "            population.append(chromosome)\n",
    "        return population\n",
    "    \n",
    "\n",
    "    def fitness(self, population):\n",
    "        X, y = self.dataset\n",
    "        scores = []\n",
    "        for chromosome in population:\n",
    "            score = -1.0 * np.mean(cross_val_score(self.estimator, X[:,chromosome], y, \n",
    "                                                       cv=5, \n",
    "                                                       scoring=\"neg_mean_squared_error\"))\n",
    "            scores.append(score)\n",
    "        scores, population = np.array(scores), np.array(population) \n",
    "        inds = np.argsort(scores)\n",
    "        return list(scores[inds]), list(population[inds,:])\n",
    "\n",
    "    def select(self, population_sorted):\n",
    "        population_next = []\n",
    "        for i in range(self.n_best):\n",
    "            population_next.append(population_sorted[i])\n",
    "        for i in range(self.n_rand):\n",
    "            population_next.append(random.choice(population_sorted))\n",
    "        random.shuffle(population_next)\n",
    "        return population_next\n",
    "\n",
    "    def crossover(self, population):\n",
    "        population_next = []\n",
    "        for i in range(int(len(population)/2)):\n",
    "            for j in range(self.n_children):\n",
    "                chromosome1, chromosome2 = population[i], population[len(population)-1-i]\n",
    "                child = chromosome1\n",
    "                mask = np.random.rand(len(child)) > 0.5\n",
    "                child[mask] = chromosome2[mask]\n",
    "                population_next.append(child)\n",
    "        return population_next\n",
    "\t\n",
    "    def mutate(self, population):\n",
    "        population_next = []\n",
    "        for i in range(len(population)):\n",
    "            chromosome = population[i]\n",
    "            if random.random() < self.mutation_rate:\n",
    "                mask = np.random.rand(len(chromosome)) < 0.05\n",
    "                chromosome[mask] = False\n",
    "            population_next.append(chromosome)\n",
    "        return population_next\n",
    "\n",
    "    def generate(self, population):\n",
    "        # Selection, crossover and mutation\n",
    "        scores_sorted, population_sorted = self.fitness(population)\n",
    "        population = self.select(population_sorted)\n",
    "        population = self.crossover(population)\n",
    "        population = self.mutate(population)\n",
    "        # History\n",
    "        self.chromosomes_best.append(population_sorted[0])\n",
    "        self.scores_best.append(scores_sorted[0])\n",
    "        self.scores_avg.append(np.mean(scores_sorted))\n",
    "        \n",
    "        return population\n",
    "    \n",
    "\n",
    "    def fit(self, X, y):\n",
    " \n",
    "        self.chromosomes_best = []\n",
    "        self.scores_best, self.scores_avg  = [], []\n",
    "        \n",
    "        self.dataset = X, y\n",
    "        self.n_features = X.shape[1]\n",
    "        \n",
    "        population = self.initilize()\n",
    "        for i in range(self.n_gen):\n",
    "            population = self.generate(population)\n",
    "            \n",
    "        return self \n",
    "    \n",
    "    \n",
    "    def support_(self):\n",
    "        return self.chromosomes_best[-1]\n",
    "\n",
    "\n",
    "sel = GeneticSelector(estimator=LogisticRegression(), \n",
    "                      n_gen=7, size=200, n_best=40, n_rand=40, \n",
    "                      n_children=5, mutation_rate=0.05)\n",
    "sel.fit(X,y)\n",
    "score = cross_val_score(est, X, y,scoring=\"accuracy\")\n",
    "\n",
    "print(\"Selected Features: %s\" % sel.support_())\n"
   ]
  },
  {
   "cell_type": "code",
   "execution_count": 67,
   "metadata": {},
   "outputs": [
    {
     "data": {
      "text/html": [
       "<div>\n",
       "<style scoped>\n",
       "    .dataframe tbody tr th:only-of-type {\n",
       "        vertical-align: middle;\n",
       "    }\n",
       "\n",
       "    .dataframe tbody tr th {\n",
       "        vertical-align: top;\n",
       "    }\n",
       "\n",
       "    .dataframe thead th {\n",
       "        text-align: right;\n",
       "    }\n",
       "</style>\n",
       "<table border=\"1\" class=\"dataframe\">\n",
       "  <thead>\n",
       "    <tr style=\"text-align: right;\">\n",
       "      <th></th>\n",
       "      <th>rank</th>\n",
       "      <th>feature</th>\n",
       "    </tr>\n",
       "  </thead>\n",
       "  <tbody>\n",
       "    <tr>\n",
       "      <th>12</th>\n",
       "      <td>1</td>\n",
       "      <td>BMI</td>\n",
       "    </tr>\n",
       "    <tr>\n",
       "      <th>10</th>\n",
       "      <td>2</td>\n",
       "      <td>sysBP</td>\n",
       "    </tr>\n",
       "    <tr>\n",
       "      <th>9</th>\n",
       "      <td>3</td>\n",
       "      <td>totChol</td>\n",
       "    </tr>\n",
       "    <tr>\n",
       "      <th>14</th>\n",
       "      <td>4</td>\n",
       "      <td>glucose</td>\n",
       "    </tr>\n",
       "    <tr>\n",
       "      <th>11</th>\n",
       "      <td>5</td>\n",
       "      <td>diaBP</td>\n",
       "    </tr>\n",
       "    <tr>\n",
       "      <th>1</th>\n",
       "      <td>6</td>\n",
       "      <td>age</td>\n",
       "    </tr>\n",
       "    <tr>\n",
       "      <th>13</th>\n",
       "      <td>7</td>\n",
       "      <td>heartRate</td>\n",
       "    </tr>\n",
       "    <tr>\n",
       "      <th>4</th>\n",
       "      <td>8</td>\n",
       "      <td>cigsPerDay</td>\n",
       "    </tr>\n",
       "    <tr>\n",
       "      <th>2</th>\n",
       "      <td>9</td>\n",
       "      <td>education</td>\n",
       "    </tr>\n",
       "    <tr>\n",
       "      <th>0</th>\n",
       "      <td>10</td>\n",
       "      <td>male</td>\n",
       "    </tr>\n",
       "    <tr>\n",
       "      <th>7</th>\n",
       "      <td>11</td>\n",
       "      <td>prevalentHyp</td>\n",
       "    </tr>\n",
       "    <tr>\n",
       "      <th>3</th>\n",
       "      <td>12</td>\n",
       "      <td>currentSmoker</td>\n",
       "    </tr>\n",
       "    <tr>\n",
       "      <th>5</th>\n",
       "      <td>13</td>\n",
       "      <td>BPMeds</td>\n",
       "    </tr>\n",
       "    <tr>\n",
       "      <th>8</th>\n",
       "      <td>14</td>\n",
       "      <td>diabetes</td>\n",
       "    </tr>\n",
       "    <tr>\n",
       "      <th>6</th>\n",
       "      <td>15</td>\n",
       "      <td>prevalentStroke</td>\n",
       "    </tr>\n",
       "  </tbody>\n",
       "</table>\n",
       "</div>"
      ],
      "text/plain": [
       "    rank          feature\n",
       "12     1              BMI\n",
       "10     2            sysBP\n",
       "9      3          totChol\n",
       "14     4          glucose\n",
       "11     5            diaBP\n",
       "1      6              age\n",
       "13     7        heartRate\n",
       "4      8       cigsPerDay\n",
       "2      9        education\n",
       "0     10             male\n",
       "7     11     prevalentHyp\n",
       "3     12    currentSmoker\n",
       "5     13           BPMeds\n",
       "8     14         diabetes\n",
       "6     15  prevalentStroke"
      ]
     },
     "execution_count": 67,
     "metadata": {},
     "output_type": "execute_result"
    }
   ],
   "source": [
    "\n",
    "X=data[['male','age','education','currentSmoker','cigsPerDay','BPMeds','prevalentStroke','prevalentHyp','diabetes','totChol','sysBP','diaBP','BMI','heartRate','glucose','TenYearCHD']]\n",
    "\n",
    "feature_selected = pd.DataFrame(list(zip(sel.support_(),X)),columns=['feature','selected'])\n",
    "feature_selected = feature_rank.sort_values(by ='rank')\n",
    "feature_selected"
   ]
  },
  {
   "cell_type": "code",
   "execution_count": 68,
   "metadata": {},
   "outputs": [
    {
     "name": "stdout",
     "output_type": "stream",
     "text": [
      "Accuracy                  :  85.09\n",
      "Classification Error Rate :  14.91\n"
     ]
    }
   ],
   "source": [
    "accuracyg = round( 100*np.mean(score) , 2)\n",
    "print('Accuracy                  : ', accuracyg)\n",
    "\n",
    "errorg = round( 100-accuracyg ,2)\n",
    "print('Classification Error Rate : ',errorg)"
   ]
  },
  {
   "cell_type": "markdown",
   "metadata": {},
   "source": [
    "# Results"
   ]
  },
  {
   "cell_type": "code",
   "execution_count": 69,
   "metadata": {},
   "outputs": [],
   "source": [
    "table1={'Algorithm':['Naive Bayes','Logistic Regression','Decision Tree','Random Forest','SVM','KNN','Voting','Gradient Boosting','Adaboost','Hybrid','Deep Learning','Genetic algorithm'],\n",
    "    'Accuracy':[accuracyn,accuracyl,accuracyd,accuracyr,accuracys,accuracyk,accuracyv,accuracyb,accuracya,accuracyh,deepaccuracy,accuracyg],\n",
    "       'Classification Error Rate':[errorn,errorl,errord,errorr,errors,errork,errorv,errorb,errora,errorh,deeperror,errorg]\n",
    "}"
   ]
  },
  {
   "cell_type": "code",
   "execution_count": 70,
   "metadata": {},
   "outputs": [],
   "source": [
    "table2=pd.DataFrame(table1,columns=['Algorithm','Accuracy','Classification Error Rate'])\n",
    "table2=table2.sort_values(by ='Classification Error Rate')"
   ]
  },
  {
   "cell_type": "code",
   "execution_count": 71,
   "metadata": {},
   "outputs": [
    {
     "data": {
      "text/html": [
       "<div>\n",
       "<style scoped>\n",
       "    .dataframe tbody tr th:only-of-type {\n",
       "        vertical-align: middle;\n",
       "    }\n",
       "\n",
       "    .dataframe tbody tr th {\n",
       "        vertical-align: top;\n",
       "    }\n",
       "\n",
       "    .dataframe thead th {\n",
       "        text-align: right;\n",
       "    }\n",
       "</style>\n",
       "<table border=\"1\" class=\"dataframe\">\n",
       "  <thead>\n",
       "    <tr style=\"text-align: right;\">\n",
       "      <th></th>\n",
       "      <th>Algorithm</th>\n",
       "      <th>Accuracy</th>\n",
       "      <th>Classification Error Rate</th>\n",
       "    </tr>\n",
       "  </thead>\n",
       "  <tbody>\n",
       "    <tr>\n",
       "      <th>9</th>\n",
       "      <td>Hybrid</td>\n",
       "      <td>85.30</td>\n",
       "      <td>14.70</td>\n",
       "    </tr>\n",
       "    <tr>\n",
       "      <th>6</th>\n",
       "      <td>Voting</td>\n",
       "      <td>85.14</td>\n",
       "      <td>14.86</td>\n",
       "    </tr>\n",
       "    <tr>\n",
       "      <th>11</th>\n",
       "      <td>Genetic algorithm</td>\n",
       "      <td>85.09</td>\n",
       "      <td>14.91</td>\n",
       "    </tr>\n",
       "    <tr>\n",
       "      <th>1</th>\n",
       "      <td>Logistic Regression</td>\n",
       "      <td>84.91</td>\n",
       "      <td>15.09</td>\n",
       "    </tr>\n",
       "    <tr>\n",
       "      <th>10</th>\n",
       "      <td>Deep Learning</td>\n",
       "      <td>84.91</td>\n",
       "      <td>15.09</td>\n",
       "    </tr>\n",
       "    <tr>\n",
       "      <th>5</th>\n",
       "      <td>KNN</td>\n",
       "      <td>84.83</td>\n",
       "      <td>15.17</td>\n",
       "    </tr>\n",
       "    <tr>\n",
       "      <th>4</th>\n",
       "      <td>SVM</td>\n",
       "      <td>84.67</td>\n",
       "      <td>15.33</td>\n",
       "    </tr>\n",
       "    <tr>\n",
       "      <th>7</th>\n",
       "      <td>Gradient Boosting</td>\n",
       "      <td>84.51</td>\n",
       "      <td>15.49</td>\n",
       "    </tr>\n",
       "    <tr>\n",
       "      <th>3</th>\n",
       "      <td>Random Forest</td>\n",
       "      <td>84.43</td>\n",
       "      <td>15.57</td>\n",
       "    </tr>\n",
       "    <tr>\n",
       "      <th>0</th>\n",
       "      <td>Naive Bayes</td>\n",
       "      <td>82.86</td>\n",
       "      <td>17.14</td>\n",
       "    </tr>\n",
       "    <tr>\n",
       "      <th>8</th>\n",
       "      <td>Adaboost</td>\n",
       "      <td>81.60</td>\n",
       "      <td>18.40</td>\n",
       "    </tr>\n",
       "    <tr>\n",
       "      <th>2</th>\n",
       "      <td>Decision Tree</td>\n",
       "      <td>76.42</td>\n",
       "      <td>23.58</td>\n",
       "    </tr>\n",
       "  </tbody>\n",
       "</table>\n",
       "</div>"
      ],
      "text/plain": [
       "              Algorithm  Accuracy  Classification Error Rate\n",
       "9                Hybrid     85.30                      14.70\n",
       "6                Voting     85.14                      14.86\n",
       "11    Genetic algorithm     85.09                      14.91\n",
       "1   Logistic Regression     84.91                      15.09\n",
       "10        Deep Learning     84.91                      15.09\n",
       "5                   KNN     84.83                      15.17\n",
       "4                   SVM     84.67                      15.33\n",
       "7     Gradient Boosting     84.51                      15.49\n",
       "3         Random Forest     84.43                      15.57\n",
       "0           Naive Bayes     82.86                      17.14\n",
       "8              Adaboost     81.60                      18.40\n",
       "2         Decision Tree     76.42                      23.58"
      ]
     },
     "execution_count": 71,
     "metadata": {},
     "output_type": "execute_result"
    }
   ],
   "source": [
    "table2"
   ]
  },
  {
   "cell_type": "markdown",
   "metadata": {},
   "source": [
    "# Graph"
   ]
  },
  {
   "cell_type": "code",
   "execution_count": 72,
   "metadata": {},
   "outputs": [
    {
     "data": {
      "image/png": "[encoded data removed]",
      "text/plain": [
       "<Figure size 432x288 with 1 Axes>"
      ]
     },
     "metadata": {
      "needs_background": "light"
     },
     "output_type": "display_data"
    }
   ],
   "source": [
    "objects = ('NB','LR','DT', 'RF', 'SVM','KNN','Voting','Gradient','Adaboost' ,'Hybrid','DL','GA')\n",
    "y_pos = np.arange(len(objects))\n",
    "performance = [accuracyn,accuracyl,accuracyd,accuracyr,accuracys,accuracyk,accuracyv,accuracyb,accuracya,accuracyh,deepaccuracy,accuracyg]\n",
    "\n",
    "plt.bar(y_pos, performance, align='center',width=0.7, alpha=0.8,color='navy')\n",
    "plt.xticks(y_pos, objects,rotation=75)\n",
    "plt.ylabel('Models')\n",
    "plt.title('Comparative Results')\n",
    "plt.show()"
   ]
  },
  {
   "cell_type": "code",
   "execution_count": 73,
   "metadata": {},
   "outputs": [
    {
     "data": {
      "image/png": "[encoded data removed]",
      "text/plain": [
       "<Figure size 432x288 with 1 Axes>"
      ]
     },
     "metadata": {
      "needs_background": "light"
     },
     "output_type": "display_data"
    }
   ],
   "source": [
    "objects = ('NB','LR','DT', 'RF', 'SVM','KNN','Voting','Gradient','Adaboost' ,'Hybrid','DL','GA')\n",
    "y_pos = np.arange(len(objects))\n",
    "performance = [accuracyn,accuracyl,accuracyd,accuracyr,accuracys,accuracyk,accuracyv,accuracyb,accuracya,accuracyh,deepaccuracy,accuracyg]\n",
    "\n",
    "plt.barh(objects,performance, align='center', alpha=0.6,color='navy')\n",
    "for index, value in enumerate(performance):\n",
    "    plt.text(value, index, str(value))\n",
    "\n",
    "#plt.xticks(y_pos, objects,rotation=50)\n",
    "plt.ylabel('Accuracy')\n",
    "plt.title('Comparative Results')\n",
    "plt.show()"
   ]
  },
  {
   "cell_type": "code",
   "execution_count": null,
   "metadata": {},
   "outputs": [],
   "source": []
  }
 ],
 "metadata": {
  "kernelspec": {
   "display_name": "Python 3",
   "language": "python",
   "name": "python3"
  },
  "language_info": {
   "codemirror_mode": {
    "name": "ipython",
    "version": 3
   },
   "file_extension": ".py",
   "mimetype": "text/x-python",
   "name": "python",
   "nbconvert_exporter": "python",
   "pygments_lexer": "ipython3",
   "version": "3.7.6"
  }
 },
 "nbformat": 4,
 "nbformat_minor": 4
}
