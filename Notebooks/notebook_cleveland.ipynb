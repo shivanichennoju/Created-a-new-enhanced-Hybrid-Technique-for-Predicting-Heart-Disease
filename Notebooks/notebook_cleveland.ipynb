{
 "cells": [
  {
   "cell_type": "markdown",
   "metadata": {},
   "source": [
    "## Importing libraries"
   ]
  },
  {
   "cell_type": "code",
   "execution_count": 1,
   "metadata": {},
   "outputs": [],
   "source": [
    "import pandas as pd\n",
    "import numpy as np\n",
    "import seaborn as sns\n",
    "import matplotlib.pyplot as plt"
   ]
  },
  {
   "cell_type": "code",
   "execution_count": 2,
   "metadata": {},
   "outputs": [],
   "source": [
    "from sklearn.ensemble import RandomForestClassifier\n",
    "from sklearn.feature_selection import RFE\n",
    "from sklearn.impute import SimpleImputer\n",
    "from sklearn import svm\n",
    "from sklearn.linear_model import LogisticRegression\n",
    "\n",
    "from sklearn.model_selection import train_test_split\n",
    "from sklearn.model_selection import train_test_split,cross_val_score\n",
    "\n",
    "\n",
    "from sklearn.metrics import accuracy_score,mean_squared_error,confusion_matrix,log_loss\n",
    "\n",
    "\n",
    "from sklearn import tree,ensemble,metrics"
   ]
  },
  {
   "cell_type": "markdown",
   "metadata": {},
   "source": [
    "## To exclude warnings"
   ]
  },
  {
   "cell_type": "code",
   "execution_count": 3,
   "metadata": {},
   "outputs": [],
   "source": [
    "import warnings\n",
    "import random\n",
    "warnings.filterwarnings(\"ignore\")"
   ]
  },
  {
   "cell_type": "markdown",
   "metadata": {},
   "source": [
    "## Loading dataset"
   ]
  },
  {
   "cell_type": "code",
   "execution_count": 4,
   "metadata": {},
   "outputs": [],
   "source": [
    "data=pd.read_csv(\"cleveland.csv\")"
   ]
  },
  {
   "cell_type": "markdown",
   "metadata": {},
   "source": [
    "## Attribute Information:"
   ]
  },
  {
   "cell_type": "raw",
   "metadata": {},
   "source": [
    "age : age in years\n",
    "sex : (1 = male; 0 = female)\n",
    "cp : chest pain type -- Value 1: typical angina -- Value 2: atypical angina -- Value 3: non-anginal pain -- Value 4: asymptomatic\n",
    "trestbps : resting blood pressure\n",
    "chol : cholestoral\n",
    "fbs : (fasting blood sugar > 120 mg/dl) (1 = true; 0 = false)\n",
    "restecg :  -- Value 0: normal -- Value 1: having ST-T wave abnormality -- Value 2: showing probable or definite left ventricular hypertrophy\n",
    "thalach : maximum heart rate achieved\n",
    "exang : exercise induced angina (1 = yes; 0 = no)\n",
    "oldpeak : ST depression induced by exercise relative to rest\n",
    "slope : the slope of the peak exercise ST segment -- Value 1: upsloping -- Value 2: flat -- Value 3: downsloping\n",
    "ca : number of major vessels (0-3) colored by flourosopy\n",
    "thal : 3 = normal; 6 = fixed defect; 7 = reversable defect\n",
    "target : diagnosis of heart disease[0-4] (the predicted attribute)"
   ]
  },
  {
   "cell_type": "code",
   "execution_count": 5,
   "metadata": {},
   "outputs": [
    {
     "data": {
      "text/plain": [
       "(303, 14)"
      ]
     },
     "execution_count": 5,
     "metadata": {},
     "output_type": "execute_result"
    }
   ],
   "source": [
    "data.shape"
   ]
  },
  {
   "cell_type": "code",
   "execution_count": 6,
   "metadata": {},
   "outputs": [
    {
     "data": {
      "text/plain": [
       "0    164\n",
       "1     55\n",
       "2     36\n",
       "3     35\n",
       "4     13\n",
       "Name: target, dtype: int64"
      ]
     },
     "execution_count": 6,
     "metadata": {},
     "output_type": "execute_result"
    }
   ],
   "source": [
    "data.target.value_counts()"
   ]
  },
  {
   "cell_type": "code",
   "execution_count": 7,
   "metadata": {},
   "outputs": [
    {
     "data": {
      "text/plain": [
       "age           int64\n",
       "sex           int64\n",
       "cp            int64\n",
       "trestbps      int64\n",
       "chol          int64\n",
       "fbs           int64\n",
       "restecg       int64\n",
       "thalach       int64\n",
       "exang         int64\n",
       "oldpeak     float64\n",
       "slope         int64\n",
       "ca          float64\n",
       "thal        float64\n",
       "target        int64\n",
       "dtype: object"
      ]
     },
     "execution_count": 7,
     "metadata": {},
     "output_type": "execute_result"
    }
   ],
   "source": [
    "data.dtypes"
   ]
  },
  {
   "cell_type": "markdown",
   "metadata": {},
   "source": [
    "### head"
   ]
  },
  {
   "cell_type": "code",
   "execution_count": 8,
   "metadata": {},
   "outputs": [
    {
     "name": "stdout",
     "output_type": "stream",
     "text": [
      "   age  sex  cp  trestbps  chol  fbs  restecg  thalach  exang  oldpeak  slope  \\\n",
      "0   63    1   1       145   233    1        2      150      0      2.3      3   \n",
      "1   67    1   4       160   286    0        2      108      1      1.5      2   \n",
      "2   67    1   4       120   229    0        2      129      1      2.6      2   \n",
      "3   37    1   3       130   250    0        0      187      0      3.5      3   \n",
      "4   41    0   2       130   204    0        2      172      0      1.4      1   \n",
      "\n",
      "    ca  thal  target  \n",
      "0  0.0   6.0       0  \n",
      "1  3.0   3.0       2  \n",
      "2  2.0   7.0       1  \n",
      "3  0.0   3.0       0  \n",
      "4  0.0   3.0       0  \n"
     ]
    }
   ],
   "source": [
    "print(data.head())"
   ]
  },
  {
   "cell_type": "markdown",
   "metadata": {},
   "source": [
    "### info "
   ]
  },
  {
   "cell_type": "code",
   "execution_count": 9,
   "metadata": {},
   "outputs": [
    {
     "name": "stdout",
     "output_type": "stream",
     "text": [
      "<class 'pandas.core.frame.DataFrame'>\n",
      "RangeIndex: 303 entries, 0 to 302\n",
      "Data columns (total 14 columns):\n",
      " #   Column    Non-Null Count  Dtype  \n",
      "---  ------    --------------  -----  \n",
      " 0   age       303 non-null    int64  \n",
      " 1   sex       303 non-null    int64  \n",
      " 2   cp        303 non-null    int64  \n",
      " 3   trestbps  303 non-null    int64  \n",
      " 4   chol      303 non-null    int64  \n",
      " 5   fbs       303 non-null    int64  \n",
      " 6   restecg   303 non-null    int64  \n",
      " 7   thalach   303 non-null    int64  \n",
      " 8   exang     303 non-null    int64  \n",
      " 9   oldpeak   303 non-null    float64\n",
      " 10  slope     303 non-null    int64  \n",
      " 11  ca        299 non-null    float64\n",
      " 12  thal      301 non-null    float64\n",
      " 13  target    303 non-null    int64  \n",
      "dtypes: float64(3), int64(11)\n",
      "memory usage: 33.3 KB\n",
      "None\n"
     ]
    }
   ],
   "source": [
    "print(data.info())"
   ]
  },
  {
   "cell_type": "markdown",
   "metadata": {},
   "source": [
    "### describe"
   ]
  },
  {
   "cell_type": "code",
   "execution_count": 10,
   "metadata": {},
   "outputs": [
    {
     "name": "stdout",
     "output_type": "stream",
     "text": [
      "              age         sex          cp    trestbps        chol         fbs  \\\n",
      "count  303.000000  303.000000  303.000000  303.000000  303.000000  303.000000   \n",
      "mean    54.438944    0.679868    3.158416  131.689769  246.693069    0.148515   \n",
      "std      9.038662    0.467299    0.960126   17.599748   51.776918    0.356198   \n",
      "min     29.000000    0.000000    1.000000   94.000000  126.000000    0.000000   \n",
      "25%     48.000000    0.000000    3.000000  120.000000  211.000000    0.000000   \n",
      "50%     56.000000    1.000000    3.000000  130.000000  241.000000    0.000000   \n",
      "75%     61.000000    1.000000    4.000000  140.000000  275.000000    0.000000   \n",
      "max     77.000000    1.000000    4.000000  200.000000  564.000000    1.000000   \n",
      "\n",
      "          restecg     thalach       exang     oldpeak       slope          ca  \\\n",
      "count  303.000000  303.000000  303.000000  303.000000  303.000000  299.000000   \n",
      "mean     0.990099  149.607261    0.326733    1.039604    1.600660    0.672241   \n",
      "std      0.994971   22.875003    0.469794    1.161075    0.616226    0.937438   \n",
      "min      0.000000   71.000000    0.000000    0.000000    1.000000    0.000000   \n",
      "25%      0.000000  133.500000    0.000000    0.000000    1.000000    0.000000   \n",
      "50%      1.000000  153.000000    0.000000    0.800000    2.000000    0.000000   \n",
      "75%      2.000000  166.000000    1.000000    1.600000    2.000000    1.000000   \n",
      "max      2.000000  202.000000    1.000000    6.200000    3.000000    3.000000   \n",
      "\n",
      "             thal      target  \n",
      "count  301.000000  303.000000  \n",
      "mean     4.734219    0.937294  \n",
      "std      1.939706    1.228536  \n",
      "min      3.000000    0.000000  \n",
      "25%      3.000000    0.000000  \n",
      "50%      3.000000    0.000000  \n",
      "75%      7.000000    2.000000  \n",
      "max      7.000000    4.000000  \n"
     ]
    }
   ],
   "source": [
    "print(data.describe())"
   ]
  },
  {
   "cell_type": "markdown",
   "metadata": {},
   "source": [
    "### unique values of target column"
   ]
  },
  {
   "cell_type": "code",
   "execution_count": 11,
   "metadata": {},
   "outputs": [
    {
     "data": {
      "text/plain": [
       "array([0, 2, 1, 3, 4], dtype=int64)"
      ]
     },
     "execution_count": 11,
     "metadata": {},
     "output_type": "execute_result"
    }
   ],
   "source": [
    "data.target.unique()"
   ]
  },
  {
   "cell_type": "code",
   "execution_count": 12,
   "metadata": {},
   "outputs": [
    {
     "data": {
      "text/plain": [
       "0    164\n",
       "1     55\n",
       "2     36\n",
       "3     35\n",
       "4     13\n",
       "Name: target, dtype: int64"
      ]
     },
     "execution_count": 12,
     "metadata": {},
     "output_type": "execute_result"
    }
   ],
   "source": [
    "data.target.value_counts()"
   ]
  },
  {
   "cell_type": "markdown",
   "metadata": {},
   "source": [
    "### replacing multi values of target column to binary class"
   ]
  },
  {
   "cell_type": "code",
   "execution_count": 13,
   "metadata": {},
   "outputs": [],
   "source": [
    "data['target'] = np.where((data.target == 0),0,data.target)\n",
    "data['target'] = np.where((data.target == 1),1,data.target)\n",
    "data['target'] = np.where((data.target == 2),1,data.target)\n",
    "data['target'] = np.where((data.target == 3),1,data.target)\n",
    "data['target'] = np.where((data.target == 4),1,data.target)"
   ]
  },
  {
   "cell_type": "code",
   "execution_count": 14,
   "metadata": {},
   "outputs": [
    {
     "data": {
      "text/plain": [
       "0    164\n",
       "1    139\n",
       "Name: target, dtype: int64"
      ]
     },
     "execution_count": 14,
     "metadata": {},
     "output_type": "execute_result"
    }
   ],
   "source": [
    "data.target.value_counts()"
   ]
  },
  {
   "cell_type": "markdown",
   "metadata": {},
   "source": [
    "## Patients having heart disease"
   ]
  },
  {
   "cell_type": "code",
   "execution_count": 15,
   "metadata": {},
   "outputs": [
    {
     "data": {
      "image/png": "[encoded data removed]",
      "text/plain": [
       "<Figure size 432x288 with 1 Axes>"
      ]
     },
     "metadata": {
      "needs_background": "light"
     },
     "output_type": "display_data"
    }
   ],
   "source": [
    "sns.countplot(x=\"target\", data=data, palette=\"bwr\")\n",
    "plt.show()"
   ]
  },
  {
   "cell_type": "markdown",
   "metadata": {},
   "source": [
    "### relation between “Maximum Heart Rate” and “Age”."
   ]
  },
  {
   "cell_type": "code",
   "execution_count": 16,
   "metadata": {},
   "outputs": [
    {
     "data": {
      "image/png": "[encoded data removed]",
      "text/plain": [
       "<Figure size 432x288 with 1 Axes>"
      ]
     },
     "metadata": {
      "needs_background": "light"
     },
     "output_type": "display_data"
    }
   ],
   "source": [
    "plt.scatter(x=data.age[data.target==1], y=data.thalach[(data.target==1)], c=\"green\")\n",
    "plt.scatter(x=data.age[data.target==0], y=data.thalach[(data.target==0)], c = 'red')\n",
    "plt.legend([\"Disease\", \"Not Disease\"])\n",
    "plt.xlabel(\"Age\")\n",
    "plt.ylabel(\"Maximum Heart Rate\")\n",
    "plt.show()"
   ]
  },
  {
   "cell_type": "markdown",
   "metadata": {},
   "source": [
    "## checking null values values"
   ]
  },
  {
   "cell_type": "code",
   "execution_count": 17,
   "metadata": {},
   "outputs": [
    {
     "name": "stdout",
     "output_type": "stream",
     "text": [
      "age         0\n",
      "sex         0\n",
      "cp          0\n",
      "trestbps    0\n",
      "chol        0\n",
      "fbs         0\n",
      "restecg     0\n",
      "thalach     0\n",
      "exang       0\n",
      "oldpeak     0\n",
      "slope       0\n",
      "ca          4\n",
      "thal        2\n",
      "target      0\n",
      "dtype: int64\n"
     ]
    }
   ],
   "source": [
    "print(data.isnull().sum())"
   ]
  },
  {
   "cell_type": "markdown",
   "metadata": {},
   "source": [
    "# Preprocessing"
   ]
  },
  {
   "cell_type": "code",
   "execution_count": 18,
   "metadata": {},
   "outputs": [
    {
     "name": "stdout",
     "output_type": "stream",
     "text": [
      "0.0    176\n",
      "1.0     65\n",
      "2.0     38\n",
      "3.0     20\n",
      "Name: ca, dtype: int64\n"
     ]
    }
   ],
   "source": [
    "print(data[\"ca\"].value_counts())"
   ]
  },
  {
   "cell_type": "code",
   "execution_count": 19,
   "metadata": {},
   "outputs": [
    {
     "name": "stdout",
     "output_type": "stream",
     "text": [
      "3.0    166\n",
      "7.0    117\n",
      "6.0     18\n",
      "Name: thal, dtype: int64\n"
     ]
    }
   ],
   "source": [
    "print(data[\"thal\"].value_counts())"
   ]
  },
  {
   "cell_type": "code",
   "execution_count": 20,
   "metadata": {},
   "outputs": [],
   "source": [
    "data['thal'] = data.thal.fillna(data.thal.mean())\n",
    "data['ca'] = data.ca.fillna(data.ca.mean())"
   ]
  },
  {
   "cell_type": "code",
   "execution_count": 21,
   "metadata": {},
   "outputs": [
    {
     "name": "stdout",
     "output_type": "stream",
     "text": [
      "age         0\n",
      "sex         0\n",
      "cp          0\n",
      "trestbps    0\n",
      "chol        0\n",
      "fbs         0\n",
      "restecg     0\n",
      "thalach     0\n",
      "exang       0\n",
      "oldpeak     0\n",
      "slope       0\n",
      "ca          0\n",
      "thal        0\n",
      "target      0\n",
      "dtype: int64\n"
     ]
    }
   ],
   "source": [
    "print(data.isnull().sum())\n",
    "X = data.iloc[:,:-1].values\n",
    "y = data.iloc[:, 13].values\n",
    "X_train, X_test, y_train, y_test = train_test_split(X, y, test_size = 0.25, random_state =9)"
   ]
  },
  {
   "cell_type": "code",
   "execution_count": 22,
   "metadata": {},
   "outputs": [
    {
     "data": {
      "text/plain": [
       "0    164\n",
       "1    139\n",
       "Name: target, dtype: int64"
      ]
     },
     "execution_count": 22,
     "metadata": {},
     "output_type": "execute_result"
    }
   ],
   "source": [
    "data.target.value_counts()"
   ]
  },
  {
   "cell_type": "markdown",
   "metadata": {},
   "source": [
    "# Feature extraction"
   ]
  },
  {
   "cell_type": "code",
   "execution_count": 23,
   "metadata": {},
   "outputs": [
    {
     "name": "stdout",
     "output_type": "stream",
     "text": [
      "Num Features: 1\n",
      "Selected Features: [False False False False False False False  True False False False False\n",
      " False]\n",
      "Feature Ranking: [ 6 11  3  7  8 13 12  1  9  2 10  5  4]\n"
     ]
    },
    {
     "data": {
      "text/plain": [
       "DecisionTreeClassifier(ccp_alpha=0.0, class_weight=None, criterion='gini',\n",
       "                       max_depth=3, max_features=None, max_leaf_nodes=None,\n",
       "                       min_impurity_decrease=0.0, min_impurity_split=None,\n",
       "                       min_samples_leaf=1, min_samples_split=2,\n",
       "                       min_weight_fraction_leaf=0.0, presort='deprecated',\n",
       "                       random_state=None, splitter='best')"
      ]
     },
     "execution_count": 23,
     "metadata": {},
     "output_type": "execute_result"
    }
   ],
   "source": [
    "model = RandomForestClassifier()\n",
    "rfe = RFE(model, 1)\n",
    "fit = rfe.fit(X_train, y_train)\n",
    "print(\"Num Features: %d\" % fit.n_features_)\n",
    "print(\"Selected Features: %s\" % fit.support_)\n",
    "print(\"Feature Ranking: %s\" % fit.ranking_)\n",
    "\n",
    "X=data[['age','sex','cp','trestbps','chol','fbs','restecg','thalach','exang','oldpeak','slope','ca','thal','target']]\n",
    "\n",
    "X_train, X_test, y_train, y_test = train_test_split(X,X.target, test_size=0.2, random_state=0)\n",
    "\n",
    "model_tree_clf = tree.DecisionTreeClassifier(criterion='gini',max_depth=3)\n",
    "model_tree_clf.fit(X_train,y_train)"
   ]
  },
  {
   "cell_type": "markdown",
   "metadata": {},
   "source": [
    "### FEATURE RANKING"
   ]
  },
  {
   "cell_type": "code",
   "execution_count": 24,
   "metadata": {},
   "outputs": [
    {
     "data": {
      "text/html": [
       "<div>\n",
       "<style scoped>\n",
       "    .dataframe tbody tr th:only-of-type {\n",
       "        vertical-align: middle;\n",
       "    }\n",
       "\n",
       "    .dataframe tbody tr th {\n",
       "        vertical-align: top;\n",
       "    }\n",
       "\n",
       "    .dataframe thead th {\n",
       "        text-align: right;\n",
       "    }\n",
       "</style>\n",
       "<table border=\"1\" class=\"dataframe\">\n",
       "  <thead>\n",
       "    <tr style=\"text-align: right;\">\n",
       "      <th></th>\n",
       "      <th>rank</th>\n",
       "      <th>feature</th>\n",
       "    </tr>\n",
       "  </thead>\n",
       "  <tbody>\n",
       "    <tr>\n",
       "      <th>7</th>\n",
       "      <td>1</td>\n",
       "      <td>thalach</td>\n",
       "    </tr>\n",
       "    <tr>\n",
       "      <th>9</th>\n",
       "      <td>2</td>\n",
       "      <td>oldpeak</td>\n",
       "    </tr>\n",
       "    <tr>\n",
       "      <th>2</th>\n",
       "      <td>3</td>\n",
       "      <td>cp</td>\n",
       "    </tr>\n",
       "    <tr>\n",
       "      <th>12</th>\n",
       "      <td>4</td>\n",
       "      <td>thal</td>\n",
       "    </tr>\n",
       "    <tr>\n",
       "      <th>11</th>\n",
       "      <td>5</td>\n",
       "      <td>ca</td>\n",
       "    </tr>\n",
       "    <tr>\n",
       "      <th>0</th>\n",
       "      <td>6</td>\n",
       "      <td>age</td>\n",
       "    </tr>\n",
       "    <tr>\n",
       "      <th>3</th>\n",
       "      <td>7</td>\n",
       "      <td>trestbps</td>\n",
       "    </tr>\n",
       "    <tr>\n",
       "      <th>4</th>\n",
       "      <td>8</td>\n",
       "      <td>chol</td>\n",
       "    </tr>\n",
       "    <tr>\n",
       "      <th>8</th>\n",
       "      <td>9</td>\n",
       "      <td>exang</td>\n",
       "    </tr>\n",
       "    <tr>\n",
       "      <th>10</th>\n",
       "      <td>10</td>\n",
       "      <td>slope</td>\n",
       "    </tr>\n",
       "    <tr>\n",
       "      <th>1</th>\n",
       "      <td>11</td>\n",
       "      <td>sex</td>\n",
       "    </tr>\n",
       "    <tr>\n",
       "      <th>6</th>\n",
       "      <td>12</td>\n",
       "      <td>restecg</td>\n",
       "    </tr>\n",
       "    <tr>\n",
       "      <th>5</th>\n",
       "      <td>13</td>\n",
       "      <td>fbs</td>\n",
       "    </tr>\n",
       "  </tbody>\n",
       "</table>\n",
       "</div>"
      ],
      "text/plain": [
       "    rank   feature\n",
       "7      1   thalach\n",
       "9      2   oldpeak\n",
       "2      3        cp\n",
       "12     4      thal\n",
       "11     5        ca\n",
       "0      6       age\n",
       "3      7  trestbps\n",
       "4      8      chol\n",
       "8      9     exang\n",
       "10    10     slope\n",
       "1     11       sex\n",
       "6     12   restecg\n",
       "5     13       fbs"
      ]
     },
     "execution_count": 24,
     "metadata": {},
     "output_type": "execute_result"
    }
   ],
   "source": [
    "feature_rank = pd.DataFrame(list(zip(fit.ranking_,X)),columns=['rank','feature'])\n",
    "feature_rank = feature_rank.sort_values(by ='rank')\n",
    "feature_rank"
   ]
  },
  {
   "cell_type": "markdown",
   "metadata": {},
   "source": [
    "# Training data"
   ]
  },
  {
   "cell_type": "code",
   "execution_count": 25,
   "metadata": {},
   "outputs": [],
   "source": [
    "y_values = data['target']\n",
    "\n",
    "# all features\n",
    "#X = data.iloc[:,:-1].values\n",
    "\n",
    "#eliminate last 3 restecg,sex,fbs  \n",
    "X=data[['age','cp','trestbps','chol','thalach','exang','oldpeak','slope','ca','thal']]\n",
    "\n",
    "\n",
    "X_train, X_test, y_train, y_test = train_test_split(\n",
    "    X, y_values, test_size=0.3, random_state=42)\n"
   ]
  },
  {
   "cell_type": "code",
   "execution_count": 26,
   "metadata": {},
   "outputs": [
    {
     "name": "stdout",
     "output_type": "stream",
     "text": [
      "X_train.shape :  (212, 10)\n",
      "X_test.shape :  (91, 10)\n",
      "y_train.shape :  (212,)\n",
      "y_test.shape :  (91,)\n"
     ]
    }
   ],
   "source": [
    "print('X_train.shape : ',X_train.shape)\n",
    "print('X_test.shape : ',X_test.shape)\n",
    "print('y_train.shape : ',y_train.shape)\n",
    "print('y_test.shape : ',y_test.shape)"
   ]
  },
  {
   "cell_type": "markdown",
   "metadata": {},
   "source": [
    "## Naive bayes"
   ]
  },
  {
   "cell_type": "code",
   "execution_count": 27,
   "metadata": {},
   "outputs": [],
   "source": [
    "from sklearn.naive_bayes import BernoulliNB\n",
    "from sklearn.naive_bayes import GaussianNB\n",
    "classifier = GaussianNB()\n",
    "classifier.fit(X_train, y_train)\n",
    "\n",
    "# Predicting the Test set results\n",
    "nb_y_pred = classifier.predict(X_test)"
   ]
  },
  {
   "cell_type": "code",
   "execution_count": 28,
   "metadata": {},
   "outputs": [
    {
     "name": "stdout",
     "output_type": "stream",
     "text": [
      "Confusion Matrix\n",
      "[[39  9]\n",
      " [ 9 34]]\n",
      "Accuracy                  :  80.22\n",
      "Classification Error Rate :  19.78\n",
      "specificity               :  79.07\n",
      "sensitivity or Recall     :  81.25\n",
      "Precision                 :  81.25\n",
      "f1 score                  :  81.25\n"
     ]
    }
   ],
   "source": [
    "conf_mat = confusion_matrix(y_test, nb_y_pred)\n",
    "\n",
    "print('Confusion Matrix')\n",
    "print(conf_mat)\n",
    "\n",
    "\n",
    "TP = conf_mat[0,0]\n",
    "TN = conf_mat[1,1]\n",
    "FP = conf_mat[0,1]\n",
    "FN = conf_mat[1,0]\n",
    "\n",
    "\n",
    "accuracyn = round( ((TP+TN)/(TP+TN+FP+FN))*100 ,2)\n",
    "errorn = round((100 - accuracyn),2)\n",
    "\n",
    "specificityn = round ( ((TN) / (TN + FP))*100,2 )\n",
    "sensitivityn = round ( ((TP) / (TP+FN))*100 ,2 )\n",
    "Recalln = round( ((TP)/(TP+FN))*100 , 2) #sensitivity\n",
    "Precisionn = round( ((TP)/(TP+FP))*100 ,2 )\n",
    "f1_scoren = round( ((2*Precisionn*Recalln)/(Precisionn+Recalln)) ,2 )\n",
    "\n",
    "\n",
    "print(\"Accuracy                  : \",accuracyn)\n",
    "print('Classification Error Rate : ', errorn)\n",
    "print('specificity               : ',specificityn)\n",
    "print('sensitivity or Recall     : ',sensitivityn)\n",
    "print('Precision                 : ',Precisionn)\n",
    "print('f1 score                  : ',f1_scoren)\n"
   ]
  },
  {
   "cell_type": "markdown",
   "metadata": {},
   "source": [
    "## Logistic Regression"
   ]
  },
  {
   "cell_type": "code",
   "execution_count": 29,
   "metadata": {},
   "outputs": [],
   "source": [
    "from sklearn.linear_model import LogisticRegression\n",
    "\n",
    "clf = LogisticRegression()\n",
    "clf.fit(X_train, y_train)\n",
    "lr_pred = clf.predict(X_test)"
   ]
  },
  {
   "cell_type": "code",
   "execution_count": 30,
   "metadata": {},
   "outputs": [
    {
     "name": "stdout",
     "output_type": "stream",
     "text": [
      "Confusion Matrix\n",
      "[[40  8]\n",
      " [ 5 38]]\n",
      "Accuracy                  :  85.71\n",
      "Classification Error Rate :  14.29\n",
      "specificity               :  82.61\n",
      "sensitivity or Recall     :  88.89\n",
      "Precision                 :  83.33\n",
      "f1 score                  :  86.02\n"
     ]
    }
   ],
   "source": [
    "conf_mat = confusion_matrix(y_test, lr_pred)\n",
    "\n",
    "print('Confusion Matrix')\n",
    "print(conf_mat)\n",
    "\n",
    "TP = conf_mat[0,0]\n",
    "TN = conf_mat[1,1]\n",
    "FP = conf_mat[0,1]\n",
    "FN = conf_mat[1,0]\n",
    "\n",
    "accuracyl = round( ((TP+TN)/(TP+TN+FP+FN))*100 , 2 )\n",
    "errorl = round ( 100 - accuracyl ,2)\n",
    "\n",
    "specificityl = round ( ((TN) / (TN + FP))*100 ,2)\n",
    "sensitivityl = round ( ((TP) / (TP+FN))*100 ,2)\n",
    "Recalll = round ( ((TP)/(TP+FN))*100 ,2) #sensitivity\n",
    "Precisionl = round ( ( (TP)/(TP+FP) )*100 ,2)\n",
    "f1_scorel = round ( ( (2*Precisionl*Recalll)/(Precisionl+Recalll) ) ,2)\n",
    "\n",
    "print(\"Accuracy                  : \",accuracyl)\n",
    "print('Classification Error Rate : ', errorl)\n",
    "print('specificity               : ',specificityl)\n",
    "print('sensitivity or Recall     : ',sensitivityl)\n",
    "print('Precision                 : ',Precisionl)\n",
    "print('f1 score                  : ',f1_scorel)"
   ]
  },
  {
   "cell_type": "markdown",
   "metadata": {},
   "source": [
    "## Decision Tree"
   ]
  },
  {
   "cell_type": "code",
   "execution_count": 31,
   "metadata": {},
   "outputs": [],
   "source": [
    "from sklearn.tree import DecisionTreeClassifier\n",
    "classifier = DecisionTreeClassifier(criterion='gini')\n",
    "classifier.fit(X_train, y_train)\n",
    "\n",
    "# Predicting the Test set results\n",
    "DT_y_pred = classifier.predict(X_test)"
   ]
  },
  {
   "cell_type": "code",
   "execution_count": 32,
   "metadata": {},
   "outputs": [
    {
     "name": "stdout",
     "output_type": "stream",
     "text": [
      "Confusion Matrix\n",
      "[[37 11]\n",
      " [13 30]]\n",
      "Accuracy                  :  73.63\n",
      "Classification Error Rate :  26.37\n",
      "specificity               :  73.17\n",
      "sensitivity or Recall     :  74.0\n",
      "Precision                 :  77.08\n",
      "f1 score                  :  75.51\n"
     ]
    }
   ],
   "source": [
    "conf_mat = confusion_matrix(y_test, DT_y_pred)\n",
    "\n",
    "print('Confusion Matrix')\n",
    "print(conf_mat)\n",
    "\n",
    "TP = conf_mat[0,0]\n",
    "TN = conf_mat[1,1]\n",
    "FP = conf_mat[0,1]\n",
    "FN = conf_mat[1,0]\n",
    "\n",
    "accuracyd = round (((TP+TN)/(TP+TN+FP+FN))*100 ,2)\n",
    "errord = round (100 - accuracyd ,2)\n",
    "\n",
    "specificityd =  round (((TN) / (TN + FP))*100 ,2)\n",
    "sensitivityd =  round (((TP) / (TP+FN))*100 ,2)\n",
    "Recalld =  round (((TP)/(TP+FN))*100 ,2) #sensitivity\n",
    "Precisiond =  round (((TP)/(TP+FP))*100 ,2)\n",
    "f1_scored =  round (((2*Precisiond*Recalld)/(Precisiond+Recalld)) ,2)\n",
    "\n",
    "print(\"Accuracy                  : \",accuracyd)\n",
    "print('Classification Error Rate : ', errord)\n",
    "print('specificity               : ',specificityd)\n",
    "print('sensitivity or Recall     : ',sensitivityd)\n",
    "print('Precision                 : ',Precisiond)\n",
    "print('f1 score                  : ',f1_scored)"
   ]
  },
  {
   "cell_type": "markdown",
   "metadata": {},
   "source": [
    "## Random Forest"
   ]
  },
  {
   "cell_type": "code",
   "execution_count": 33,
   "metadata": {},
   "outputs": [],
   "source": [
    "from sklearn.ensemble import RandomForestClassifier\n",
    "classifier = RandomForestClassifier(n_estimators = 10)\n",
    "classifier.fit(X_train, y_train)\n",
    "\n",
    "# Predicting the Test set results\n",
    "RF_y_pred = classifier.predict(X_test)"
   ]
  },
  {
   "cell_type": "code",
   "execution_count": 34,
   "metadata": {},
   "outputs": [
    {
     "name": "stdout",
     "output_type": "stream",
     "text": [
      "Confusion Matrix\n",
      "[[42  6]\n",
      " [ 9 34]]\n",
      "Accuracy                  :  83.52\n",
      "Classification Error Rate :  16.48\n",
      "specificity               :  85.0\n",
      "sensitivity or Recall     :  82.35\n",
      "Precision                 :  87.5\n",
      "f1 score                  :  84.85\n"
     ]
    }
   ],
   "source": [
    "conf_mat = confusion_matrix(y_test, RF_y_pred)\n",
    "\n",
    "print('Confusion Matrix')\n",
    "print(conf_mat)\n",
    "\n",
    "TP = conf_mat[0,0]\n",
    "TN = conf_mat[1,1]\n",
    "FP = conf_mat[0,1]\n",
    "FN = conf_mat[1,0]\n",
    "\n",
    "accuracyr = round( ((TP+TN)/(TP+TN+FP+FN))*100 ,2)\n",
    "errorr = round( 100 - accuracyr ,2)\n",
    "\n",
    "specificityr =  round( ((TN) / (TN + FP))*100 ,2)\n",
    "sensitivityr =  round( ((TP) / (TP+FN))*100 ,2)\n",
    "Recallr =  round( ((TP)/(TP+FN))*100 ,2) #sensitivity\n",
    "Precisionr =  round( ((TP)/(TP+FP))*100 ,2)\n",
    "f1_scorer =  round( ((2*Precisionr*Recallr)/(Precisionr+Recallr)) ,2)\n",
    "\n",
    "print(\"Accuracy                  : \",accuracyr)\n",
    "print('Classification Error Rate : ', errorr)\n",
    "print('specificity               : ',specificityr)\n",
    "print('sensitivity or Recall     : ',sensitivityr)\n",
    "print('Precision                 : ',Precisionr)\n",
    "print('f1 score                  : ',f1_scorer)\n"
   ]
  },
  {
   "cell_type": "markdown",
   "metadata": {},
   "source": [
    "## SVM"
   ]
  },
  {
   "cell_type": "code",
   "execution_count": 35,
   "metadata": {},
   "outputs": [],
   "source": [
    "from sklearn.svm import SVC\n",
    "classifier = SVC(kernel = 'rbf')\n",
    "classifier.fit(X_train, y_train)\n",
    "\n",
    "# Predicting the Test set results\n",
    "svm_y_pred = classifier.predict(X_test)"
   ]
  },
  {
   "cell_type": "code",
   "execution_count": 36,
   "metadata": {},
   "outputs": [
    {
     "name": "stdout",
     "output_type": "stream",
     "text": [
      "Confusion Matrix\n",
      "[[39  9]\n",
      " [23 20]]\n",
      "Accuracy                  :  64.84\n",
      "Classification Error Rate :  35.16\n",
      "specificity               :  68.97\n",
      "sensitivity or Recall     :  62.9\n",
      "Precision                 :  81.25\n",
      "f1 score                  :  70.91\n"
     ]
    }
   ],
   "source": [
    "conf_mat = confusion_matrix(y_test, svm_y_pred)\n",
    "\n",
    "print('Confusion Matrix')\n",
    "print(conf_mat)\n",
    "\n",
    "TP = conf_mat[0,0]\n",
    "TN = conf_mat[1,1]\n",
    "FP = conf_mat[0,1]\n",
    "FN = conf_mat[1,0]\n",
    "\n",
    "accuracys = round ( ((TP+TN)/(TP+TN+FP+FN))*100 ,2)\n",
    "errors =  round ( 100 - accuracys ,2)\n",
    "\n",
    "specificitys =  round ( ((TN) / (TN + FP))*100 ,2)\n",
    "sensitivitys =  round ( ((TP) / (TP+FN))*100 ,2)\n",
    "Recalls =  round ( ((TP)/(TP+FN))*100 ,2) #sensitivity\n",
    "Precisions =  round ( ((TP)/(TP+FP))*100 ,2)\n",
    "f1_scores =  round ( ((2*Precisions*Recalls)/(Precisions+Recalls)) ,2)\n",
    "\n",
    "print(\"Accuracy                  : \",accuracys)\n",
    "print('Classification Error Rate : ', errors)\n",
    "print('specificity               : ',specificitys)\n",
    "print('sensitivity or Recall     : ',sensitivitys)\n",
    "print('Precision                 : ',Precisions)\n",
    "print('f1 score                  : ',f1_scores)\n"
   ]
  },
  {
   "cell_type": "markdown",
   "metadata": {},
   "source": [
    "## KNN"
   ]
  },
  {
   "cell_type": "code",
   "execution_count": 37,
   "metadata": {},
   "outputs": [],
   "source": [
    "from sklearn.neighbors import KNeighborsClassifier\n",
    "k_range=range(1,30)\n",
    "scores={}\n",
    "scores_list=[]\n",
    "for k in k_range:\n",
    "    knn=KNeighborsClassifier(n_neighbors = k)\n",
    "    knn = knn.fit(X_train,y_train)\n",
    "    y_pred = knn.predict(X_test)\n",
    "    scores[k]=metrics.accuracy_score(y_test,y_pred)\n",
    "    scores_list.append(metrics.accuracy_score(y_test,y_pred))\n"
   ]
  },
  {
   "cell_type": "code",
   "execution_count": 38,
   "metadata": {},
   "outputs": [
    {
     "data": {
      "image/png": "[encoded data removed]",
      "text/plain": [
       "<Figure size 432x288 with 1 Axes>"
      ]
     },
     "metadata": {
      "needs_background": "light"
     },
     "output_type": "display_data"
    }
   ],
   "source": [
    "%matplotlib inline\n",
    "plt.plot(k_range,scores_list)\n",
    "plt.xlabel('value of k')\n",
    "plt.ylabel('Accuracy')\n",
    "plt.show()"
   ]
  },
  {
   "cell_type": "code",
   "execution_count": 39,
   "metadata": {},
   "outputs": [],
   "source": [
    "from sklearn.neighbors import KNeighborsClassifier\n",
    "knn = KNeighborsClassifier(n_neighbors = 5, metric = 'minkowski', p = 2)\n",
    "knn = knn.fit(X_train,y_train)\n",
    "knn_y_pred = knn.predict(X_test)"
   ]
  },
  {
   "cell_type": "code",
   "execution_count": 40,
   "metadata": {},
   "outputs": [
    {
     "name": "stdout",
     "output_type": "stream",
     "text": [
      "Confusion Matrix\n",
      "[[33 15]\n",
      " [14 29]]\n",
      "Accuracy                  :  68.13\n",
      "Classification Error Rate :  31.87\n",
      "specificity               :  65.91\n",
      "sensitivity or Recall     :  70.21\n",
      "Precision                 :  68.75\n",
      "f1 score                  :  69.47\n"
     ]
    }
   ],
   "source": [
    "conf_mat = confusion_matrix(y_test, knn_y_pred)\n",
    "\n",
    "print('Confusion Matrix')\n",
    "print(conf_mat)\n",
    "\n",
    "TP = conf_mat[0,0]\n",
    "TN = conf_mat[1,1]\n",
    "FP = conf_mat[0,1]\n",
    "FN = conf_mat[1,0]\n",
    "\n",
    "accuracyk =  round( ((TP+TN)/(TP+TN+FP+FN))*100 , 2)\n",
    "errork =  round( 100 - accuracyk , 2)\n",
    "\n",
    "specificityk =  round( ((TN) / (TN + FP))*100 , 2)\n",
    "sensitivityk =  round( ((TP) / (TP+FN))*100 , 2)\n",
    "Recallk =  round( ((TP)/(TP+FN))*100 , 2) #sensitivity\n",
    "Precisionk =  round( ((TP)/(TP+FP))*100 , 2)\n",
    "f1_scorek =  round( ((2*Precisionk*Recallk)/(Precisionk+Recallk)) , 2)\n",
    "\n",
    "print(\"Accuracy                  : \",accuracyk)\n",
    "print('Classification Error Rate : ', errork)\n",
    "print('specificity               : ',specificityk)\n",
    "print('sensitivity or Recall     : ',sensitivityk)\n",
    "print('Precision                 : ',Precisionk)\n",
    "print('f1 score                  : ',f1_scorek)"
   ]
  },
  {
   "cell_type": "markdown",
   "metadata": {},
   "source": [
    "## Voting Classifier"
   ]
  },
  {
   "cell_type": "code",
   "execution_count": 41,
   "metadata": {},
   "outputs": [],
   "source": [
    "table1={'Algorithm':['Logistic Regression','Random Forest','Naive Bayes','Decision Tree','SVM','KNN'],\n",
    "    'Accuracy':[accuracyl,accuracyr,accuracyn,accuracyd,accuracys,accuracyk],\n",
    "       'Classification Error Rate':[errorl,errorr,errorn,errord,errors,errork],\n",
    "        'Specificity':[specificityl,specificityr,specificityn,specificityd,specificitys,specificityk],\n",
    "        'Sensitivity':[sensitivityl,sensitivityr,sensitivityn,sensitivityd,sensitivitys,sensitivityk],\n",
    "        'Precision': [Precisionl,Precisionr,Precisionn,Precisiond,Precisions,Precisionk]\n",
    "}"
   ]
  },
  {
   "cell_type": "code",
   "execution_count": 42,
   "metadata": {},
   "outputs": [],
   "source": [
    "table2=pd.DataFrame(table1,columns=['Algorithm','Accuracy','Classification Error Rate','Specificity','Sensitivity','Precision'])"
   ]
  },
  {
   "cell_type": "code",
   "execution_count": 43,
   "metadata": {},
   "outputs": [
    {
     "data": {
      "text/html": [
       "<div>\n",
       "<style scoped>\n",
       "    .dataframe tbody tr th:only-of-type {\n",
       "        vertical-align: middle;\n",
       "    }\n",
       "\n",
       "    .dataframe tbody tr th {\n",
       "        vertical-align: top;\n",
       "    }\n",
       "\n",
       "    .dataframe thead th {\n",
       "        text-align: right;\n",
       "    }\n",
       "</style>\n",
       "<table border=\"1\" class=\"dataframe\">\n",
       "  <thead>\n",
       "    <tr style=\"text-align: right;\">\n",
       "      <th></th>\n",
       "      <th>Algorithm</th>\n",
       "      <th>Accuracy</th>\n",
       "      <th>Classification Error Rate</th>\n",
       "      <th>Specificity</th>\n",
       "      <th>Sensitivity</th>\n",
       "      <th>Precision</th>\n",
       "    </tr>\n",
       "  </thead>\n",
       "  <tbody>\n",
       "    <tr>\n",
       "      <th>0</th>\n",
       "      <td>Logistic Regression</td>\n",
       "      <td>85.71</td>\n",
       "      <td>14.29</td>\n",
       "      <td>82.61</td>\n",
       "      <td>88.89</td>\n",
       "      <td>83.33</td>\n",
       "    </tr>\n",
       "    <tr>\n",
       "      <th>1</th>\n",
       "      <td>Random Forest</td>\n",
       "      <td>83.52</td>\n",
       "      <td>16.48</td>\n",
       "      <td>85.00</td>\n",
       "      <td>82.35</td>\n",
       "      <td>87.50</td>\n",
       "    </tr>\n",
       "    <tr>\n",
       "      <th>2</th>\n",
       "      <td>Naive Bayes</td>\n",
       "      <td>80.22</td>\n",
       "      <td>19.78</td>\n",
       "      <td>79.07</td>\n",
       "      <td>81.25</td>\n",
       "      <td>81.25</td>\n",
       "    </tr>\n",
       "    <tr>\n",
       "      <th>3</th>\n",
       "      <td>Decision Tree</td>\n",
       "      <td>73.63</td>\n",
       "      <td>26.37</td>\n",
       "      <td>73.17</td>\n",
       "      <td>74.00</td>\n",
       "      <td>77.08</td>\n",
       "    </tr>\n",
       "    <tr>\n",
       "      <th>5</th>\n",
       "      <td>KNN</td>\n",
       "      <td>68.13</td>\n",
       "      <td>31.87</td>\n",
       "      <td>65.91</td>\n",
       "      <td>70.21</td>\n",
       "      <td>68.75</td>\n",
       "    </tr>\n",
       "    <tr>\n",
       "      <th>4</th>\n",
       "      <td>SVM</td>\n",
       "      <td>64.84</td>\n",
       "      <td>35.16</td>\n",
       "      <td>68.97</td>\n",
       "      <td>62.90</td>\n",
       "      <td>81.25</td>\n",
       "    </tr>\n",
       "  </tbody>\n",
       "</table>\n",
       "</div>"
      ],
      "text/plain": [
       "             Algorithm  Accuracy  Classification Error Rate  Specificity  \\\n",
       "0  Logistic Regression     85.71                      14.29        82.61   \n",
       "1        Random Forest     83.52                      16.48        85.00   \n",
       "2          Naive Bayes     80.22                      19.78        79.07   \n",
       "3        Decision Tree     73.63                      26.37        73.17   \n",
       "5                  KNN     68.13                      31.87        65.91   \n",
       "4                  SVM     64.84                      35.16        68.97   \n",
       "\n",
       "   Sensitivity  Precision  \n",
       "0        88.89      83.33  \n",
       "1        82.35      87.50  \n",
       "2        81.25      81.25  \n",
       "3        74.00      77.08  \n",
       "5        70.21      68.75  \n",
       "4        62.90      81.25  "
      ]
     },
     "execution_count": 43,
     "metadata": {},
     "output_type": "execute_result"
    }
   ],
   "source": [
    "table2=table2.sort_values(by ='Classification Error Rate')\n",
    "table2"
   ]
  },
  {
   "cell_type": "markdown",
   "metadata": {},
   "source": [
    "## Voting Classifier"
   ]
  },
  {
   "cell_type": "code",
   "execution_count": 44,
   "metadata": {},
   "outputs": [
    {
     "name": "stdout",
     "output_type": "stream",
     "text": [
      "Accuracy Score : 84.62\n"
     ]
    }
   ],
   "source": [
    "from sklearn.ensemble import VotingClassifier\n",
    "\n",
    "clf1 = LogisticRegression(random_state=1)\n",
    "clf2 = RandomForestClassifier(n_estimators=50, random_state=1)\n",
    "clf3 = BernoulliNB()\n",
    "eclf = VotingClassifier(estimators=[('lr', clf1), ('rf', clf2),('nb',clf3)],voting='hard')\n",
    "eclf.fit(X_train, y_train) \n",
    "y_pred = eclf.predict(X_test) \n",
    "  \n",
    "# using accuracy_score metric to predict accuracy \n",
    "print ('Accuracy Score :', round( accuracy_score(y_test, y_pred)*100 ,2) )\n"
   ]
  },
  {
   "cell_type": "markdown",
   "metadata": {},
   "source": [
    "### EnsembleVoteClassifier"
   ]
  },
  {
   "cell_type": "code",
   "execution_count": 45,
   "metadata": {},
   "outputs": [],
   "source": [
    "from mlxtend.classifier import EnsembleVoteClassifier\n",
    "from sklearn.metrics import classification_report\n",
    "\n",
    "logclf=LogisticRegression(penalty='l2',C=10, random_state=0)\n",
    "treeclf=RandomForestClassifier(max_depth=3,criterion='entropy',random_state=0)\n",
    "nb=BernoulliNB()\n",
    "\n",
    "mv_clf= EnsembleVoteClassifier(clfs=[logclf,treeclf,nb],weights=[71,68,65])\n",
    "mv_clf.fit(X_train,y_train)\n",
    "v_y_pred=mv_clf.predict(X_test)"
   ]
  },
  {
   "cell_type": "code",
   "execution_count": 46,
   "metadata": {},
   "outputs": [
    {
     "name": "stdout",
     "output_type": "stream",
     "text": [
      "Confusion Matrix\n",
      "[[39  9]\n",
      " [ 5 38]]\n",
      "Accuracy                  :  84.62\n",
      "Classification Error Rate :  15.38\n",
      "specificity               :  80.85\n",
      "sensitivity or Recall     :  88.64\n",
      "Precision                 :  81.25\n",
      "f1 score                  :  84.78\n"
     ]
    }
   ],
   "source": [
    "conf_mat = confusion_matrix(y_test, v_y_pred)\n",
    "\n",
    "print('Confusion Matrix')\n",
    "print(conf_mat)\n",
    "\n",
    "TP = conf_mat[0,0]\n",
    "TN = conf_mat[1,1]\n",
    "FP = conf_mat[0,1]\n",
    "FN = conf_mat[1,0]\n",
    "\n",
    "accuracyv = round( ((TP+TN)/(TP+TN+FP+FN))*100 , 2)\n",
    "errorv = round( 100 - accuracyv , 2)\n",
    "\n",
    "specificityv = round( ((TN) / (TN + FP))*100 , 2)\n",
    "sensitivityv = round( ((TP) / (TP+FN))*100 , 2)\n",
    "Recallv = round( ((TP)/(TP+FN))*100 , 2) #sensitivity\n",
    "Precisionv = round(  ((TP)/(TP+FP))*100 , 2)\n",
    "f1_scorev = round( ((2*Precisionv*Recallv)/(Precisionv+Recallv)) , 2)\n",
    "\n",
    "print(\"Accuracy                  : \",accuracyv)\n",
    "print('Classification Error Rate : ', errorv)\n",
    "print('specificity               : ',specificityv)\n",
    "print('sensitivity or Recall     : ',sensitivityv)\n",
    "print('Precision                 : ',Precisionv)\n",
    "print('f1 score                  : ',f1_scorev)\n"
   ]
  },
  {
   "cell_type": "markdown",
   "metadata": {},
   "source": [
    "## Gradient boosting"
   ]
  },
  {
   "cell_type": "code",
   "execution_count": 47,
   "metadata": {},
   "outputs": [],
   "source": [
    "from sklearn.ensemble import GradientBoostingClassifier\n",
    "gbc = GradientBoostingClassifier()\n",
    "gbc.fit(X_train, y_train)\n",
    "gb_y_pred = gbc.predict(X_test)\n"
   ]
  },
  {
   "cell_type": "code",
   "execution_count": 48,
   "metadata": {},
   "outputs": [
    {
     "name": "stdout",
     "output_type": "stream",
     "text": [
      "Confusion Matrix\n",
      "[[38 10]\n",
      " [ 7 36]]\n",
      "Accuracy                  :  81.32\n",
      "Classification Error Rate :  18.68\n",
      "specificity               :  78.26\n",
      "sensitivity or Recall     :  84.44\n",
      "Precision                 :  79.17\n",
      "f1 score                  :  81.72\n"
     ]
    }
   ],
   "source": [
    "conf_mat = confusion_matrix(y_test, gb_y_pred)\n",
    "print('Confusion Matrix')\n",
    "print(conf_mat)\n",
    "\n",
    "TP = conf_mat[0,0]\n",
    "TN = conf_mat[1,1]\n",
    "FP = conf_mat[0,1]\n",
    "FN = conf_mat[1,0]\n",
    "\n",
    "accuracyb = round ( ((TP+TN)/(TP+TN+FP+FN))*100 , 2)\n",
    "errorb = round ( 100 - accuracyb , 2)\n",
    "\n",
    "specificityb = round (  ((TN) / (TN + FP))*100 , 2)\n",
    "sensitivityb = round (  ((TP) / (TP+FN))*100 , 2)\n",
    "Recallb = round ( ((TP)/(TP+FN))*100 , 2) #sensitivity\n",
    "Precisionb = round ( ((TP)/(TP+FP))*100 , 2)\n",
    "f1_scoreb = round ( ((2*Precisionb*Recallb)/(Precisionb+Recallb)) , 2)\n",
    "\n",
    "print(\"Accuracy                  : \",accuracyb)\n",
    "print('Classification Error Rate : ', errorb)\n",
    "print('specificity               : ',specificityb)\n",
    "print('sensitivity or Recall     : ',sensitivityb)\n",
    "print('Precision                 : ',Precisionb)\n",
    "print('f1 score                  : ',f1_scoreb)"
   ]
  },
  {
   "cell_type": "markdown",
   "metadata": {},
   "source": [
    "## Adaboost"
   ]
  },
  {
   "cell_type": "code",
   "execution_count": 49,
   "metadata": {},
   "outputs": [],
   "source": [
    "from sklearn.ensemble import AdaBoostClassifier\n",
    "\n",
    "classifier = AdaBoostClassifier(DecisionTreeClassifier(max_depth=2),n_estimators=100)\n",
    "classifier.fit(X_train, y_train)\n",
    "ada_y_pred=classifier.predict(X_test)"
   ]
  },
  {
   "cell_type": "code",
   "execution_count": 50,
   "metadata": {},
   "outputs": [
    {
     "name": "stdout",
     "output_type": "stream",
     "text": [
      "Confusion Matrix\n",
      "[[32 16]\n",
      " [ 8 35]]\n",
      "Accuracy                  :  73.63\n",
      "Classification Error Rate :  26.37\n",
      "specificity               :  68.63\n",
      "sensitivity or Recall     :  80.0\n",
      "Precision                 :  66.67\n",
      "f1 score                  :  72.73\n"
     ]
    }
   ],
   "source": [
    "conf_mat = confusion_matrix(y_test, ada_y_pred)\n",
    "\n",
    "print('Confusion Matrix')\n",
    "print(conf_mat)\n",
    "\n",
    "TP = conf_mat[0,0]\n",
    "TN = conf_mat[1,1]\n",
    "FP = conf_mat[0,1]\n",
    "FN = conf_mat[1,0]\n",
    "\n",
    "accuracya = round ( ((TP+TN)/(TP+TN+FP+FN))*100 , 2)\n",
    "errora = round ( 100 - accuracya , 2)\n",
    "\n",
    "specificitya = round ( ((TN) / (TN + FP))*100 , 2)\n",
    "sensitivitya = round ( ((TP) / (TP+FN))*100 , 2)\n",
    "Recalla = round ( ((TP)/(TP+FN))*100 , 2) #sensitivity\n",
    "Precisiona = round ( ((TP)/(TP+FP))*100 , 2)\n",
    "f1_scorea = round ( ((2*Precisiona*Recalla)/(Precisiona+Recalla)) , 2)\n",
    "\n",
    "print(\"Accuracy                  : \",accuracya)\n",
    "print('Classification Error Rate : ', errora)\n",
    "print('specificity               : ',specificitya)\n",
    "print('sensitivity or Recall     : ',sensitivitya)\n",
    "print('Precision                 : ',Precisiona)\n",
    "print('f1 score                  : ',f1_scorea)"
   ]
  },
  {
   "cell_type": "code",
   "execution_count": null,
   "metadata": {},
   "outputs": [],
   "source": []
  },
  {
   "cell_type": "markdown",
   "metadata": {},
   "source": [
    "# HYBRID MODEL"
   ]
  },
  {
   "cell_type": "code",
   "execution_count": 51,
   "metadata": {},
   "outputs": [],
   "source": [
    "table={'Algorithm':['Logistic Regression','Random Forest','Naive Bayes','Decision Tree','SVM','KNN','GB','Adaboost'],\n",
    "    'Accuracy':[accuracyl,accuracyr,accuracyn,accuracyd,accuracys,accuracyk,accuracyb,accuracya],\n",
    "       'Classification Error Rate':[errorl,errorr,errorn,errord,errors,errork,errorb,errora],\n",
    "        'Specificity':[specificityl,specificityr,specificityn,specificityd,specificitys,specificityk,specificityb,specificitya],\n",
    "        'Sensitivity':[sensitivityl,sensitivityr,sensitivityn,sensitivityd,sensitivitys,sensitivityk,sensitivityb,sensitivitya],\n",
    "        'Precision': [Precisionl,Precisionr,Precisionn,Precisiond,Precisions,Precisionk,Precisionb,Precisiona]\n",
    "}\n"
   ]
  },
  {
   "cell_type": "code",
   "execution_count": 52,
   "metadata": {},
   "outputs": [
    {
     "data": {
      "text/html": [
       "<div>\n",
       "<style scoped>\n",
       "    .dataframe tbody tr th:only-of-type {\n",
       "        vertical-align: middle;\n",
       "    }\n",
       "\n",
       "    .dataframe tbody tr th {\n",
       "        vertical-align: top;\n",
       "    }\n",
       "\n",
       "    .dataframe thead th {\n",
       "        text-align: right;\n",
       "    }\n",
       "</style>\n",
       "<table border=\"1\" class=\"dataframe\">\n",
       "  <thead>\n",
       "    <tr style=\"text-align: right;\">\n",
       "      <th></th>\n",
       "      <th>Algorithm</th>\n",
       "      <th>Accuracy</th>\n",
       "      <th>Classification Error Rate</th>\n",
       "      <th>Specificity</th>\n",
       "      <th>Sensitivity</th>\n",
       "      <th>Precision</th>\n",
       "    </tr>\n",
       "  </thead>\n",
       "  <tbody>\n",
       "    <tr>\n",
       "      <th>0</th>\n",
       "      <td>Logistic Regression</td>\n",
       "      <td>85.71</td>\n",
       "      <td>14.29</td>\n",
       "      <td>82.61</td>\n",
       "      <td>88.89</td>\n",
       "      <td>83.33</td>\n",
       "    </tr>\n",
       "    <tr>\n",
       "      <th>1</th>\n",
       "      <td>Random Forest</td>\n",
       "      <td>83.52</td>\n",
       "      <td>16.48</td>\n",
       "      <td>85.00</td>\n",
       "      <td>82.35</td>\n",
       "      <td>87.50</td>\n",
       "    </tr>\n",
       "    <tr>\n",
       "      <th>6</th>\n",
       "      <td>GB</td>\n",
       "      <td>81.32</td>\n",
       "      <td>18.68</td>\n",
       "      <td>78.26</td>\n",
       "      <td>84.44</td>\n",
       "      <td>79.17</td>\n",
       "    </tr>\n",
       "    <tr>\n",
       "      <th>2</th>\n",
       "      <td>Naive Bayes</td>\n",
       "      <td>80.22</td>\n",
       "      <td>19.78</td>\n",
       "      <td>79.07</td>\n",
       "      <td>81.25</td>\n",
       "      <td>81.25</td>\n",
       "    </tr>\n",
       "    <tr>\n",
       "      <th>3</th>\n",
       "      <td>Decision Tree</td>\n",
       "      <td>73.63</td>\n",
       "      <td>26.37</td>\n",
       "      <td>73.17</td>\n",
       "      <td>74.00</td>\n",
       "      <td>77.08</td>\n",
       "    </tr>\n",
       "    <tr>\n",
       "      <th>7</th>\n",
       "      <td>Adaboost</td>\n",
       "      <td>73.63</td>\n",
       "      <td>26.37</td>\n",
       "      <td>68.63</td>\n",
       "      <td>80.00</td>\n",
       "      <td>66.67</td>\n",
       "    </tr>\n",
       "    <tr>\n",
       "      <th>5</th>\n",
       "      <td>KNN</td>\n",
       "      <td>68.13</td>\n",
       "      <td>31.87</td>\n",
       "      <td>65.91</td>\n",
       "      <td>70.21</td>\n",
       "      <td>68.75</td>\n",
       "    </tr>\n",
       "    <tr>\n",
       "      <th>4</th>\n",
       "      <td>SVM</td>\n",
       "      <td>64.84</td>\n",
       "      <td>35.16</td>\n",
       "      <td>68.97</td>\n",
       "      <td>62.90</td>\n",
       "      <td>81.25</td>\n",
       "    </tr>\n",
       "  </tbody>\n",
       "</table>\n",
       "</div>"
      ],
      "text/plain": [
       "             Algorithm  Accuracy  Classification Error Rate  Specificity  \\\n",
       "0  Logistic Regression     85.71                      14.29        82.61   \n",
       "1        Random Forest     83.52                      16.48        85.00   \n",
       "6                   GB     81.32                      18.68        78.26   \n",
       "2          Naive Bayes     80.22                      19.78        79.07   \n",
       "3        Decision Tree     73.63                      26.37        73.17   \n",
       "7             Adaboost     73.63                      26.37        68.63   \n",
       "5                  KNN     68.13                      31.87        65.91   \n",
       "4                  SVM     64.84                      35.16        68.97   \n",
       "\n",
       "   Sensitivity  Precision  \n",
       "0        88.89      83.33  \n",
       "1        82.35      87.50  \n",
       "6        84.44      79.17  \n",
       "2        81.25      81.25  \n",
       "3        74.00      77.08  \n",
       "7        80.00      66.67  \n",
       "5        70.21      68.75  \n",
       "4        62.90      81.25  "
      ]
     },
     "execution_count": 52,
     "metadata": {},
     "output_type": "execute_result"
    }
   ],
   "source": [
    "clf_table = pd.DataFrame(table,columns=['Algorithm','Accuracy','Classification Error Rate','Specificity','Sensitivity','Precision'])\n",
    "clf_table = clf_table.sort_values(by ='Classification Error Rate')\n",
    "clf_table"
   ]
  },
  {
   "cell_type": "code",
   "execution_count": 53,
   "metadata": {
    "collapsed": true
   },
   "outputs": [
    {
     "name": "stdout",
     "output_type": "stream",
     "text": [
      "[[0.16971508 0.83028492]\n",
      " [0.17089499 0.82910501]\n",
      " [0.29142515 0.70857485]\n",
      " [0.40132149 0.59867851]\n",
      " [0.1822301  0.8177699 ]\n",
      " [0.19364622 0.80635378]\n",
      " [0.09654205 0.90345795]\n",
      " [0.00258964 0.99741036]\n",
      " [0.66386726 0.33613274]\n",
      " [0.64054229 0.35945771]\n",
      " [0.9732711  0.0267289 ]\n",
      " [0.96053174 0.03946826]\n",
      " [0.33504698 0.66495302]\n",
      " [0.00968211 0.99031789]\n",
      " [0.00289454 0.99710546]\n",
      " [0.85346031 0.14653969]\n",
      " [0.93619814 0.06380186]\n",
      " [0.07751529 0.92248471]\n",
      " [0.00479269 0.99520731]\n",
      " [0.80590158 0.19409842]\n",
      " [0.52560253 0.47439747]\n",
      " [0.89146689 0.10853311]\n",
      " [0.00332157 0.99667843]\n",
      " [0.88906272 0.11093728]\n",
      " [0.00279093 0.99720907]\n",
      " [0.94729056 0.05270944]\n",
      " [0.89110155 0.10889845]\n",
      " [0.19331309 0.80668691]\n",
      " [0.18932015 0.81067985]\n",
      " [0.32020426 0.67979574]\n",
      " [0.89045394 0.10954606]\n",
      " [0.36826858 0.63173142]\n",
      " [0.94171813 0.05828187]\n",
      " [0.50454362 0.49545638]\n",
      " [0.89326918 0.10673082]\n",
      " [0.25425513 0.74574487]\n",
      " [0.05836476 0.94163524]\n",
      " [0.89744231 0.10255769]\n",
      " [0.01183325 0.98816675]\n",
      " [0.65375122 0.34624878]\n",
      " [0.01352479 0.98647521]\n",
      " [0.47367622 0.52632378]\n",
      " [0.09505016 0.90494984]\n",
      " [0.95250349 0.04749651]\n",
      " [0.80384153 0.19615847]\n",
      " [0.04439274 0.95560726]\n",
      " [0.95121285 0.04878715]\n",
      " [0.95224912 0.04775088]\n",
      " [0.20915216 0.79084784]\n",
      " [0.0523515  0.9476485 ]\n",
      " [0.95804948 0.04195052]\n",
      " [0.92625541 0.07374459]\n",
      " [0.93988822 0.06011178]\n",
      " [0.91792766 0.08207234]\n",
      " [0.05641168 0.94358832]\n",
      " [0.6643073  0.3356927 ]\n",
      " [0.94214087 0.05785913]\n",
      " [0.00808861 0.99191139]\n",
      " [0.04378268 0.95621732]\n",
      " [0.01156935 0.98843065]\n",
      " [0.89886326 0.10113674]\n",
      " [0.96746329 0.03253671]\n",
      " [0.53318372 0.46681628]\n",
      " [0.67906579 0.32093421]\n",
      " [0.88132707 0.11867293]\n",
      " [0.01641977 0.98358023]\n",
      " [0.38008333 0.61991667]\n",
      " [0.94899919 0.05100081]\n",
      " [0.14709607 0.85290393]\n",
      " [0.03343013 0.96656987]\n",
      " [0.51299141 0.48700859]\n",
      " [0.92307966 0.07692034]\n",
      " [0.94117654 0.05882346]\n",
      " [0.25623388 0.74376612]\n",
      " [0.9033309  0.0966691 ]\n",
      " [0.06150191 0.93849809]\n",
      " [0.42000111 0.57999889]\n",
      " [0.04525792 0.95474208]\n",
      " [0.63014703 0.36985297]\n",
      " [0.07205989 0.92794011]\n",
      " [0.46432409 0.53567591]\n",
      " [0.779462   0.220538  ]\n",
      " [0.95534163 0.04465837]\n",
      " [0.88479562 0.11520438]\n",
      " [0.07956409 0.92043591]\n",
      " [0.58335571 0.41664429]\n",
      " [0.30199767 0.69800233]\n",
      " [0.9490557  0.0509443 ]\n",
      " [0.24649431 0.75350569]\n",
      " [0.12790594 0.87209406]\n",
      " [0.5011526  0.4988474 ]]\n",
      "logistic listing,,.,.,.\n",
      "[0.16971508397349677, 0.17089499206803493, 0.29142514646626827, 0.4013214929654155, 0.18223010342414103, 0.19364621671257243, 0.09654205352670009, 0.0025896372209853746, 0.663867257453993, 0.6405422947891077, 0.97327109636802, 0.9605317353512491, 0.3350469760925481, 0.00968211356670079, 0.002894542475325168, 0.8534603117305735, 0.9361981405351659, 0.07751529177630545, 0.004792686758317455, 0.8059015815106444, 0.5256025318810498, 0.8914668896867554, 0.0033215669536037495, 0.8890627244462083, 0.002790933723554101, 0.9472905588145557, 0.891101548133223, 0.19331309317518397, 0.18932014764501637, 0.32020426054697637, 0.8904539365847921, 0.3682685807546029, 0.9417181315492097, 0.5045436227000428, 0.8932691844386844, 0.2542551313894085, 0.05836475705216082, 0.897442313452986, 0.011833248167843147, 0.6537512164029743, 0.013524786703308589, 0.473676221195077, 0.095050155628848, 0.9525034938743681, 0.8038415315961867, 0.0443927431001947, 0.9512128546542843, 0.9522491150766385, 0.20915216255522118, 0.052351496432616496, 0.9580494826203364, 0.9262554088396685, 0.9398882175987763, 0.9179276578902734, 0.05641168223324888, 0.6643073008146245, 0.9421408679417828, 0.008088606048114677, 0.0437826810855767, 0.01156934556176381, 0.8988632591040934, 0.9674632857828219, 0.5331837213729136, 0.6790657914707746, 0.8813270734774205, 0.016419766041119388, 0.3800833301994595, 0.9489991907050181, 0.1470960696622865, 0.03343012919140098, 0.5129914125563962, 0.9230796610339524, 0.9411765356863298, 0.2562338766356188, 0.9033309021559965, 0.061501909641616614, 0.4200011114963432, 0.04525791962156278, 0.6301470294454801, 0.0720598935598773, 0.4643240911085931, 0.7794620005707372, 0.9553416276372629, 0.8847956221435117, 0.07956409491089389, 0.5833557097671502, 0.3019976650125631, 0.949055698368242, 0.24649430844294418, 0.12790593924584914, 0.5011526022494736]\n",
      "[0.8302849160265032, 0.8291050079319651, 0.7085748535337317, 0.5986785070345845, 0.817769896575859, 0.8063537832874276, 0.9034579464732999, 0.9974103627790146, 0.33613274254600695, 0.3594577052108923, 0.02672890363198, 0.03946826464875081, 0.6649530239074519, 0.9903178864332992, 0.9971054575246748, 0.1465396882694266, 0.06380185946483409, 0.9224847082236945, 0.9952073132416825, 0.1940984184893556, 0.4743974681189502, 0.1085331103132446, 0.9966784330463963, 0.11093727555379176, 0.9972090662764459, 0.052709441185444336, 0.10889845186677709, 0.806686906824816, 0.8106798523549836, 0.6797957394530236, 0.10954606341520787, 0.6317314192453971, 0.05828186845079032, 0.4954563772999572, 0.10673081556131556, 0.7457448686105915, 0.9416352429478392, 0.10255768654701398, 0.9881667518321569, 0.3462487835970257, 0.9864752132966914, 0.526323778804923, 0.904949844371152, 0.0474965061256319, 0.1961584684038134, 0.9556072568998053, 0.04878714534571573, 0.04775088492336159, 0.7908478374447788, 0.9476485035673835, 0.04195051737966361, 0.07374459116033148, 0.06011178240122371, 0.08207234210972662, 0.9435883177667511, 0.3356926991853754, 0.05785913205821725, 0.9919113939518853, 0.9562173189144233, 0.9884306544382362, 0.1011367408959066, 0.032536714217178075, 0.46681627862708647, 0.3209342085292254, 0.11867292652257959, 0.9835802339588806, 0.6199166698005405, 0.05100080929498181, 0.8529039303377135, 0.966569870808599, 0.48700858744360376, 0.07692033896604761, 0.058823464313670214, 0.7437661233643812, 0.09666909784400346, 0.9384980903583834, 0.5799988885036568, 0.9547420803784372, 0.36985297055451993, 0.9279401064401227, 0.5356759088914069, 0.2205379994292628, 0.04465837236273709, 0.11520437785648831, 0.9204359050891061, 0.4166442902328497, 0.6980023349874369, 0.05094430163175799, 0.7535056915570558, 0.8720940607541509, 0.49884739775052644]\n"
     ]
    }
   ],
   "source": [
    "#Logistic Regression\n",
    "lg=LogisticRegression()\n",
    "lg.fit(X_train,y_train)\n",
    "\n",
    "#predicted probabilities \n",
    "print(lg.predict_proba(X_test))\n",
    "\n",
    "pp1=lg.predict_proba(X_test)\n",
    "res3, res4=map(list,zip(*pp1))\n",
    "print(\"logistic listing,,.,.,.\")\n",
    "print(res3)\n",
    "print(res4)"
   ]
  },
  {
   "cell_type": "code",
   "execution_count": 54,
   "metadata": {
    "collapsed": true
   },
   "outputs": [
    {
     "name": "stdout",
     "output_type": "stream",
     "text": [
      "[[0.58 0.42]\n",
      " [0.16 0.84]\n",
      " [0.16 0.84]\n",
      " [0.34 0.66]\n",
      " [0.06 0.94]\n",
      " [0.15 0.85]\n",
      " [0.04 0.96]\n",
      " [0.06 0.94]\n",
      " [0.69 0.31]\n",
      " [0.38 0.62]\n",
      " [0.94 0.06]\n",
      " [0.93 0.07]\n",
      " [0.21 0.79]\n",
      " [0.13 0.87]\n",
      " [0.06 0.94]\n",
      " [0.88 0.12]\n",
      " [0.94 0.06]\n",
      " [0.2  0.8 ]\n",
      " [0.18 0.82]\n",
      " [0.78 0.22]\n",
      " [0.6  0.4 ]\n",
      " [0.96 0.04]\n",
      " [0.03 0.97]\n",
      " [0.99 0.01]\n",
      " [0.05 0.95]\n",
      " [0.99 0.01]\n",
      " [0.84 0.16]\n",
      " [0.24 0.76]\n",
      " [0.34 0.66]\n",
      " [0.25 0.75]\n",
      " [0.87 0.13]\n",
      " [0.26 0.74]\n",
      " [0.96 0.04]\n",
      " [0.57 0.43]\n",
      " [0.94 0.06]\n",
      " [0.52 0.48]\n",
      " [0.   1.  ]\n",
      " [0.72 0.28]\n",
      " [0.01 0.99]\n",
      " [0.65 0.35]\n",
      " [0.07 0.93]\n",
      " [0.73 0.27]\n",
      " [0.32 0.68]\n",
      " [0.9  0.1 ]\n",
      " [0.63 0.37]\n",
      " [0.14 0.86]\n",
      " [0.97 0.03]\n",
      " [0.95 0.05]\n",
      " [0.17 0.83]\n",
      " [0.6  0.4 ]\n",
      " [0.76 0.24]\n",
      " [1.   0.  ]\n",
      " [0.96 0.04]\n",
      " [0.88 0.12]\n",
      " [0.11 0.89]\n",
      " [0.64 0.36]\n",
      " [0.81 0.19]\n",
      " [0.3  0.7 ]\n",
      " [0.05 0.95]\n",
      " [0.28 0.72]\n",
      " [0.59 0.41]\n",
      " [0.98 0.02]\n",
      " [0.56 0.44]\n",
      " [0.44 0.56]\n",
      " [0.68 0.32]\n",
      " [0.19 0.81]\n",
      " [0.58 0.42]\n",
      " [0.92 0.08]\n",
      " [0.27 0.73]\n",
      " [0.08 0.92]\n",
      " [0.5  0.5 ]\n",
      " [0.88 0.12]\n",
      " [0.51 0.49]\n",
      " [0.5  0.5 ]\n",
      " [0.92 0.08]\n",
      " [0.25 0.75]\n",
      " [0.45 0.55]\n",
      " [0.   1.  ]\n",
      " [0.76 0.24]\n",
      " [0.05 0.95]\n",
      " [0.68 0.32]\n",
      " [0.82 0.18]\n",
      " [0.92 0.08]\n",
      " [0.84 0.16]\n",
      " [0.03 0.97]\n",
      " [0.73 0.27]\n",
      " [0.16 0.84]\n",
      " [1.   0.  ]\n",
      " [0.31 0.69]\n",
      " [0.35 0.65]\n",
      " [0.57 0.43]]\n",
      "listing,,.,.,.\n",
      "[0.58, 0.16, 0.16, 0.34, 0.06, 0.15, 0.04, 0.06, 0.69, 0.38, 0.94, 0.93, 0.21, 0.13, 0.06, 0.88, 0.94, 0.2, 0.18, 0.78, 0.6, 0.96, 0.03, 0.99, 0.05, 0.99, 0.84, 0.24, 0.34, 0.25, 0.87, 0.26, 0.96, 0.57, 0.94, 0.52, 0.0, 0.72, 0.01, 0.65, 0.07, 0.73, 0.32, 0.9, 0.63, 0.14, 0.97, 0.95, 0.17, 0.6, 0.76, 1.0, 0.96, 0.88, 0.11, 0.64, 0.81, 0.3, 0.05, 0.28, 0.59, 0.98, 0.56, 0.44, 0.68, 0.19, 0.58, 0.92, 0.27, 0.08, 0.5, 0.88, 0.51, 0.5, 0.92, 0.25, 0.45, 0.0, 0.76, 0.05, 0.68, 0.82, 0.92, 0.84, 0.03, 0.73, 0.16, 1.0, 0.31, 0.35, 0.57]\n",
      "[0.42, 0.84, 0.84, 0.66, 0.94, 0.85, 0.96, 0.94, 0.31, 0.62, 0.06, 0.07, 0.79, 0.87, 0.94, 0.12, 0.06, 0.8, 0.82, 0.22, 0.4, 0.04, 0.97, 0.01, 0.95, 0.01, 0.16, 0.76, 0.66, 0.75, 0.13, 0.74, 0.04, 0.43, 0.06, 0.48, 1.0, 0.28, 0.99, 0.35, 0.93, 0.27, 0.68, 0.1, 0.37, 0.86, 0.03, 0.05, 0.83, 0.4, 0.24, 0.0, 0.04, 0.12, 0.89, 0.36, 0.19, 0.7, 0.95, 0.72, 0.41, 0.02, 0.44, 0.56, 0.32, 0.81, 0.42, 0.08, 0.73, 0.92, 0.5, 0.12, 0.49, 0.5, 0.08, 0.75, 0.55, 1.0, 0.24, 0.95, 0.32, 0.18, 0.08, 0.16, 0.97, 0.27, 0.84, 0.0, 0.69, 0.65, 0.43]\n"
     ]
    }
   ],
   "source": [
    "#Random Forest\n",
    "rf=RandomForestClassifier(n_estimators=100,random_state=1,n_jobs=-1)\n",
    "rf.fit(X_train,y_train)\n",
    "\n",
    "print(rf.predict_proba(X_test))\n",
    "pp=rf.predict_proba(X_test)\n",
    "res1, res2=map(list,zip(*pp))\n",
    "print(\"listing,,.,.,.\")\n",
    "print(res1)\n",
    "print(res2)"
   ]
  },
  {
   "cell_type": "code",
   "execution_count": 55,
   "metadata": {},
   "outputs": [
    {
     "name": "stdout",
     "output_type": "stream",
     "text": [
      "optimum weight obtained:  0.67\n"
     ]
    }
   ],
   "source": [
    "scores= []\n",
    "s=lg.predict_proba(X_test)\n",
    "r=rf.predict_proba(X_test)\n",
    "\n",
    "for w in range(0, 100):\n",
    "    w=w/100\n",
    "    scores.append(log_loss(y_test,w*r+(1-w)*s))\n",
    "\n",
    "b=min(scores)\n",
    "we=scores.index(b)/100\n",
    "print('optimum weight obtained: ',we)"
   ]
  },
  {
   "cell_type": "code",
   "execution_count": 56,
   "metadata": {},
   "outputs": [
    {
     "name": "stdout",
     "output_type": "stream",
     "text": [
      "Predicted values\n",
      "[1, 1, 1, 1, 1, 1, 1, 1, 0, 1, 0, 0, 1, 1, 1, 0, 0, 1, 1, 0, 0, 0, 1, 0, 1, 0, 0, 1, 1, 1, 0, 1, 0, 0, 0, 1, 1, 0, 1, 0, 1, 0, 1, 0, 0, 1, 0, 0, 1, 1, 0, 0, 0, 0, 1, 0, 0, 1, 1, 1, 0, 0, 0, 0, 0, 1, 0, 0, 1, 1, 0, 0, 0, 1, 0, 1, 1, 1, 0, 1, 0, 0, 0, 0, 1, 0, 1, 0, 1, 1, 0]\n"
     ]
    }
   ],
   "source": [
    "y_pred= []\n",
    "for i in range(len(res1)):\n",
    "    a1=we*res1[i]+(1-we)*res3[i]\n",
    "    a2=we*res2[i]+(1-we)*res4[i]\n",
    "    if a1>a2:\n",
    "        y_pred.append(0)\n",
    "    else:\n",
    "        y_pred.append(1)\n",
    "\n",
    "#Predicted values for testing data\n",
    "print(\"Predicted values\")\n",
    "print(y_pred)"
   ]
  },
  {
   "cell_type": "markdown",
   "metadata": {},
   "source": [
    "### Performance metrics for Hybrid model"
   ]
  },
  {
   "cell_type": "code",
   "execution_count": 57,
   "metadata": {},
   "outputs": [
    {
     "name": "stdout",
     "output_type": "stream",
     "text": [
      "Confusion Matrix\n",
      "[[42  6]\n",
      " [ 5 38]]\n",
      "Accuracy                  :  87.91\n",
      "Classification Error rate :  12.09\n",
      "specificity               :  86.36\n",
      "sensitivity or Recall     :  89.36\n",
      "Precision                 :  87.5\n",
      "f1 score                  :  88.42\n"
     ]
    }
   ],
   "source": [
    "print('Confusion Matrix')\n",
    "conf_mat = confusion_matrix(y_test, y_pred)\n",
    "print(conf_mat)\n",
    "\n",
    "TP = conf_mat[0,0]\n",
    "TN = conf_mat[1,1]\n",
    "FP = conf_mat[0,1]\n",
    "FN = conf_mat[1,0]\n",
    "\n",
    "accuracyh = round ( ((TP+TN)/(TP+TN+FP+FN))*100 , 2)\n",
    "errorh =  round ( 100-accuracyh , 2)\n",
    "specificityh =  round ( ((TN) / (TN + FP))*100 , 2)\n",
    "sensitivityh =  round ( ((TP) / (TP+FN))*100 , 2)\n",
    "Recallh =  round ( ((TP)/(TP+FN))*100 , 2) #sensitivity\n",
    "Precisionh =  round ( ((TP)/(TP+FP))*100 , 2)\n",
    "f1_scoreh =  round ( ((2*Precisionh*Recallh)/(Precisionh+Recallh)) , 2)\n",
    "\n",
    "print(\"Accuracy                  : \",accuracyh)\n",
    "print(\"Classification Error rate : \",errorh)\n",
    "print('specificity               : ',specificityh)\n",
    "print('sensitivity or Recall     : ',sensitivityh)\n",
    "print('Precision                 : ',Precisionh)\n",
    "print('f1 score                  : ',f1_scoreh)\n"
   ]
  },
  {
   "cell_type": "markdown",
   "metadata": {},
   "source": [
    "# Deep Learning"
   ]
  },
  {
   "cell_type": "code",
   "execution_count": 58,
   "metadata": {},
   "outputs": [],
   "source": [
    "X=data[['cp','thal','thalach','oldpeak','ca','exang']]\n",
    "\n",
    "X_train, X_test, y_train, y_test = train_test_split(X, y_values, test_size=0.3, random_state=42)\n"
   ]
  },
  {
   "cell_type": "code",
   "execution_count": 59,
   "metadata": {
    "collapsed": true
   },
   "outputs": [
    {
     "name": "stdout",
     "output_type": "stream",
     "text": [
      "WARNING:tensorflow:From C:\\Users\\dell\\anaconda3\\lib\\site-packages\\tensorflow\\python\\ops\\init_ops.py:1251: calling VarianceScaling.__init__ (from tensorflow.python.ops.init_ops) with dtype is deprecated and will be removed in a future version.\n",
      "Instructions for updating:\n",
      "Call initializer instance with the dtype argument instead of passing it to the constructor\n",
      "WARNING:tensorflow:From C:\\Users\\dell\\anaconda3\\lib\\site-packages\\tensorflow\\python\\ops\\nn_impl.py:180: add_dispatch_support.<locals>.wrapper (from tensorflow.python.ops.array_ops) is deprecated and will be removed in a future version.\n",
      "Instructions for updating:\n",
      "Use tf.where in 2.0, which has the same broadcast rule as np.where\n",
      "Epoch 1/100\n",
      "212/212 [==============================] - 1s 4ms/sample - loss: 0.6904 - acc: 0.5519\n",
      "Epoch 2/100\n",
      "212/212 [==============================] - 0s 75us/sample - loss: 0.6793 - acc: 0.6274\n",
      "Epoch 3/100\n",
      "212/212 [==============================] - 0s 57us/sample - loss: 0.6549 - acc: 0.6934\n",
      "Epoch 4/100\n",
      "212/212 [==============================] - 0s 75us/sample - loss: 0.6252 - acc: 0.7783\n",
      "Epoch 5/100\n",
      "212/212 [==============================] - 0s 75us/sample - loss: 0.6062 - acc: 0.8160\n",
      "Epoch 6/100\n",
      "212/212 [==============================] - 0s 75us/sample - loss: 0.5876 - acc: 0.7925\n",
      "Epoch 7/100\n",
      "212/212 [==============================] - 0s 75us/sample - loss: 0.5746 - acc: 0.8019\n",
      "Epoch 8/100\n",
      "212/212 [==============================] - 0s 75us/sample - loss: 0.5580 - acc: 0.8019\n",
      "Epoch 9/100\n",
      "212/212 [==============================] - 0s 75us/sample - loss: 0.5416 - acc: 0.8019\n",
      "Epoch 10/100\n",
      "212/212 [==============================] - 0s 94us/sample - loss: 0.5199 - acc: 0.8066\n",
      "Epoch 11/100\n",
      "212/212 [==============================] - 0s 94us/sample - loss: 0.5012 - acc: 0.8113\n",
      "Epoch 12/100\n",
      "212/212 [==============================] - 0s 94us/sample - loss: 0.4848 - acc: 0.8019\n",
      "Epoch 13/100\n",
      "212/212 [==============================] - 0s 94us/sample - loss: 0.4813 - acc: 0.8160\n",
      "Epoch 14/100\n",
      "212/212 [==============================] - 0s 94us/sample - loss: 0.4654 - acc: 0.8255\n",
      "Epoch 15/100\n",
      "212/212 [==============================] - 0s 94us/sample - loss: 0.4569 - acc: 0.8019\n",
      "Epoch 16/100\n",
      "212/212 [==============================] - 0s 94us/sample - loss: 0.4677 - acc: 0.8113\n",
      "Epoch 17/100\n",
      "212/212 [==============================] - 0s 75us/sample - loss: 0.4621 - acc: 0.7925\n",
      "Epoch 18/100\n",
      "212/212 [==============================] - 0s 75us/sample - loss: 0.4412 - acc: 0.8160\n",
      "Epoch 19/100\n",
      "212/212 [==============================] - 0s 94us/sample - loss: 0.4477 - acc: 0.8019\n",
      "Epoch 20/100\n",
      "212/212 [==============================] - 0s 75us/sample - loss: 0.4333 - acc: 0.8208\n",
      "Epoch 21/100\n",
      "212/212 [==============================] - 0s 94us/sample - loss: 0.4271 - acc: 0.8208\n",
      "Epoch 22/100\n",
      "212/212 [==============================] - 0s 75us/sample - loss: 0.4224 - acc: 0.8302\n",
      "Epoch 23/100\n",
      "212/212 [==============================] - 0s 94us/sample - loss: 0.4202 - acc: 0.8302\n",
      "Epoch 24/100\n",
      "212/212 [==============================] - 0s 94us/sample - loss: 0.4191 - acc: 0.8302\n",
      "Epoch 25/100\n",
      "212/212 [==============================] - 0s 75us/sample - loss: 0.4162 - acc: 0.8255\n",
      "Epoch 26/100\n",
      "212/212 [==============================] - 0s 83us/sample - loss: 0.4092 - acc: 0.8349\n",
      "Epoch 27/100\n",
      "212/212 [==============================] - 0s 131us/sample - loss: 0.4100 - acc: 0.8349\n",
      "Epoch 28/100\n",
      "212/212 [==============================] - 0s 94us/sample - loss: 0.4203 - acc: 0.8160\n",
      "Epoch 29/100\n",
      "212/212 [==============================] - 0s 75us/sample - loss: 0.4050 - acc: 0.8396\n",
      "Epoch 30/100\n",
      "212/212 [==============================] - 0s 36us/sample - loss: 0.4081 - acc: 0.8349\n",
      "Epoch 31/100\n",
      "212/212 [==============================] - 0s 94us/sample - loss: 0.4000 - acc: 0.8349\n",
      "Epoch 32/100\n",
      "212/212 [==============================] - 0s 94us/sample - loss: 0.4027 - acc: 0.8491\n",
      "Epoch 33/100\n",
      "212/212 [==============================] - 0s 79us/sample - loss: 0.3970 - acc: 0.8396\n",
      "Epoch 34/100\n",
      "212/212 [==============================] - 0s 75us/sample - loss: 0.3999 - acc: 0.8443\n",
      "Epoch 35/100\n",
      "212/212 [==============================] - 0s 75us/sample - loss: 0.3997 - acc: 0.8349\n",
      "Epoch 36/100\n",
      "212/212 [==============================] - 0s 94us/sample - loss: 0.3968 - acc: 0.8443\n",
      "Epoch 37/100\n",
      "212/212 [==============================] - 0s 75us/sample - loss: 0.3951 - acc: 0.8443\n",
      "Epoch 38/100\n",
      "212/212 [==============================] - 0s 75us/sample - loss: 0.3980 - acc: 0.8302\n",
      "Epoch 39/100\n",
      "212/212 [==============================] - 0s 94us/sample - loss: 0.3987 - acc: 0.8349\n",
      "Epoch 40/100\n",
      "212/212 [==============================] - 0s 94us/sample - loss: 0.3901 - acc: 0.8443\n",
      "Epoch 41/100\n",
      "212/212 [==============================] - 0s 94us/sample - loss: 0.4020 - acc: 0.8208\n",
      "Epoch 42/100\n",
      "212/212 [==============================] - 0s 75us/sample - loss: 0.3921 - acc: 0.8302\n",
      "Epoch 43/100\n",
      "212/212 [==============================] - 0s 94us/sample - loss: 0.4100 - acc: 0.8302\n",
      "Epoch 44/100\n",
      "212/212 [==============================] - 0s 75us/sample - loss: 0.3958 - acc: 0.8349\n",
      "Epoch 45/100\n",
      "212/212 [==============================] - 0s 32us/sample - loss: 0.3852 - acc: 0.8443\n",
      "Epoch 46/100\n",
      "212/212 [==============================] - 0s 75us/sample - loss: 0.3886 - acc: 0.8349\n",
      "Epoch 47/100\n",
      "212/212 [==============================] - 0s 75us/sample - loss: 0.3868 - acc: 0.8396\n",
      "Epoch 48/100\n",
      "212/212 [==============================] - 0s 75us/sample - loss: 0.3866 - acc: 0.8349\n",
      "Epoch 49/100\n",
      "212/212 [==============================] - 0s 75us/sample - loss: 0.3845 - acc: 0.8443\n",
      "Epoch 50/100\n",
      "212/212 [==============================] - 0s 75us/sample - loss: 0.3898 - acc: 0.8443\n",
      "Epoch 51/100\n",
      "212/212 [==============================] - 0s 75us/sample - loss: 0.3906 - acc: 0.8443\n",
      "Epoch 52/100\n",
      "212/212 [==============================] - 0s 75us/sample - loss: 0.3969 - acc: 0.8349\n",
      "Epoch 53/100\n",
      "212/212 [==============================] - 0s 75us/sample - loss: 0.3869 - acc: 0.8396\n",
      "Epoch 54/100\n",
      "212/212 [==============================] - 0s 75us/sample - loss: 0.3837 - acc: 0.8302\n",
      "Epoch 55/100\n",
      "212/212 [==============================] - 0s 75us/sample - loss: 0.3821 - acc: 0.8349\n",
      "Epoch 56/100\n",
      "212/212 [==============================] - 0s 75us/sample - loss: 0.3858 - acc: 0.8443\n",
      "Epoch 57/100\n",
      "212/212 [==============================] - 0s 75us/sample - loss: 0.3861 - acc: 0.8302\n",
      "Epoch 58/100\n",
      "212/212 [==============================] - 0s 75us/sample - loss: 0.3835 - acc: 0.8349\n",
      "Epoch 59/100\n",
      "212/212 [==============================] - 0s 75us/sample - loss: 0.3820 - acc: 0.8443\n",
      "Epoch 60/100\n",
      "212/212 [==============================] - 0s 75us/sample - loss: 0.3803 - acc: 0.8396\n",
      "Epoch 61/100\n",
      "212/212 [==============================] - 0s 75us/sample - loss: 0.3796 - acc: 0.8349\n",
      "Epoch 62/100\n",
      "212/212 [==============================] - 0s 75us/sample - loss: 0.3853 - acc: 0.8349\n",
      "Epoch 63/100\n",
      "212/212 [==============================] - 0s 75us/sample - loss: 0.3812 - acc: 0.8349\n",
      "Epoch 64/100\n",
      "212/212 [==============================] - 0s 75us/sample - loss: 0.3814 - acc: 0.8349\n",
      "Epoch 65/100\n",
      "212/212 [==============================] - 0s 94us/sample - loss: 0.3793 - acc: 0.8396\n",
      "Epoch 66/100\n",
      "212/212 [==============================] - 0s 75us/sample - loss: 0.3880 - acc: 0.8349\n",
      "Epoch 67/100\n",
      "212/212 [==============================] - 0s 75us/sample - loss: 0.3812 - acc: 0.8443\n",
      "Epoch 68/100\n",
      "212/212 [==============================] - 0s 75us/sample - loss: 0.3770 - acc: 0.8349\n",
      "Epoch 69/100\n",
      "212/212 [==============================] - 0s 75us/sample - loss: 0.3787 - acc: 0.8349\n",
      "Epoch 70/100\n",
      "212/212 [==============================] - 0s 75us/sample - loss: 0.3833 - acc: 0.8302\n",
      "Epoch 71/100\n",
      "212/212 [==============================] - 0s 75us/sample - loss: 0.3765 - acc: 0.8443\n",
      "Epoch 72/100\n",
      "212/212 [==============================] - 0s 75us/sample - loss: 0.3813 - acc: 0.8443\n",
      "Epoch 73/100\n",
      "212/212 [==============================] - 0s 75us/sample - loss: 0.3821 - acc: 0.8302\n",
      "Epoch 74/100\n",
      "212/212 [==============================] - 0s 75us/sample - loss: 0.3760 - acc: 0.8349\n",
      "Epoch 75/100\n",
      "212/212 [==============================] - 0s 75us/sample - loss: 0.3779 - acc: 0.8443\n",
      "Epoch 76/100\n"
     ]
    },
    {
     "name": "stdout",
     "output_type": "stream",
     "text": [
      "212/212 [==============================] - 0s 75us/sample - loss: 0.3816 - acc: 0.8255\n",
      "Epoch 77/100\n",
      "212/212 [==============================] - 0s 94us/sample - loss: 0.3814 - acc: 0.8349\n",
      "Epoch 78/100\n",
      "212/212 [==============================] - 0s 75us/sample - loss: 0.3786 - acc: 0.8349\n",
      "Epoch 79/100\n",
      "212/212 [==============================] - 0s 75us/sample - loss: 0.3759 - acc: 0.8302\n",
      "Epoch 80/100\n",
      "212/212 [==============================] - 0s 75us/sample - loss: 0.3770 - acc: 0.8349\n",
      "Epoch 81/100\n",
      "212/212 [==============================] - 0s 75us/sample - loss: 0.3800 - acc: 0.8302\n",
      "Epoch 82/100\n",
      "212/212 [==============================] - 0s 75us/sample - loss: 0.3750 - acc: 0.8396\n",
      "Epoch 83/100\n",
      "212/212 [==============================] - 0s 75us/sample - loss: 0.3834 - acc: 0.8349\n",
      "Epoch 84/100\n",
      "212/212 [==============================] - 0s 75us/sample - loss: 0.3775 - acc: 0.8349\n",
      "Epoch 85/100\n",
      "212/212 [==============================] - 0s 75us/sample - loss: 0.3808 - acc: 0.8302\n",
      "Epoch 86/100\n",
      "212/212 [==============================] - 0s 8us/sample - loss: 0.3766 - acc: 0.8396\n",
      "Epoch 87/100\n",
      "212/212 [==============================] - 0s 75us/sample - loss: 0.3877 - acc: 0.8255\n",
      "Epoch 88/100\n",
      "212/212 [==============================] - 0s 75us/sample - loss: 0.3795 - acc: 0.8302\n",
      "Epoch 89/100\n",
      "212/212 [==============================] - 0s 75us/sample - loss: 0.3759 - acc: 0.8396\n",
      "Epoch 90/100\n",
      "212/212 [==============================] - 0s 75us/sample - loss: 0.3808 - acc: 0.8255\n",
      "Epoch 91/100\n",
      "212/212 [==============================] - 0s 75us/sample - loss: 0.3753 - acc: 0.8491\n",
      "Epoch 92/100\n",
      "212/212 [==============================] - 0s 75us/sample - loss: 0.3754 - acc: 0.8349\n",
      "Epoch 93/100\n",
      "212/212 [==============================] - 0s 75us/sample - loss: 0.3758 - acc: 0.8255\n",
      "Epoch 94/100\n",
      "212/212 [==============================] - 0s 75us/sample - loss: 0.3748 - acc: 0.8302\n",
      "Epoch 95/100\n",
      "212/212 [==============================] - 0s 94us/sample - loss: 0.3763 - acc: 0.8349\n",
      "Epoch 96/100\n",
      "212/212 [==============================] - 0s 75us/sample - loss: 0.3738 - acc: 0.8349\n",
      "Epoch 97/100\n",
      "212/212 [==============================] - 0s 57us/sample - loss: 0.3827 - acc: 0.8491\n",
      "Epoch 98/100\n",
      "212/212 [==============================] - 0s 75us/sample - loss: 0.3747 - acc: 0.8349\n",
      "Epoch 99/100\n",
      "212/212 [==============================] - 0s 75us/sample - loss: 0.3835 - acc: 0.8349\n",
      "Epoch 100/100\n",
      "212/212 [==============================] - 0s 75us/sample - loss: 0.3738 - acc: 0.8349\n",
      "91/91 [==============================] - 0s 670us/sample - loss: 0.4082 - acc: 0.8352\n"
     ]
    }
   ],
   "source": [
    "from tensorflow.keras.models import Sequential\n",
    "from tensorflow.keras.layers import Dense\n",
    "model = Sequential()\n",
    "model.add(Dense(30, input_dim=6, activation='tanh'))\n",
    "model.add(Dense(20, activation='tanh'))\n",
    "model.add(Dense(1, activation='sigmoid'))\n",
    "model.compile(optimizer='adam',loss='binary_crossentropy',metrics=['accuracy'])\n",
    "history=model.fit(X_train,y_train, epochs=100, verbose=1)\n",
    "Y_pred = model.predict(X_test)\n",
    "score=model.evaluate(X_test,y_test)\n"
   ]
  },
  {
   "cell_type": "code",
   "execution_count": 60,
   "metadata": {},
   "outputs": [
    {
     "name": "stdout",
     "output_type": "stream",
     "text": [
      "Model: \"sequential\"\n",
      "_________________________________________________________________\n",
      "Layer (type)                 Output Shape              Param #   \n",
      "=================================================================\n",
      "dense (Dense)                (None, 30)                210       \n",
      "_________________________________________________________________\n",
      "dense_1 (Dense)              (None, 20)                620       \n",
      "_________________________________________________________________\n",
      "dense_2 (Dense)              (None, 1)                 21        \n",
      "=================================================================\n",
      "Total params: 851\n",
      "Trainable params: 851\n",
      "Non-trainable params: 0\n",
      "_________________________________________________________________\n",
      "score\n",
      "[0.40821266567314063, 0.83516484]\n"
     ]
    }
   ],
   "source": [
    "model.summary()\n",
    "score = model.evaluate(X_test, y_test, verbose=0)\n",
    "print(\"score\")\n",
    "print(score)"
   ]
  },
  {
   "cell_type": "code",
   "execution_count": 61,
   "metadata": {},
   "outputs": [
    {
     "name": "stdout",
     "output_type": "stream",
     "text": [
      "Accuracy                  :  83.52\n",
      "Classification Error Rate :  16.48\n"
     ]
    }
   ],
   "source": [
    "deepaccuracy = round( score[1]*100 , 2)\n",
    "deeperror = round( 100 - deepaccuracy , 2)\n",
    "print('Accuracy                  : ',deepaccuracy)\n",
    "print('Classification Error Rate : ',deeperror)"
   ]
  },
  {
   "cell_type": "code",
   "execution_count": 62,
   "metadata": {},
   "outputs": [
    {
     "name": "stdout",
     "output_type": "stream",
     "text": [
      "dict_keys(['loss', 'acc'])\n"
     ]
    }
   ],
   "source": [
    "print(history.history.keys())"
   ]
  },
  {
   "cell_type": "code",
   "execution_count": 63,
   "metadata": {},
   "outputs": [
    {
     "data": {
      "image/png": "[encoded data removed]",
      "text/plain": [
       "<Figure size 432x288 with 1 Axes>"
      ]
     },
     "metadata": {
      "needs_background": "light"
     },
     "output_type": "display_data"
    },
    {
     "data": {
      "image/png": "[encoded data removed]",
      "text/plain": [
       "<Figure size 432x288 with 1 Axes>"
      ]
     },
     "metadata": {
      "needs_background": "light"
     },
     "output_type": "display_data"
    }
   ],
   "source": [
    "\n",
    "plt.plot(history.history['acc'])\n",
    "#plt.plot(history.history['val_acc'])\n",
    "plt.title('model accuracy')\n",
    "plt.xlabel('epoch')\n",
    "plt.ylabel('accuracy')\n",
    "plt.legend(['train','test'],loc='upper left')\n",
    "plt.show()\n",
    "plt.plot(history.history['loss'])\n",
    "#plt.plot(history.history['val_loss'])\n",
    "plt.title('model loss')\n",
    "plt.xlabel('epoch')\n",
    "plt.ylabel('loss')\n",
    "\n",
    "plt.legend(['train','test'],loc='upper left')\n",
    "plt.show()"
   ]
  },
  {
   "cell_type": "code",
   "execution_count": null,
   "metadata": {},
   "outputs": [],
   "source": []
  },
  {
   "cell_type": "markdown",
   "metadata": {},
   "source": [
    "# Genetic algorithm"
   ]
  },
  {
   "cell_type": "code",
   "execution_count": 64,
   "metadata": {},
   "outputs": [
    {
     "name": "stdout",
     "output_type": "stream",
     "text": [
      "Selected Features: [ True False  True False False False False  True  True  True  True  True\n",
      "  True]\n"
     ]
    }
   ],
   "source": [
    "X = data.iloc[:,:-1].values\n",
    "y = data.iloc[:, 13].values\n",
    "\n",
    "est = LogisticRegression()\n",
    "\n",
    "class GeneticSelector():\n",
    "    def __init__(self, estimator, n_gen, size, n_best, n_rand, \n",
    "                 n_children, mutation_rate):\n",
    "        # Estimator \n",
    "        self.estimator = estimator\n",
    "        # Number of generations\n",
    "        self.n_gen = n_gen\n",
    "        # Number of chromosomes in population\n",
    "        self.size = size\n",
    "        # Number of best chromosomes to select\n",
    "        self.n_best = n_best\n",
    "        # Number of random chromosomes to select\n",
    "        self.n_rand = n_rand\n",
    "        # Number of children created during crossover\n",
    "        self.n_children = n_children\n",
    "        # Probablity of chromosome mutation\n",
    "        self.mutation_rate = mutation_rate\n",
    "        \n",
    "        if int((self.n_best + self.n_rand) / 2) * self.n_children != self.size:\n",
    "            raise ValueError(\"The population size is not stable.\")  \n",
    "            \n",
    "    def initilize(self):\n",
    "        population = []\n",
    "        for i in range(self.size):\n",
    "            chromosome = np.ones(self.n_features, dtype=np.bool)\n",
    "            mask = np.random.rand(len(chromosome)) < 0.3\n",
    "            chromosome[mask] = False\n",
    "            population.append(chromosome)\n",
    "        return population\n",
    "    \n",
    "\n",
    "    def fitness(self, population):\n",
    "        X, y = self.dataset\n",
    "        scores = []\n",
    "        for chromosome in population:\n",
    "            score = -1.0 * np.mean(cross_val_score(self.estimator, X[:,chromosome], y, \n",
    "                                                       cv=5, \n",
    "                                                       scoring=\"neg_mean_squared_error\"))\n",
    "            scores.append(score)\n",
    "        scores, population = np.array(scores), np.array(population) \n",
    "        inds = np.argsort(scores)\n",
    "        return list(scores[inds]), list(population[inds,:])\n",
    "\n",
    "    def select(self, population_sorted):\n",
    "        population_next = []\n",
    "        for i in range(self.n_best):\n",
    "            population_next.append(population_sorted[i])\n",
    "        for i in range(self.n_rand):\n",
    "            population_next.append(random.choice(population_sorted))\n",
    "        random.shuffle(population_next)\n",
    "        return population_next\n",
    "\n",
    "    def crossover(self, population):\n",
    "        population_next = []\n",
    "        for i in range(int(len(population)/2)):\n",
    "            for j in range(self.n_children):\n",
    "                chromosome1, chromosome2 = population[i], population[len(population)-1-i]\n",
    "                child = chromosome1\n",
    "                mask = np.random.rand(len(child)) > 0.5\n",
    "                child[mask] = chromosome2[mask]\n",
    "                population_next.append(child)\n",
    "        return population_next\n",
    "\t\n",
    "    def mutate(self, population):\n",
    "        population_next = []\n",
    "        for i in range(len(population)):\n",
    "            chromosome = population[i]\n",
    "            if random.random() < self.mutation_rate:\n",
    "                mask = np.random.rand(len(chromosome)) < 0.05\n",
    "                chromosome[mask] = False\n",
    "            population_next.append(chromosome)\n",
    "        return population_next\n",
    "\n",
    "    def generate(self, population):\n",
    "        # Selection, crossover and mutation\n",
    "        scores_sorted, population_sorted = self.fitness(population)\n",
    "        population = self.select(population_sorted)\n",
    "        population = self.crossover(population)\n",
    "        population = self.mutate(population)\n",
    "        # History\n",
    "        self.chromosomes_best.append(population_sorted[0])\n",
    "        self.scores_best.append(scores_sorted[0])\n",
    "        self.scores_avg.append(np.mean(scores_sorted))\n",
    "        \n",
    "        return population\n",
    "    \n",
    "\n",
    "    def fit(self, X, y):\n",
    " \n",
    "        self.chromosomes_best = []\n",
    "        self.scores_best, self.scores_avg  = [], []\n",
    "        \n",
    "        self.dataset = X, y\n",
    "        self.n_features = X.shape[1]\n",
    "        \n",
    "        population = self.initilize()\n",
    "        for i in range(self.n_gen):\n",
    "            population = self.generate(population)\n",
    "            \n",
    "        return self \n",
    "    \n",
    "    \n",
    "    def support_(self):\n",
    "        return self.chromosomes_best[-1]\n",
    "\n",
    "\n",
    "sel = GeneticSelector(estimator=LogisticRegression(), \n",
    "                      n_gen=7, size=200, n_best=40, n_rand=40, \n",
    "                      n_children=5, mutation_rate=0.05)\n",
    "sel.fit(X,y)\n",
    "score = cross_val_score(est, X, y,scoring=\"accuracy\")\n",
    "\n",
    "print(\"Selected Features: %s\" % sel.support_())\n"
   ]
  },
  {
   "cell_type": "code",
   "execution_count": 65,
   "metadata": {},
   "outputs": [
    {
     "data": {
      "text/html": [
       "<div>\n",
       "<style scoped>\n",
       "    .dataframe tbody tr th:only-of-type {\n",
       "        vertical-align: middle;\n",
       "    }\n",
       "\n",
       "    .dataframe tbody tr th {\n",
       "        vertical-align: top;\n",
       "    }\n",
       "\n",
       "    .dataframe thead th {\n",
       "        text-align: right;\n",
       "    }\n",
       "</style>\n",
       "<table border=\"1\" class=\"dataframe\">\n",
       "  <thead>\n",
       "    <tr style=\"text-align: right;\">\n",
       "      <th></th>\n",
       "      <th>rank</th>\n",
       "      <th>feature</th>\n",
       "    </tr>\n",
       "  </thead>\n",
       "  <tbody>\n",
       "    <tr>\n",
       "      <th>7</th>\n",
       "      <td>1</td>\n",
       "      <td>thalach</td>\n",
       "    </tr>\n",
       "    <tr>\n",
       "      <th>9</th>\n",
       "      <td>2</td>\n",
       "      <td>oldpeak</td>\n",
       "    </tr>\n",
       "    <tr>\n",
       "      <th>2</th>\n",
       "      <td>3</td>\n",
       "      <td>cp</td>\n",
       "    </tr>\n",
       "    <tr>\n",
       "      <th>12</th>\n",
       "      <td>4</td>\n",
       "      <td>thal</td>\n",
       "    </tr>\n",
       "    <tr>\n",
       "      <th>11</th>\n",
       "      <td>5</td>\n",
       "      <td>ca</td>\n",
       "    </tr>\n",
       "    <tr>\n",
       "      <th>0</th>\n",
       "      <td>6</td>\n",
       "      <td>age</td>\n",
       "    </tr>\n",
       "    <tr>\n",
       "      <th>3</th>\n",
       "      <td>7</td>\n",
       "      <td>trestbps</td>\n",
       "    </tr>\n",
       "    <tr>\n",
       "      <th>4</th>\n",
       "      <td>8</td>\n",
       "      <td>chol</td>\n",
       "    </tr>\n",
       "    <tr>\n",
       "      <th>8</th>\n",
       "      <td>9</td>\n",
       "      <td>exang</td>\n",
       "    </tr>\n",
       "    <tr>\n",
       "      <th>10</th>\n",
       "      <td>10</td>\n",
       "      <td>slope</td>\n",
       "    </tr>\n",
       "    <tr>\n",
       "      <th>1</th>\n",
       "      <td>11</td>\n",
       "      <td>sex</td>\n",
       "    </tr>\n",
       "    <tr>\n",
       "      <th>6</th>\n",
       "      <td>12</td>\n",
       "      <td>restecg</td>\n",
       "    </tr>\n",
       "    <tr>\n",
       "      <th>5</th>\n",
       "      <td>13</td>\n",
       "      <td>fbs</td>\n",
       "    </tr>\n",
       "  </tbody>\n",
       "</table>\n",
       "</div>"
      ],
      "text/plain": [
       "    rank   feature\n",
       "7      1   thalach\n",
       "9      2   oldpeak\n",
       "2      3        cp\n",
       "12     4      thal\n",
       "11     5        ca\n",
       "0      6       age\n",
       "3      7  trestbps\n",
       "4      8      chol\n",
       "8      9     exang\n",
       "10    10     slope\n",
       "1     11       sex\n",
       "6     12   restecg\n",
       "5     13       fbs"
      ]
     },
     "execution_count": 65,
     "metadata": {},
     "output_type": "execute_result"
    }
   ],
   "source": [
    "X=data[['age','sex','cp','trestbps','chol','fbs','restecg','thalach','exang','oldpeak','slope','ca','thal','target']]\n",
    "\n",
    "feature_selected = pd.DataFrame(list(zip(sel.support_(),X)),columns=['feature','selected'])\n",
    "feature_selected = feature_rank.sort_values(by ='rank')\n",
    "feature_selected"
   ]
  },
  {
   "cell_type": "code",
   "execution_count": 66,
   "metadata": {},
   "outputs": [
    {
     "name": "stdout",
     "output_type": "stream",
     "text": [
      "Accuracy                  :  81.83\n",
      "Classification Error Rate :  18.17\n"
     ]
    }
   ],
   "source": [
    "accuracyg = round( 100 * np.mean(score) , 2)\n",
    "#print(\"Accuracy : {:.2f}\".format(100*np.mean(score)))\n",
    "print('Accuracy                  : ',accuracyg)\n",
    "\n",
    "#errorg=100-100*np.mean(score)\n",
    "errorg = round( 100 - accuracyg , 2 )\n",
    "print('Classification Error Rate : ',errorg)"
   ]
  },
  {
   "cell_type": "markdown",
   "metadata": {},
   "source": [
    "# Results"
   ]
  },
  {
   "cell_type": "code",
   "execution_count": 67,
   "metadata": {},
   "outputs": [],
   "source": [
    "table1={'Algorithm':['Naive Bayes','Logistic Regression','Decision Tree','Random Forest','SVM','KNN','Voting','Gradient Boosting','Adaboost','Hybrid','Deep Learning','Genetic algorithm'],\n",
    "    'Accuracy':[accuracyn,accuracyl,accuracyd,accuracyr,accuracys,accuracyk,accuracyv,accuracyb,accuracya,accuracyh,deepaccuracy,accuracyg],\n",
    "       'Classification Error Rate':[errorn,errorl,errord,errorr,errors,errork,errorv,errorb,errora,errorh,deeperror,errorg]\n",
    "}"
   ]
  },
  {
   "cell_type": "code",
   "execution_count": 68,
   "metadata": {},
   "outputs": [],
   "source": [
    "table2=pd.DataFrame(table1,columns=['Algorithm','Accuracy','Classification Error Rate'])\n",
    "table2=table2.sort_values(by ='Classification Error Rate')"
   ]
  },
  {
   "cell_type": "code",
   "execution_count": 69,
   "metadata": {},
   "outputs": [
    {
     "data": {
      "text/html": [
       "<div>\n",
       "<style scoped>\n",
       "    .dataframe tbody tr th:only-of-type {\n",
       "        vertical-align: middle;\n",
       "    }\n",
       "\n",
       "    .dataframe tbody tr th {\n",
       "        vertical-align: top;\n",
       "    }\n",
       "\n",
       "    .dataframe thead th {\n",
       "        text-align: right;\n",
       "    }\n",
       "</style>\n",
       "<table border=\"1\" class=\"dataframe\">\n",
       "  <thead>\n",
       "    <tr style=\"text-align: right;\">\n",
       "      <th></th>\n",
       "      <th>Algorithm</th>\n",
       "      <th>Accuracy</th>\n",
       "      <th>Classification Error Rate</th>\n",
       "    </tr>\n",
       "  </thead>\n",
       "  <tbody>\n",
       "    <tr>\n",
       "      <th>9</th>\n",
       "      <td>Hybrid</td>\n",
       "      <td>87.91</td>\n",
       "      <td>12.09</td>\n",
       "    </tr>\n",
       "    <tr>\n",
       "      <th>1</th>\n",
       "      <td>Logistic Regression</td>\n",
       "      <td>85.71</td>\n",
       "      <td>14.29</td>\n",
       "    </tr>\n",
       "    <tr>\n",
       "      <th>6</th>\n",
       "      <td>Voting</td>\n",
       "      <td>84.62</td>\n",
       "      <td>15.38</td>\n",
       "    </tr>\n",
       "    <tr>\n",
       "      <th>3</th>\n",
       "      <td>Random Forest</td>\n",
       "      <td>83.52</td>\n",
       "      <td>16.48</td>\n",
       "    </tr>\n",
       "    <tr>\n",
       "      <th>10</th>\n",
       "      <td>Deep Learning</td>\n",
       "      <td>83.52</td>\n",
       "      <td>16.48</td>\n",
       "    </tr>\n",
       "    <tr>\n",
       "      <th>11</th>\n",
       "      <td>Genetic algorithm</td>\n",
       "      <td>81.83</td>\n",
       "      <td>18.17</td>\n",
       "    </tr>\n",
       "    <tr>\n",
       "      <th>7</th>\n",
       "      <td>Gradient Boosting</td>\n",
       "      <td>81.32</td>\n",
       "      <td>18.68</td>\n",
       "    </tr>\n",
       "    <tr>\n",
       "      <th>0</th>\n",
       "      <td>Naive Bayes</td>\n",
       "      <td>80.22</td>\n",
       "      <td>19.78</td>\n",
       "    </tr>\n",
       "    <tr>\n",
       "      <th>2</th>\n",
       "      <td>Decision Tree</td>\n",
       "      <td>73.63</td>\n",
       "      <td>26.37</td>\n",
       "    </tr>\n",
       "    <tr>\n",
       "      <th>8</th>\n",
       "      <td>Adaboost</td>\n",
       "      <td>73.63</td>\n",
       "      <td>26.37</td>\n",
       "    </tr>\n",
       "    <tr>\n",
       "      <th>5</th>\n",
       "      <td>KNN</td>\n",
       "      <td>68.13</td>\n",
       "      <td>31.87</td>\n",
       "    </tr>\n",
       "    <tr>\n",
       "      <th>4</th>\n",
       "      <td>SVM</td>\n",
       "      <td>64.84</td>\n",
       "      <td>35.16</td>\n",
       "    </tr>\n",
       "  </tbody>\n",
       "</table>\n",
       "</div>"
      ],
      "text/plain": [
       "              Algorithm  Accuracy  Classification Error Rate\n",
       "9                Hybrid     87.91                      12.09\n",
       "1   Logistic Regression     85.71                      14.29\n",
       "6                Voting     84.62                      15.38\n",
       "3         Random Forest     83.52                      16.48\n",
       "10        Deep Learning     83.52                      16.48\n",
       "11    Genetic algorithm     81.83                      18.17\n",
       "7     Gradient Boosting     81.32                      18.68\n",
       "0           Naive Bayes     80.22                      19.78\n",
       "2         Decision Tree     73.63                      26.37\n",
       "8              Adaboost     73.63                      26.37\n",
       "5                   KNN     68.13                      31.87\n",
       "4                   SVM     64.84                      35.16"
      ]
     },
     "execution_count": 69,
     "metadata": {},
     "output_type": "execute_result"
    }
   ],
   "source": [
    "table2"
   ]
  },
  {
   "cell_type": "markdown",
   "metadata": {},
   "source": [
    "# Graph"
   ]
  },
  {
   "cell_type": "code",
   "execution_count": 86,
   "metadata": {},
   "outputs": [
    {
     "data": {
      "image/png": "[encoded data removed]",
      "text/plain": [
       "<Figure size 432x288 with 1 Axes>"
      ]
     },
     "metadata": {
      "needs_background": "light"
     },
     "output_type": "display_data"
    }
   ],
   "source": [
    "objects = ('NB','LR','DT', 'RF', 'SVM','KNN','Voting','Gradient','Adaboost' ,'Hybrid','DL','GA')\n",
    "y_pos = np.arange(len(objects))\n",
    "performance = [accuracyn,accuracyl,accuracyd,accuracyr,accuracys,accuracyk,accuracyv,accuracyb,accuracya,accuracyh,deepaccuracy,accuracyg]\n",
    "\n",
    "plt.bar(y_pos, performance, align='center',width=0.7, alpha=0.8,color='navy')\n",
    "plt.xticks(y_pos, objects,rotation=75)\n",
    "plt.ylabel('Models')\n",
    "plt.title('Comparative Results')\n",
    "plt.show()"
   ]
  },
  {
   "cell_type": "code",
   "execution_count": 94,
   "metadata": {},
   "outputs": [
    {
     "data": {
      "image/png": "[encoded data removed]",
      "text/plain": [
       "<Figure size 432x288 with 1 Axes>"
      ]
     },
     "metadata": {
      "needs_background": "light"
     },
     "output_type": "display_data"
    }
   ],
   "source": [
    "objects = ('NB','LR','DT', 'RF', 'SVM','KNN','Voting','Gradient','Adaboost' ,'Hybrid','DL','GA')\n",
    "y_pos = np.arange(len(objects))\n",
    "performance = [accuracyn,accuracyl,accuracyd,accuracyr,accuracys,accuracyk,accuracyv,accuracyb,accuracya,accuracyh,deepaccuracy,accuracyg]\n",
    "\n",
    "plt.barh(objects,performance, align='center', alpha=0.6,color='navy')\n",
    "for index, value in enumerate(performance):\n",
    "    plt.text(value, index, str(value))\n",
    "\n",
    "#plt.xticks(y_pos, objects,rotation=50)\n",
    "plt.xlabel('Accuracy')\n",
    "plt.ylabel('Models')\n",
    "plt.title('Comparative Results')\n",
    "plt.show()"
   ]
  },
  {
   "cell_type": "code",
   "execution_count": 93,
   "metadata": {},
   "outputs": [
    {
     "data": {
      "image/png": "[encoded data removed]",
      "text/plain": [
       "<Figure size 432x288 with 1 Axes>"
      ]
     },
     "metadata": {
      "needs_background": "light"
     },
     "output_type": "display_data"
    }
   ],
   "source": [
    "plt.scatter(objects, performance)\n",
    "plt.plot(objects, performance, alpha=0.6,color='navy')\n",
    "plt.ylabel('Accuracy')\n",
    "plt.title('Comparative Results')\n",
    "plt.show()"
   ]
  },
  {
   "cell_type": "code",
   "execution_count": null,
   "metadata": {},
   "outputs": [],
   "source": []
  }
 ],
 "metadata": {
  "kernelspec": {
   "display_name": "Python 3",
   "language": "python",
   "name": "python3"
  },
  "language_info": {
   "codemirror_mode": {
    "name": "ipython",
    "version": 3
   },
   "file_extension": ".py",
   "mimetype": "text/x-python",
   "name": "python",
   "nbconvert_exporter": "python",
   "pygments_lexer": "ipython3",
   "version": "3.7.6"
  }
 },
 "nbformat": 4,
 "nbformat_minor": 4
}
